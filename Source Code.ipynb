{
 "cells": [
  {
   "cell_type": "markdown",
   "metadata": {},
   "source": [
    "<font size=\"7\">Harmony Source Code"
   ]
  },
  {
   "cell_type": "markdown",
   "metadata": {},
   "source": [
    "# <font color=\"gray\"> Setup Notebook"
   ]
  },
  {
   "cell_type": "markdown",
   "metadata": {},
   "source": [
    "## Load Stuff"
   ]
  },
  {
   "cell_type": "code",
   "execution_count": null,
   "metadata": {},
   "outputs": [],
   "source": [
    "from IPython.core.display import HTML, display, Javascript, clear_output\n",
    "from ipywidgets import *\n",
    "#import ipywidgets as ipw"
   ]
  },
  {
   "cell_type": "markdown",
   "metadata": {},
   "source": [
    "Create main class for all <font color=\"magenta\">Harmony</font> code."
   ]
  },
  {
   "cell_type": "code",
   "execution_count": null,
   "metadata": {},
   "outputs": [],
   "source": [
    "class Harmony:\n",
    "    pass "
   ]
  },
  {
   "cell_type": "markdown",
   "metadata": {},
   "source": [
    "Create objects to hold <font color=\"green\">widget</font> and <font color=\"orchid\">box</font> variables and <font color=\"blue\">functions</font>"
   ]
  },
  {
   "cell_type": "code",
   "execution_count": null,
   "metadata": {},
   "outputs": [],
   "source": [
    "Harmony.w = type('widgets',(),{})\n",
    "Harmony.b = type('boxes',(),{})\n",
    "Harmony.f = type('functions',(),{})"
   ]
  },
  {
   "cell_type": "code",
   "execution_count": null,
   "metadata": {},
   "outputs": [],
   "source": []
  },
  {
   "cell_type": "markdown",
   "metadata": {},
   "source": [
    "# <font color=\"green\"> Widget <font color=\"blue\">Selected Info</font>"
   ]
  },
  {
   "cell_type": "code",
   "execution_count": null,
   "metadata": {
    "cell_style": "split",
    "scrolled": true
   },
   "outputs": [],
   "source": [
    "Harmony.w.selected_text= HTML(\"<h2>Datasets: <font color='red'>None</font></h3><hr style='padding:0px; margin:0px'>\")\n",
    "#Harmony.w.selected_text.layout.padding=\"0 0 0 0\"\n",
    "Harmony.w.selected_text\n"
   ]
  },
  {
   "cell_type": "code",
   "execution_count": null,
   "metadata": {},
   "outputs": [],
   "source": []
  },
  {
   "cell_type": "markdown",
   "metadata": {},
   "source": [
    "# <font color=\"green\"> Widget <font color=\"skyblue\">Select Data Type</font>"
   ]
  },
  {
   "cell_type": "code",
   "execution_count": null,
   "metadata": {},
   "outputs": [],
   "source": [
    "Harmony.w.filetype= ToggleButtons( options=['Counts', 'TPM', 'FastQ'] )\n",
    "Harmony.w.filetype_text = HTML(\"<h3 >Load Data <small>from</h3>\") #style='padding:0px'\n",
    "Harmony.b.filetype = VBox([ Harmony.w.filetype_text, Harmony.w.filetype ], layout=Layout(align_items=\"center\", justify_content='center') )\n",
    "#Harmony.w.filetype_text.layout.padding= \"0 0 0 10px\"\n",
    "Harmony.b.filetype"
   ]
  },
  {
   "cell_type": "markdown",
   "metadata": {},
   "source": [
    "## <font color=\"blue\">Function</font> for <font color=\"skyblue\">Select Data Type"
   ]
  },
  {
   "cell_type": "code",
   "execution_count": null,
   "metadata": {},
   "outputs": [],
   "source": [
    "def dataType(b):\n",
    "    if Harmony.w.filetype.value == 'FastQ':\n",
    "        Harmony.b.fastq.layout.display = None\n",
    "        #Harmony.b.fastq.layout.visiblity = \"visible\"\n",
    "    else:\n",
    "        Harmony.b.fastq.layout.display = \"none\"\n",
    "        \n",
    "Harmony.f.dataType = dataType\n",
    "Harmony.w.filetype.observe( Harmony.f.dataType, names=\"value\" )"
   ]
  },
  {
   "cell_type": "markdown",
   "metadata": {},
   "source": [
    "# <font color=\"orchid\"> Box <font color=\"maroon\">Counts</font>"
   ]
  },
  {
   "cell_type": "markdown",
   "metadata": {},
   "source": [
    "##  <font color=\"green\">Widget</font> Loader"
   ]
  },
  {
   "cell_type": "code",
   "execution_count": null,
   "metadata": {},
   "outputs": [],
   "source": [
    "files = ! ls \n",
    "#html_files = [x for x in files if \".html\" in x ]\n",
    "\n",
    "Harmony.w.loader_text= HTML(\"<h5>File  &nbsp</h5> \")\n",
    "Harmony.w.loader_dropdown= Dropdown( options= files )\n",
    "Harmony.w.loader_refresh = Button( button_style=\"info\", description=\"\", icon='refresh', layout= Layout(width='auto') )\n",
    "Harmony.w.loader_refresh.layout.margin = \"2px 25px 2px 0px\" \n",
    "Harmony.w.loader_button = Button( button_style=\"primary\", description=\"Load\", layout= Layout(width='auto') )\n",
    "\n"
   ]
  },
  {
   "cell_type": "markdown",
   "metadata": {},
   "source": [
    "##  <font color=\"orchid\">Box</font> Loader"
   ]
  },
  {
   "cell_type": "code",
   "execution_count": null,
   "metadata": {},
   "outputs": [],
   "source": [
    "Harmony.b.loader= HBox([ Harmony.w.loader_text, Harmony.w.loader_dropdown, Harmony.w.loader_refresh, Harmony.w.loader_button  ])\n",
    "Harmony.b.loader.layout.align_items = \"center\"\n",
    "Harmony.b.loader.layout.justify_content='center'\n",
    "Harmony.b.loader.layout.padding='15px 0 0 0'\n",
    "Harmony.b.loader"
   ]
  },
  {
   "cell_type": "code",
   "execution_count": null,
   "metadata": {},
   "outputs": [],
   "source": []
  },
  {
   "cell_type": "code",
   "execution_count": null,
   "metadata": {},
   "outputs": [],
   "source": []
  },
  {
   "cell_type": "markdown",
   "metadata": {},
   "source": [
    "# <font color=\"orchid\"> Box <font color=\"orange\">TPM</font>"
   ]
  },
  {
   "cell_type": "code",
   "execution_count": null,
   "metadata": {},
   "outputs": [],
   "source": [
    "Harmony.b.loader"
   ]
  },
  {
   "cell_type": "code",
   "execution_count": null,
   "metadata": {},
   "outputs": [],
   "source": []
  },
  {
   "cell_type": "code",
   "execution_count": null,
   "metadata": {},
   "outputs": [],
   "source": []
  },
  {
   "cell_type": "markdown",
   "metadata": {},
   "source": [
    "# <font color=\"orchid\"> Box <font color=\"purple\">FastQ</font>"
   ]
  },
  {
   "cell_type": "markdown",
   "metadata": {},
   "source": [
    "## Box Widgets"
   ]
  },
  {
   "cell_type": "code",
   "execution_count": null,
   "metadata": {},
   "outputs": [],
   "source": [
    "Harmony.b.loader"
   ]
  },
  {
   "cell_type": "markdown",
   "metadata": {},
   "source": [
    "We add some additional to other than just the loader box"
   ]
  },
  {
   "cell_type": "code",
   "execution_count": null,
   "metadata": {
    "cell_style": "split"
   },
   "outputs": [],
   "source": [
    "Harmony.w.fastq_type_text = HTML(\"<h4>Reads Type  &nbsp</h5> \")\n",
    "Harmony.w.fastq_type = ToggleButtons( options=['Single', 'Double'] )\n",
    "\n",
    "Harmony.b.fastq_type= HBox([ Harmony.w.fastq_type_text, Harmony.w.fastq_type ])\n",
    "Harmony.b.fastq_type.layout.align_items = \"center\"\n",
    "Harmony.b.fastq_type.layout.justify_content = \"center\"\n",
    "Harmony.b.fastq_type"
   ]
  },
  {
   "cell_type": "markdown",
   "metadata": {},
   "source": [
    "We add a <font color=\"blue\">function</font> for the `w.fastq_type` selection"
   ]
  },
  {
   "cell_type": "code",
   "execution_count": null,
   "metadata": {},
   "outputs": [],
   "source": [
    "def fastqType(b):\n",
    "    if Harmony.w.fastq_type.value == 'Single':\n",
    "        Harmony.b.fastq_single.layout.visibility = \"visible\"\n",
    "    else:\n",
    "        Harmony.b.fastq_single.layout.visibility = \"hidden\"\n",
    "        \n",
    "Harmony.f.fastqType = fastqType\n",
    "Harmony.w.fastq_type.observe( Harmony.f.fastqType, names=\"value\" )"
   ]
  },
  {
   "cell_type": "code",
   "execution_count": null,
   "metadata": {},
   "outputs": [],
   "source": []
  },
  {
   "cell_type": "markdown",
   "metadata": {},
   "source": [
    "We add some additional stuff if it's Single end reads"
   ]
  },
  {
   "cell_type": "markdown",
   "metadata": {},
   "source": [
    "For single reads we ask users to  supply the length and standard deviation of the fragment length (not the read length). As is done on the [kallisto tutorial](https://pachterlab.github.io/kallisto/starting). The default values are 180 and 20 respectively."
   ]
  },
  {
   "cell_type": "code",
   "execution_count": null,
   "metadata": {
    "cell_style": "split"
   },
   "outputs": [],
   "source": [
    "Harmony.w.fastq_length = IntSlider(description=\"Length\",value=180, min=50, max=400) #, continuous_update=True \n",
    "Harmony.w.fastq_sd = IntSlider(description=\"SD\",value=20, min=5, max=40) #, continuous_update=True \n",
    "Harmony.w.fastq_filler= HTML(\"<h4>Reads Type  &nbsp</h5> \")\n",
    "Harmony.w.fastq_filler.layout.visibility = \"hidden\"\n",
    "Harmony.b.fastq_single=  HBox([ Harmony.w.fastq_filler , VBox([ Harmony.w.fastq_length, Harmony.w.fastq_sd])  ])\n",
    "Harmony.b.fastq_single.layout.justify_content='center'\n",
    "Harmony.b.fastq_single"
   ]
  },
  {
   "cell_type": "markdown",
   "metadata": {},
   "source": [
    "## FastQ Box"
   ]
  },
  {
   "cell_type": "code",
   "execution_count": null,
   "metadata": {},
   "outputs": [],
   "source": []
  },
  {
   "cell_type": "markdown",
   "metadata": {},
   "source": [
    "Combine `Harmony.b.fastq_type` and `Harmony.b.fastq_single` into a single `Harmony.b.fastq` <font color=\"orchid\">box</font>"
   ]
  },
  {
   "cell_type": "code",
   "execution_count": null,
   "metadata": {},
   "outputs": [],
   "source": [
    "Harmony.b.fastq = VBox([ Harmony.b.fastq_type, Harmony.b.fastq_single ])\n",
    "Harmony.b.fastq.layout.padding = \"20px 0 0 0 \"\n",
    "Harmony.b.fastq\n"
   ]
  },
  {
   "cell_type": "markdown",
   "metadata": {},
   "source": [
    "Initially don't display box."
   ]
  },
  {
   "cell_type": "code",
   "execution_count": null,
   "metadata": {},
   "outputs": [],
   "source": [
    "Harmony.b.fastq.layout.display = \"none\""
   ]
  },
  {
   "cell_type": "code",
   "execution_count": null,
   "metadata": {},
   "outputs": [],
   "source": []
  },
  {
   "cell_type": "markdown",
   "metadata": {},
   "source": [
    "# <font color=\"green\"> Widget <font color=\"red\">Reset</font>"
   ]
  },
  {
   "cell_type": "code",
   "execution_count": null,
   "metadata": {
    "cell_style": "split"
   },
   "outputs": [],
   "source": [
    "Harmony.w.reset = Button(description=\" Reset\", button_style=\"danger\")#, icon='refresh')\n",
    "Harmony.b.reset = HBox([Harmony.w.reset])\n",
    "Harmony.b.reset.layout.justify_content='center'\n",
    "Harmony.b.reset.layout.padding= \"15px 0 0 0\"\n",
    "Harmony.b.reset\n",
    "#Button(description=\"Logout\", button_style='Danger', layout= Layout(width='auto'))"
   ]
  },
  {
   "cell_type": "markdown",
   "metadata": {},
   "source": [
    "Reset button's <font color=\"blue\">function</font>"
   ]
  },
  {
   "cell_type": "code",
   "execution_count": null,
   "metadata": {},
   "outputs": [],
   "source": [
    "#def resetFunc(b):\n",
    "#    Harmony.b.fastq_single.layout.visibility = \"hidden\"  \n",
    "#    print(\"hello\")\n",
    "    \n",
    "#Harmony.w.reset.on_click( resetFunc )  "
   ]
  },
  {
   "cell_type": "code",
   "execution_count": null,
   "metadata": {},
   "outputs": [],
   "source": []
  },
  {
   "cell_type": "markdown",
   "metadata": {},
   "source": [
    "# Functions\n"
   ]
  },
  {
   "cell_type": "code",
   "execution_count": null,
   "metadata": {},
   "outputs": [],
   "source": [
    "def dataType(b):\n",
    "    if Harmony.w.filetype.value == 'FastQ':\n",
    "        Harmony.b.fastq.layout.visiblity = \"visible\"\n",
    "    else:\n",
    "        Harmony.b.fastq.layout.visiblity = \"hidden\"\n",
    "        \n",
    "        \n",
    "Harmony.f.dataType = dataType\n",
    "Harmony.w.filetype.observe( Harmony.f.dataType, names=\"value\" )"
   ]
  },
  {
   "cell_type": "code",
   "execution_count": null,
   "metadata": {},
   "outputs": [],
   "source": []
  },
  {
   "cell_type": "code",
   "execution_count": null,
   "metadata": {},
   "outputs": [],
   "source": [
    "#def fastqType(b):\n",
    "#    if Harmony.w.fastq_type.value == 'Single':\n",
    "#        Harmony.b.fastq_single.layout.visibility = \"visible\"\n",
    "#    else:\n",
    "#        Harmony.b.fastq_single.layout.visibility = \"hidden\"\n",
    "        \n",
    "#Harmony.f.fastqType = fastqType\n",
    "#Harmony.w.fastq_type.observe( Harmony.f.fastqType, names=\"value\" )"
   ]
  },
  {
   "cell_type": "markdown",
   "metadata": {},
   "source": [
    "# Combine Everything"
   ]
  },
  {
   "cell_type": "code",
   "execution_count": null,
   "metadata": {},
   "outputs": [],
   "source": []
  },
  {
   "cell_type": "code",
   "execution_count": null,
   "metadata": {
    "cell_style": "split"
   },
   "outputs": [],
   "source": [
    "Harmony.b.final= VBox([ Harmony.w.selected_text, Harmony.b.filetype, Harmony.b.loader, Harmony.b.fastq,  Harmony.b.reset ])\n",
    "Harmony.b.final\n"
   ]
  },
  {
   "cell_type": "code",
   "execution_count": null,
   "metadata": {},
   "outputs": [],
   "source": []
  },
  {
   "cell_type": "code",
   "execution_count": null,
   "metadata": {},
   "outputs": [],
   "source": []
  },
  {
   "cell_type": "code",
   "execution_count": null,
   "metadata": {},
   "outputs": [],
   "source": []
  }
 ],
 "metadata": {
  "hide_input": false,
  "kernelspec": {
   "display_name": "Python 3",
   "language": "python",
   "name": "python3"
  },
  "language_info": {
   "codemirror_mode": {
    "name": "ipython",
    "version": 3
   },
   "file_extension": ".py",
   "mimetype": "text/x-python",
   "name": "python",
   "nbconvert_exporter": "python",
   "pygments_lexer": "ipython3",
   "version": "3.7.3"
  },
  "toc": {
   "base_numbering": 1,
   "nav_menu": {},
   "number_sections": true,
   "sideBar": true,
   "skip_h1_title": false,
   "title_cell": "Table of Contents",
   "title_sidebar": "Contents",
   "toc_cell": false,
   "toc_position": {},
   "toc_section_display": true,
   "toc_window_display": false
  },
  "varInspector": {
   "cols": {
    "lenName": 16,
    "lenType": 16,
    "lenVar": 40
   },
   "kernels_config": {
    "python": {
     "delete_cmd_postfix": "",
     "delete_cmd_prefix": "del ",
     "library": "var_list.py",
     "varRefreshCmd": "print(var_dic_list())"
    },
    "r": {
     "delete_cmd_postfix": ") ",
     "delete_cmd_prefix": "rm(",
     "library": "var_list.r",
     "varRefreshCmd": "cat(var_dic_list()) "
    }
   },
   "types_to_exclude": [
    "module",
    "function",
    "builtin_function_or_method",
    "instance",
    "_Feature"
   ],
   "window_display": false
  },
  "widgets": {
   "application/vnd.jupyter.widget-state+json": {
    "state": {
     "00222839a1424af7a55154dc0ecf59cb": {
      "model_module": "@jupyter-widgets/controls",
      "model_module_version": "1.4.0",
      "model_name": "DropdownModel",
      "state": {
       "_options_labels": [
        "adjusted_matrix.csv",
        "adjusted_matrix_OLD.csv",
        "combat_seq.R",
        "count_matrix_OLD.csv",
        "COVID19",
        "Guinea-SDY1412",
        "Harmonize_Data.R",
        "harmonized_counts.csv",
        "Harmony RNA.ipynb",
        "hgnc_mapping.csv",
        "kallisto_test.R",
        "Mali-SDY1172",
        "Process Raw Data.ipynb",
        "RNA-Seq Harmonization.ipynb",
        "Run_Docker.txt",
        "semi_adjusted_matrix.csv",
        "semi_adjusted_matrix_OLD.csv",
        "subjects_summary_whole_blood.csv",
        "Tanzania-SDY1092",
        "unharmonized_counts.csv"
       ],
       "index": 0,
       "layout": "IPY_MODEL_9f1156da5709434482dfb7112a3e2a8c",
       "style": "IPY_MODEL_a0e7d1f84db4461eb94bcd6861925ef5"
      }
     },
     "00895970442140cd940b6dc2cf195d44": {
      "model_module": "@jupyter-widgets/base",
      "model_module_version": "1.1.0",
      "model_name": "LayoutModel",
      "state": {
       "align_items": "center",
       "justify_content": "center",
       "padding": "15px 0 0 0"
      }
     },
     "009d86bbd981494b81e67c11af034c31": {
      "model_module": "@jupyter-widgets/base",
      "model_module_version": "1.1.0",
      "model_name": "LayoutModel",
      "state": {}
     },
     "0156eeeefc9a49948100a2990aa18f1e": {
      "model_module": "@jupyter-widgets/controls",
      "model_module_version": "1.4.0",
      "model_name": "ButtonModel",
      "state": {
       "button_style": "danger",
       "description": " Reset",
       "layout": "IPY_MODEL_009d86bbd981494b81e67c11af034c31",
       "style": "IPY_MODEL_e547004619f948eb84a6ea5ec873a3d8"
      }
     },
     "0163ba8a1ebc4c41a1e8a82421dce5b3": {
      "model_module": "@jupyter-widgets/controls",
      "model_module_version": "1.4.0",
      "model_name": "DescriptionStyleModel",
      "state": {
       "description_width": ""
      }
     },
     "01cd8bca4cd14b929d721eaceaf7e7c8": {
      "model_module": "@jupyter-widgets/controls",
      "model_module_version": "1.4.0",
      "model_name": "DescriptionStyleModel",
      "state": {
       "description_width": ""
      }
     },
     "0343703539404457b5ac968ebee2238c": {
      "model_module": "@jupyter-widgets/controls",
      "model_module_version": "1.4.0",
      "model_name": "ButtonStyleModel",
      "state": {}
     },
     "0557b3299d8f4d74b19f3cdd4903cac4": {
      "model_module": "@jupyter-widgets/controls",
      "model_module_version": "1.4.0",
      "model_name": "DescriptionStyleModel",
      "state": {
       "description_width": ""
      }
     },
     "0628f09245b74e7abb22813934ee0f59": {
      "model_module": "@jupyter-widgets/controls",
      "model_module_version": "1.4.0",
      "model_name": "HBoxModel",
      "state": {
       "children": [
        "IPY_MODEL_00222839a1424af7a55154dc0ecf59cb",
        "IPY_MODEL_29c1150bd90b48a59fdd2d49f21321de",
        "IPY_MODEL_a4812e7bf59042b6b21976e17fbb4f45"
       ],
       "layout": "IPY_MODEL_64dba5c677454842869670ab8ba00984"
      }
     },
     "073a9d12e4d3488cbfc0c0f77204e97d": {
      "model_module": "@jupyter-widgets/controls",
      "model_module_version": "1.4.0",
      "model_name": "HTMLModel",
      "state": {
       "layout": "IPY_MODEL_9bcc42bd12e249dba2025b90ab824ca5",
       "style": "IPY_MODEL_a83a64b2ce544d1c8b3ad05afd4aa23a",
       "value": "<h3>Selected Data: <font color='red'>None</font></h3>"
      }
     },
     "08c969a4f37a40568a28e5a63db557fa": {
      "model_module": "@jupyter-widgets/controls",
      "model_module_version": "1.4.0",
      "model_name": "DescriptionStyleModel",
      "state": {
       "description_width": ""
      }
     },
     "0a70207d0c4a454c9c2254489504e959": {
      "model_module": "@jupyter-widgets/controls",
      "model_module_version": "1.4.0",
      "model_name": "HTMLMathModel",
      "state": {
       "layout": "IPY_MODEL_3a3b6a7852ab4b108e948a954e1bae03",
       "style": "IPY_MODEL_cee89d41a5634df99e61636f28d96ae7",
       "value": "<h3>Load Data <small>from</h3>"
      }
     },
     "0a718c7abae443eeb55755da9624505c": {
      "model_module": "@jupyter-widgets/base",
      "model_module_version": "1.1.0",
      "model_name": "LayoutModel",
      "state": {}
     },
     "0b5b8488d8594a80ba0819d75ec84bbf": {
      "model_module": "@jupyter-widgets/controls",
      "model_module_version": "1.4.0",
      "model_name": "HTMLModel",
      "state": {
       "layout": "IPY_MODEL_737537f3b30f4a15a43396e15fca1d8a",
       "style": "IPY_MODEL_eaafc516382b422b8ab573487b73b338",
       "value": "<h5>File  &nbsp</h5> "
      }
     },
     "0b894fb1521f4e0e8a56ecb59d98361d": {
      "model_module": "@jupyter-widgets/controls",
      "model_module_version": "1.4.0",
      "model_name": "HTMLMathModel",
      "state": {
       "layout": "IPY_MODEL_0a718c7abae443eeb55755da9624505c",
       "style": "IPY_MODEL_256c6d25a159437a80363f54c2f19de9",
       "value": "<h3>Load Data from</h3>"
      }
     },
     "0c4c328234944ab9b0b8e4f1b5308fb9": {
      "model_module": "@jupyter-widgets/controls",
      "model_module_version": "1.4.0",
      "model_name": "HBoxModel",
      "state": {
       "children": [
        "IPY_MODEL_0b894fb1521f4e0e8a56ecb59d98361d",
        "IPY_MODEL_9d7f801d8e994d3887e27076a8e18771"
       ],
       "layout": "IPY_MODEL_43540977f8e64d9f9dc8365186881b70"
      }
     },
     "0c676a0837e44c41b1bce434e3b0373b": {
      "model_module": "@jupyter-widgets/base",
      "model_module_version": "1.1.0",
      "model_name": "LayoutModel",
      "state": {
       "align_items": "center",
       "justify_content": "center"
      }
     },
     "0d596def47144355a99c21205736bc52": {
      "model_module": "@jupyter-widgets/controls",
      "model_module_version": "1.4.0",
      "model_name": "ButtonStyleModel",
      "state": {}
     },
     "0dc29697be054eaa9e59f68c233601ae": {
      "model_module": "@jupyter-widgets/controls",
      "model_module_version": "1.4.0",
      "model_name": "ToggleButtonsModel",
      "state": {
       "_options_labels": [
        "Counts",
        "TPM",
        "FastQ"
       ],
       "button_style": "",
       "icons": [],
       "index": 0,
       "layout": "IPY_MODEL_572e1dfe2d3a445fa7321c08133a5e66",
       "style": "IPY_MODEL_11d3a4e4870942b48328d3fd00141db8",
       "tooltips": []
      }
     },
     "0de1447f90d142a48d4ac0c4afa5154c": {
      "model_module": "@jupyter-widgets/base",
      "model_module_version": "1.1.0",
      "model_name": "LayoutModel",
      "state": {}
     },
     "0e08f8e079494f53b2ac3d037b2898be": {
      "model_module": "@jupyter-widgets/controls",
      "model_module_version": "1.4.0",
      "model_name": "HTMLModel",
      "state": {
       "layout": "IPY_MODEL_f243d2ec85d14fd7927b2414711cb7cf",
       "style": "IPY_MODEL_193719fad1db47fca2650146464c58e6",
       "value": "<h3>Load Data</h3>"
      }
     },
     "108d5c75b81f4f1a922e35f1a5b906ba": {
      "model_module": "@jupyter-widgets/base",
      "model_module_version": "1.1.0",
      "model_name": "LayoutModel",
      "state": {}
     },
     "11d3a4e4870942b48328d3fd00141db8": {
      "model_module": "@jupyter-widgets/controls",
      "model_module_version": "1.4.0",
      "model_name": "ToggleButtonsStyleModel",
      "state": {
       "button_width": "",
       "description_width": ""
      }
     },
     "1380f942683840ee95302d0a0fff0fb1": {
      "model_module": "@jupyter-widgets/controls",
      "model_module_version": "1.4.0",
      "model_name": "HBoxModel",
      "state": {
       "children": [
        "IPY_MODEL_4b32642ab6104060af393c1f51ae89ca",
        "IPY_MODEL_c70f43bad2b34066a09a79394e93a1ed",
        "IPY_MODEL_ae732d4093b44c56beabbf2ef1838804"
       ],
       "layout": "IPY_MODEL_abf77368e36847a3897267c7b1046b0f"
      }
     },
     "14c886b5915b450f84b252bea05b0b18": {
      "model_module": "@jupyter-widgets/controls",
      "model_module_version": "1.4.0",
      "model_name": "ButtonModel",
      "state": {
       "button_style": "info",
       "icon": "refresh",
       "layout": "IPY_MODEL_389a92c4b0ba4f21880faea16741562e",
       "style": "IPY_MODEL_b085d1150e884a1b9a9a4712f5c9137a"
      }
     },
     "192463d2bdf54f4fa5b5352938a7e131": {
      "model_module": "@jupyter-widgets/controls",
      "model_module_version": "1.4.0",
      "model_name": "HBoxModel",
      "state": {
       "children": [
        "IPY_MODEL_4cc1020cad144f8d841f80debb2644a8",
        "IPY_MODEL_50ff4c9e1a884f8491221fd32d76faab",
        "IPY_MODEL_ad8d5061efa743699ae8a19fc870b415"
       ],
       "layout": "IPY_MODEL_f80c72fff31a48eeb457697f03c43999"
      }
     },
     "193719fad1db47fca2650146464c58e6": {
      "model_module": "@jupyter-widgets/controls",
      "model_module_version": "1.4.0",
      "model_name": "DescriptionStyleModel",
      "state": {
       "description_width": ""
      }
     },
     "1a5fa1bff30e4de89b9810aed0f1c746": {
      "model_module": "@jupyter-widgets/controls",
      "model_module_version": "1.4.0",
      "model_name": "ButtonModel",
      "state": {
       "button_style": "info",
       "icon": "refresh",
       "layout": "IPY_MODEL_409c5b6d793744aca14ecd3721677d2e",
       "style": "IPY_MODEL_0d596def47144355a99c21205736bc52"
      }
     },
     "1bbe1be380eb40a7bcaa91ec4169a6a9": {
      "model_module": "@jupyter-widgets/controls",
      "model_module_version": "1.4.0",
      "model_name": "VBoxModel",
      "state": {
       "children": [
        "IPY_MODEL_9faed13386ac4a53976d2f7cd88c3943",
        "IPY_MODEL_d6afdbd957174ee485dd24641a28e3ea"
       ],
       "layout": "IPY_MODEL_98ee4f1032fd40caa6f55e79158a4a09"
      }
     },
     "1cdfe1dfd91b44d285273ee9e3899956": {
      "model_module": "@jupyter-widgets/controls",
      "model_module_version": "1.4.0",
      "model_name": "ToggleButtonsStyleModel",
      "state": {
       "button_width": "",
       "description_width": ""
      }
     },
     "1f3b468226b04f1db9b33c84bf358bbe": {
      "model_module": "@jupyter-widgets/controls",
      "model_module_version": "1.4.0",
      "model_name": "HTMLMathModel",
      "state": {
       "layout": "IPY_MODEL_b7de5dc907ae4db7a3a9d95cc0c4f9ff",
       "style": "IPY_MODEL_0557b3299d8f4d74b19f3cdd4903cac4",
       "value": "<h3>Load Data <small>from</h3>"
      }
     },
     "1f83e3ce9ce0416e93e8a2fc313c0d10": {
      "model_module": "@jupyter-widgets/controls",
      "model_module_version": "1.4.0",
      "model_name": "DescriptionStyleModel",
      "state": {
       "description_width": ""
      }
     },
     "208ef46fe93d4fbf814c6610dcd26a22": {
      "model_module": "@jupyter-widgets/controls",
      "model_module_version": "1.4.0",
      "model_name": "DescriptionStyleModel",
      "state": {
       "description_width": ""
      }
     },
     "20bc80af19544201b8f9e96b2637bed8": {
      "model_module": "@jupyter-widgets/base",
      "model_module_version": "1.1.0",
      "model_name": "LayoutModel",
      "state": {
       "margin": "2px 25px 2px 0px",
       "width": "auto"
      }
     },
     "213b319400f24cdba14940449d31cb2b": {
      "model_module": "@jupyter-widgets/controls",
      "model_module_version": "1.4.0",
      "model_name": "DescriptionStyleModel",
      "state": {
       "description_width": ""
      }
     },
     "21406fa780224087a5f126717978b5b5": {
      "model_module": "@jupyter-widgets/controls",
      "model_module_version": "1.4.0",
      "model_name": "IntSliderModel",
      "state": {
       "description": "Length",
       "layout": "IPY_MODEL_eacfe7af42e846b5b81d6615f1a5d46c",
       "max": 400,
       "min": 50,
       "style": "IPY_MODEL_5528fb95b5a840a4b8617dfc309131fd",
       "value": 180
      }
     },
     "2215ed9422ec4c24aa7455bfeccbf883": {
      "model_module": "@jupyter-widgets/controls",
      "model_module_version": "1.4.0",
      "model_name": "HTMLModel",
      "state": {
       "layout": "IPY_MODEL_6469270013654cfa89b7b17943defffe",
       "style": "IPY_MODEL_5b53141a7dad4d1e87b4f1b7be9eacae",
       "value": "<h5>File  &nbsp</h5> "
      }
     },
     "223d88e9433e43b08d872602a17f490b": {
      "model_module": "@jupyter-widgets/controls",
      "model_module_version": "1.4.0",
      "model_name": "ButtonModel",
      "state": {
       "button_style": "primary",
       "description": "Load",
       "layout": "IPY_MODEL_339b7377b8ae4010be219bac1439ca93",
       "style": "IPY_MODEL_3833a16e95ee4dd5ae170d4767ac6bb9"
      }
     },
     "256c6d25a159437a80363f54c2f19de9": {
      "model_module": "@jupyter-widgets/controls",
      "model_module_version": "1.4.0",
      "model_name": "DescriptionStyleModel",
      "state": {
       "description_width": ""
      }
     },
     "28cb99733f1b42a4be013ebfa95c0cd9": {
      "model_module": "@jupyter-widgets/controls",
      "model_module_version": "1.4.0",
      "model_name": "ToggleButtonsModel",
      "state": {
       "_options_labels": [
        "Counts",
        "TPM",
        "FastQ"
       ],
       "button_style": "",
       "icons": [],
       "index": 0,
       "layout": "IPY_MODEL_98397ccd9c2b4dc7b1b90a206819915c",
       "style": "IPY_MODEL_72dfd4ef7b494917bc6e2b89a8542a80",
       "tooltips": []
      }
     },
     "28ec4d0378aa495eb4845b6bd8b052e7": {
      "model_module": "@jupyter-widgets/controls",
      "model_module_version": "1.4.0",
      "model_name": "VBoxModel",
      "state": {
       "children": [
        "IPY_MODEL_21406fa780224087a5f126717978b5b5",
        "IPY_MODEL_4718d7c1f22a46e098138705c91afc78"
       ],
       "layout": "IPY_MODEL_670886aa0b1f43099fe703e11efb81ad"
      }
     },
     "296c98136ea6420fa8f75a65edb9ae30": {
      "model_module": "@jupyter-widgets/controls",
      "model_module_version": "1.4.0",
      "model_name": "ToggleButtonsModel",
      "state": {
       "_options_labels": [
        "Counts",
        "TPM",
        "FastQ"
       ],
       "button_style": "",
       "icons": [],
       "index": 0,
       "layout": "IPY_MODEL_9b488457d2be46ffb658abf2ac2b50cc",
       "style": "IPY_MODEL_49a86aeee7f14f1eb6800fdb13c9b92e",
       "tooltips": []
      }
     },
     "2984b24bf18a43d4a78cd661983c8a21": {
      "model_module": "@jupyter-widgets/base",
      "model_module_version": "1.1.0",
      "model_name": "LayoutModel",
      "state": {
       "width": "auto"
      }
     },
     "29c1150bd90b48a59fdd2d49f21321de": {
      "model_module": "@jupyter-widgets/controls",
      "model_module_version": "1.4.0",
      "model_name": "ButtonModel",
      "state": {
       "button_style": "info",
       "icon": "refresh",
       "layout": "IPY_MODEL_c7e40467fa5042caa6ed138f603c157d",
       "style": "IPY_MODEL_8999f9dea9b54c9dac24b104d863283b"
      }
     },
     "2a05ee4010f747f6887dcb950364f460": {
      "model_module": "@jupyter-widgets/controls",
      "model_module_version": "1.4.0",
      "model_name": "VBoxModel",
      "state": {
       "children": [
        "IPY_MODEL_a12c95a96a334ee5b47445e051cbd752",
        "IPY_MODEL_28cb99733f1b42a4be013ebfa95c0cd9"
       ],
       "layout": "IPY_MODEL_3a39dee5e371450b9c65aecedffee4fc"
      }
     },
     "2a4d1f655ef84f4fb0472d8ed5e1e160": {
      "model_module": "@jupyter-widgets/controls",
      "model_module_version": "1.4.0",
      "model_name": "HTMLModel",
      "state": {
       "layout": "IPY_MODEL_84fab29b9cbe443e81d50fa640b66a62",
       "style": "IPY_MODEL_5eb12f67648643acaf5012997e58f2d2",
       "value": "<h2>Datasets: <font color='red'>None</font></h3><hr style='padding:0px; margin:0px'>"
      }
     },
     "2bd7dbe543d54c2e852cbe51efa093b6": {
      "model_module": "@jupyter-widgets/base",
      "model_module_version": "1.1.0",
      "model_name": "LayoutModel",
      "state": {
       "justify_content": "center",
       "padding": "15px 0 0 0"
      }
     },
     "2cdb9d15c59e495fb9d130d83c3b7ba6": {
      "model_module": "@jupyter-widgets/base",
      "model_module_version": "1.1.0",
      "model_name": "LayoutModel",
      "state": {}
     },
     "2d0633f7f0ed4f2ea2a07493082c37ac": {
      "model_module": "@jupyter-widgets/controls",
      "model_module_version": "1.4.0",
      "model_name": "ToggleButtonsStyleModel",
      "state": {
       "button_width": "",
       "description_width": ""
      }
     },
     "324aee61977a4ead94a8a82b6359b5f8": {
      "model_module": "@jupyter-widgets/base",
      "model_module_version": "1.1.0",
      "model_name": "LayoutModel",
      "state": {}
     },
     "339b7377b8ae4010be219bac1439ca93": {
      "model_module": "@jupyter-widgets/base",
      "model_module_version": "1.1.0",
      "model_name": "LayoutModel",
      "state": {
       "width": "auto"
      }
     },
     "33a495628e734d8586c9f3640298d705": {
      "model_module": "@jupyter-widgets/base",
      "model_module_version": "1.1.0",
      "model_name": "LayoutModel",
      "state": {}
     },
     "3412b2fcf505461fa574ea8e085483e4": {
      "model_module": "@jupyter-widgets/controls",
      "model_module_version": "1.4.0",
      "model_name": "ToggleButtonsModel",
      "state": {
       "_options_labels": [
        "Single",
        "Double"
       ],
       "button_style": "",
       "icons": [],
       "index": 0,
       "layout": "IPY_MODEL_56a369af110242f8bad111a949a17c4b",
       "style": "IPY_MODEL_bdd28897aecf4c2db830a721083e5873",
       "tooltips": []
      }
     },
     "35a2f3fda088450bb6c3e4f17759e1db": {
      "model_module": "@jupyter-widgets/controls",
      "model_module_version": "1.4.0",
      "model_name": "ButtonStyleModel",
      "state": {}
     },
     "37e5b9b7c3a741b2a733d9d00e404c5d": {
      "model_module": "@jupyter-widgets/base",
      "model_module_version": "1.1.0",
      "model_name": "LayoutModel",
      "state": {}
     },
     "37e986ce1aaa4de091ac99606f7f1ce0": {
      "model_module": "@jupyter-widgets/controls",
      "model_module_version": "1.4.0",
      "model_name": "VBoxModel",
      "state": {
       "children": [
        "IPY_MODEL_2a4d1f655ef84f4fb0472d8ed5e1e160",
        "IPY_MODEL_7485429d19564500b3a9e34b3cc7cc73",
        "IPY_MODEL_62cdf9135ccd42bbbee9cca376d23240",
        "IPY_MODEL_1bbe1be380eb40a7bcaa91ec4169a6a9",
        "IPY_MODEL_e9440b72fb0a4c2e9d90f780e11f5e66"
       ],
       "layout": "IPY_MODEL_2cdb9d15c59e495fb9d130d83c3b7ba6"
      }
     },
     "3833a16e95ee4dd5ae170d4767ac6bb9": {
      "model_module": "@jupyter-widgets/controls",
      "model_module_version": "1.4.0",
      "model_name": "ButtonStyleModel",
      "state": {}
     },
     "389a92c4b0ba4f21880faea16741562e": {
      "model_module": "@jupyter-widgets/base",
      "model_module_version": "1.1.0",
      "model_name": "LayoutModel",
      "state": {
       "margin": "2px 25px 2px 0px",
       "width": "auto"
      }
     },
     "38a0d5d818594da5b380b5fdb38b9001": {
      "model_module": "@jupyter-widgets/base",
      "model_module_version": "1.1.0",
      "model_name": "LayoutModel",
      "state": {
       "align_items": "center"
      }
     },
     "38c16c19d0d041a5a03288ddd41812e9": {
      "model_module": "@jupyter-widgets/controls",
      "model_module_version": "1.4.0",
      "model_name": "ToggleButtonsStyleModel",
      "state": {
       "button_width": "",
       "description_width": ""
      }
     },
     "38cb7f03439a44f79b04ad1c211f1017": {
      "model_module": "@jupyter-widgets/base",
      "model_module_version": "1.1.0",
      "model_name": "LayoutModel",
      "state": {
       "align_items": "center",
       "justify_content": "center"
      }
     },
     "3a23e03705c349aabf6ee0903dfb33cb": {
      "model_module": "@jupyter-widgets/controls",
      "model_module_version": "1.4.0",
      "model_name": "DropdownModel",
      "state": {
       "_options_labels": [
        "adjusted_matrix.csv",
        "adjusted_matrix_OLD.csv",
        "combat_seq.R",
        "count_matrix_OLD.csv",
        "COVID19",
        "Guinea-SDY1412",
        "Harmonize_Data.R",
        "harmonized_counts.csv",
        "Harmony RNA.ipynb",
        "hgnc_mapping.csv",
        "kallisto_test.R",
        "Mali-SDY1172",
        "Process Raw Data.ipynb",
        "RNA-Seq Harmonization.ipynb",
        "Run_Docker.txt",
        "semi_adjusted_matrix.csv",
        "semi_adjusted_matrix_OLD.csv",
        "subjects_summary_whole_blood.csv",
        "Tanzania-SDY1092",
        "unharmonized_counts.csv"
       ],
       "index": 0,
       "layout": "IPY_MODEL_108d5c75b81f4f1a922e35f1a5b906ba",
       "style": "IPY_MODEL_7242bd9584ad45138b8cd1b2cea801db"
      }
     },
     "3a39dee5e371450b9c65aecedffee4fc": {
      "model_module": "@jupyter-widgets/base",
      "model_module_version": "1.1.0",
      "model_name": "LayoutModel",
      "state": {
       "align_items": "center",
       "justify_content": "center"
      }
     },
     "3a3b6a7852ab4b108e948a954e1bae03": {
      "model_module": "@jupyter-widgets/base",
      "model_module_version": "1.1.0",
      "model_name": "LayoutModel",
      "state": {}
     },
     "3acfe97fed984da1b9985a45542808f6": {
      "model_module": "@jupyter-widgets/base",
      "model_module_version": "1.1.0",
      "model_name": "LayoutModel",
      "state": {}
     },
     "3bf2fe99724441c1a9b9cacbcf4ae520": {
      "model_module": "@jupyter-widgets/controls",
      "model_module_version": "1.4.0",
      "model_name": "ToggleButtonsModel",
      "state": {
       "_options_labels": [
        "Counts",
        "TPM",
        "FastQ"
       ],
       "button_style": "",
       "icons": [],
       "index": 1,
       "layout": "IPY_MODEL_324aee61977a4ead94a8a82b6359b5f8",
       "style": "IPY_MODEL_d7153200d1b240cbaa113ee531d3f219",
       "tooltips": []
      }
     },
     "3c7fd9e0c96e4e0cb5fe82dfe53edd4b": {
      "model_module": "@jupyter-widgets/base",
      "model_module_version": "1.1.0",
      "model_name": "LayoutModel",
      "state": {}
     },
     "3d3aadd3284f44a493bd8776732c906b": {
      "model_module": "@jupyter-widgets/base",
      "model_module_version": "1.1.0",
      "model_name": "LayoutModel",
      "state": {}
     },
     "3f3c15d8dedc41bebcc6d4d5353dcf9e": {
      "model_module": "@jupyter-widgets/controls",
      "model_module_version": "1.4.0",
      "model_name": "ToggleButtonsModel",
      "state": {
       "_options_labels": [
        "Counts",
        "TPM",
        "FastQ"
       ],
       "button_style": "",
       "icons": [],
       "index": 0,
       "layout": "IPY_MODEL_7a76af1ce4834e68acdd97b3308b3fba",
       "style": "IPY_MODEL_893b24fc21b5447294a9df9af5cbe60f",
       "tooltips": []
      }
     },
     "409c5b6d793744aca14ecd3721677d2e": {
      "model_module": "@jupyter-widgets/base",
      "model_module_version": "1.1.0",
      "model_name": "LayoutModel",
      "state": {
       "margin": "2px 25px 2px 0px",
       "width": "auto"
      }
     },
     "4281a09d28134693a7fa794fb28e4529": {
      "model_module": "@jupyter-widgets/base",
      "model_module_version": "1.1.0",
      "model_name": "LayoutModel",
      "state": {
       "width": "auto"
      }
     },
     "42c5169df82a4843b5cf9e5ae6b5cd5d": {
      "model_module": "@jupyter-widgets/controls",
      "model_module_version": "1.4.0",
      "model_name": "VBoxModel",
      "state": {
       "children": [
        "IPY_MODEL_bc5f155a4d564a6581014761d6602385",
        "IPY_MODEL_3f3c15d8dedc41bebcc6d4d5353dcf9e"
       ],
       "layout": "IPY_MODEL_6f4435b846534cbdb389edc2557c22d1"
      }
     },
     "43540977f8e64d9f9dc8365186881b70": {
      "model_module": "@jupyter-widgets/base",
      "model_module_version": "1.1.0",
      "model_name": "LayoutModel",
      "state": {
       "align_items": "center",
       "justify_content": "center"
      }
     },
     "441ccde97912497f834e3c5d688d05f9": {
      "model_module": "@jupyter-widgets/controls",
      "model_module_version": "1.4.0",
      "model_name": "ToggleButtonsModel",
      "state": {
       "_options_labels": [
        "Counts",
        "TPM",
        "FastQ"
       ],
       "button_style": "",
       "icons": [],
       "index": 0,
       "layout": "IPY_MODEL_d953f9d0aa5d4ef9ad6134cb940efcad",
       "style": "IPY_MODEL_38c16c19d0d041a5a03288ddd41812e9",
       "tooltips": []
      }
     },
     "4485d6ac712747cbb6ed46d37224346a": {
      "model_module": "@jupyter-widgets/controls",
      "model_module_version": "1.4.0",
      "model_name": "HBoxModel",
      "state": {
       "children": [
        "IPY_MODEL_0b5b8488d8594a80ba0819d75ec84bbf",
        "IPY_MODEL_b93b3700549845e3af8305d887abfb7e",
        "IPY_MODEL_14c886b5915b450f84b252bea05b0b18",
        "IPY_MODEL_a319cac13a274814a2a76e236c612838"
       ],
       "layout": "IPY_MODEL_8cd4bb184ee443ab9a742634921d2b9e"
      }
     },
     "461cbd7c362d440cb53b7bb6ae4781b2": {
      "model_module": "@jupyter-widgets/base",
      "model_module_version": "1.1.0",
      "model_name": "LayoutModel",
      "state": {}
     },
     "46794e0d57cd42a4b7761d2432f5bc72": {
      "model_module": "@jupyter-widgets/base",
      "model_module_version": "1.1.0",
      "model_name": "LayoutModel",
      "state": {
       "width": "auto"
      }
     },
     "4718d7c1f22a46e098138705c91afc78": {
      "model_module": "@jupyter-widgets/controls",
      "model_module_version": "1.4.0",
      "model_name": "IntSliderModel",
      "state": {
       "description": "SD",
       "layout": "IPY_MODEL_37e5b9b7c3a741b2a733d9d00e404c5d",
       "max": 40,
       "min": 5,
       "style": "IPY_MODEL_be015ef5ef044bde8e5ec290530f6872",
       "value": 20
      }
     },
     "484d8a0a7fce40c68eab6d9338e09b30": {
      "model_module": "@jupyter-widgets/controls",
      "model_module_version": "1.4.0",
      "model_name": "HBoxModel",
      "state": {
       "children": [
        "IPY_MODEL_0a70207d0c4a454c9c2254489504e959",
        "IPY_MODEL_3bf2fe99724441c1a9b9cacbcf4ae520"
       ],
       "layout": "IPY_MODEL_b0208d48603b425bb92323eee09bb0df"
      }
     },
     "49a86aeee7f14f1eb6800fdb13c9b92e": {
      "model_module": "@jupyter-widgets/controls",
      "model_module_version": "1.4.0",
      "model_name": "ToggleButtonsStyleModel",
      "state": {
       "button_width": "",
       "description_width": ""
      }
     },
     "4a0098b151c34e08b468248b157f643b": {
      "model_module": "@jupyter-widgets/controls",
      "model_module_version": "1.4.0",
      "model_name": "DescriptionStyleModel",
      "state": {
       "description_width": ""
      }
     },
     "4b32642ab6104060af393c1f51ae89ca": {
      "model_module": "@jupyter-widgets/controls",
      "model_module_version": "1.4.0",
      "model_name": "DropdownModel",
      "state": {
       "_options_labels": [
        "adjusted_matrix.csv",
        "adjusted_matrix_OLD.csv",
        "combat_seq.R",
        "count_matrix_OLD.csv",
        "COVID19",
        "Guinea-SDY1412",
        "Harmonize_Data.R",
        "harmonized_counts.csv",
        "Harmony RNA.ipynb",
        "hgnc_mapping.csv",
        "kallisto_test.R",
        "Mali-SDY1172",
        "Process Raw Data.ipynb",
        "RNA-Seq Harmonization.ipynb",
        "Run_Docker.txt",
        "semi_adjusted_matrix.csv",
        "semi_adjusted_matrix_OLD.csv",
        "subjects_summary_whole_blood.csv",
        "Tanzania-SDY1092",
        "unharmonized_counts.csv"
       ],
       "index": 0,
       "layout": "IPY_MODEL_461cbd7c362d440cb53b7bb6ae4781b2",
       "style": "IPY_MODEL_01cd8bca4cd14b929d721eaceaf7e7c8"
      }
     },
     "4cc1020cad144f8d841f80debb2644a8": {
      "model_module": "@jupyter-widgets/controls",
      "model_module_version": "1.4.0",
      "model_name": "DropdownModel",
      "state": {
       "_options_labels": [
        "adjusted_matrix.csv",
        "adjusted_matrix_OLD.csv",
        "combat_seq.R",
        "count_matrix_OLD.csv",
        "COVID19",
        "Guinea-SDY1412",
        "Harmonize_Data.R",
        "harmonized_counts.csv",
        "Harmony RNA.ipynb",
        "hgnc_mapping.csv",
        "kallisto_test.R",
        "Mali-SDY1172",
        "Process Raw Data.ipynb",
        "RNA-Seq Harmonization.ipynb",
        "Run_Docker.txt",
        "semi_adjusted_matrix.csv",
        "semi_adjusted_matrix_OLD.csv",
        "subjects_summary_whole_blood.csv",
        "Tanzania-SDY1092",
        "unharmonized_counts.csv"
       ],
       "index": 0,
       "layout": "IPY_MODEL_7385d541136744feac98b9b27589a28a",
       "style": "IPY_MODEL_f16ac51d88c54d0eb31bf265053fef0d"
      }
     },
     "4d3973bb70e345b9b01eecdc97b465aa": {
      "model_module": "@jupyter-widgets/base",
      "model_module_version": "1.1.0",
      "model_name": "LayoutModel",
      "state": {
       "visibility": "hidden"
      }
     },
     "4e061737b47a4f9bab33b831c48af994": {
      "model_module": "@jupyter-widgets/base",
      "model_module_version": "1.1.0",
      "model_name": "LayoutModel",
      "state": {}
     },
     "4ec99aadda884d00afc2b96309fca7ec": {
      "model_module": "@jupyter-widgets/controls",
      "model_module_version": "1.4.0",
      "model_name": "ButtonStyleModel",
      "state": {}
     },
     "4eff13dea8884186bc2692e1233dd12d": {
      "model_module": "@jupyter-widgets/controls",
      "model_module_version": "1.4.0",
      "model_name": "HTMLModel",
      "state": {
       "layout": "IPY_MODEL_e38e58b44aa0465f8382acc08dfc3912",
       "style": "IPY_MODEL_b04db56032f2470fa0358da6465292e7",
       "value": "<h5>Name  &nbsp</h5> "
      }
     },
     "4f94bd2e2f9b480ab253c06b8b282a96": {
      "model_module": "@jupyter-widgets/controls",
      "model_module_version": "1.4.0",
      "model_name": "ButtonModel",
      "state": {
       "button_style": "danger",
       "description": " Refresh",
       "icon": "refresh",
       "layout": "IPY_MODEL_e9d1588af7194bfea3bc8133376abcee",
       "style": "IPY_MODEL_7c65ad22ad4e4e169735560a7ff4961c"
      }
     },
     "50560fb449294015917dc7e407932b53": {
      "model_module": "@jupyter-widgets/controls",
      "model_module_version": "1.4.0",
      "model_name": "HBoxModel",
      "state": {
       "children": [
        "IPY_MODEL_4f94bd2e2f9b480ab253c06b8b282a96"
       ],
       "layout": "IPY_MODEL_2bd7dbe543d54c2e852cbe51efa093b6"
      }
     },
     "50ff4c9e1a884f8491221fd32d76faab": {
      "model_module": "@jupyter-widgets/controls",
      "model_module_version": "1.4.0",
      "model_name": "ButtonModel",
      "state": {
       "button_style": "info",
       "icon": "refresh",
       "layout": "IPY_MODEL_cfc1e88cb3634c89bf969a24515ef64f",
       "style": "IPY_MODEL_5bddf65bbc0c4fcbbfa4a21524899195"
      }
     },
     "524de5616d554ce59116495812ba7a91": {
      "model_module": "@jupyter-widgets/base",
      "model_module_version": "1.1.0",
      "model_name": "LayoutModel",
      "state": {
       "justify_content": "center",
       "padding": "15px 0 0 0"
      }
     },
     "52ee21bf67f94bb39b785f77a34798aa": {
      "model_module": "@jupyter-widgets/base",
      "model_module_version": "1.1.0",
      "model_name": "LayoutModel",
      "state": {}
     },
     "5528fb95b5a840a4b8617dfc309131fd": {
      "model_module": "@jupyter-widgets/controls",
      "model_module_version": "1.4.0",
      "model_name": "SliderStyleModel",
      "state": {
       "description_width": ""
      }
     },
     "55763c8243c7490596b7ae9f114ea594": {
      "model_module": "@jupyter-widgets/base",
      "model_module_version": "1.1.0",
      "model_name": "LayoutModel",
      "state": {}
     },
     "56a369af110242f8bad111a949a17c4b": {
      "model_module": "@jupyter-widgets/base",
      "model_module_version": "1.1.0",
      "model_name": "LayoutModel",
      "state": {}
     },
     "572e1dfe2d3a445fa7321c08133a5e66": {
      "model_module": "@jupyter-widgets/base",
      "model_module_version": "1.1.0",
      "model_name": "LayoutModel",
      "state": {}
     },
     "573c603157014c0c85d996841c8d3491": {
      "model_module": "@jupyter-widgets/controls",
      "model_module_version": "1.4.0",
      "model_name": "ToggleButtonsStyleModel",
      "state": {
       "button_width": "",
       "description_width": ""
      }
     },
     "58991e20f6004782938b62043c50f649": {
      "model_module": "@jupyter-widgets/controls",
      "model_module_version": "1.4.0",
      "model_name": "HBoxModel",
      "state": {
       "children": [
        "IPY_MODEL_4eff13dea8884186bc2692e1233dd12d",
        "IPY_MODEL_e1d821ad3fca455aa33be810b8e31000",
        "IPY_MODEL_1a5fa1bff30e4de89b9810aed0f1c746",
        "IPY_MODEL_6e6f0c069e474728b4231b6dc4123282"
       ],
       "layout": "IPY_MODEL_e8b92b845df64f09b18e9594f517cc92"
      }
     },
     "5a66a5d3b76245348ce5ff7fcaef0147": {
      "model_module": "@jupyter-widgets/controls",
      "model_module_version": "1.4.0",
      "model_name": "ToggleButtonsModel",
      "state": {
       "_options_labels": [
        "Counts",
        "TPM",
        "FastQ"
       ],
       "button_style": "",
       "icons": [],
       "index": 0,
       "layout": "IPY_MODEL_0de1447f90d142a48d4ac0c4afa5154c",
       "style": "IPY_MODEL_eabef45938d14885acd874202546a82a",
       "tooltips": []
      }
     },
     "5b53141a7dad4d1e87b4f1b7be9eacae": {
      "model_module": "@jupyter-widgets/controls",
      "model_module_version": "1.4.0",
      "model_name": "DescriptionStyleModel",
      "state": {
       "description_width": ""
      }
     },
     "5bddf65bbc0c4fcbbfa4a21524899195": {
      "model_module": "@jupyter-widgets/controls",
      "model_module_version": "1.4.0",
      "model_name": "ButtonStyleModel",
      "state": {}
     },
     "5c04ddf347d04e5d83ae5e48950669bd": {
      "model_module": "@jupyter-widgets/base",
      "model_module_version": "1.1.0",
      "model_name": "LayoutModel",
      "state": {}
     },
     "5db9edb8152e43599c7b9e766597f82f": {
      "model_module": "@jupyter-widgets/controls",
      "model_module_version": "1.4.0",
      "model_name": "HBoxModel",
      "state": {
       "children": [
        "IPY_MODEL_dce72365f24b4d41985aa0c47bb71c00",
        "IPY_MODEL_5a66a5d3b76245348ce5ff7fcaef0147"
       ],
       "layout": "IPY_MODEL_63cfc59774c845ce9d338a106869fd00"
      }
     },
     "5eb12f67648643acaf5012997e58f2d2": {
      "model_module": "@jupyter-widgets/controls",
      "model_module_version": "1.4.0",
      "model_name": "DescriptionStyleModel",
      "state": {
       "description_width": ""
      }
     },
     "606586ed53c242bab21e45233b730394": {
      "model_module": "@jupyter-widgets/controls",
      "model_module_version": "1.4.0",
      "model_name": "DropdownModel",
      "state": {
       "_options_labels": [
        "adjusted_matrix.csv",
        "adjusted_matrix_OLD.csv",
        "combat_seq.R",
        "count_matrix_OLD.csv",
        "COVID19",
        "Guinea-SDY1412",
        "Harmonize_Data.R",
        "harmonized_counts.csv",
        "Harmony RNA.ipynb",
        "hgnc_mapping.csv",
        "kallisto_test.R",
        "Mali-SDY1172",
        "Process Raw Data.ipynb",
        "RNA-Seq Harmonization.ipynb",
        "Run_Docker.txt",
        "semi_adjusted_matrix.csv",
        "semi_adjusted_matrix_OLD.csv",
        "subjects_summary_whole_blood.csv",
        "Tanzania-SDY1092",
        "unharmonized_counts.csv"
       ],
       "index": 0,
       "layout": "IPY_MODEL_8aae17268550425db9e26754065926bb",
       "style": "IPY_MODEL_8d6a843ac35f4952923b7c093ecf807b"
      }
     },
     "6257ad733dd547cb9b705f6681651ab5": {
      "model_module": "@jupyter-widgets/controls",
      "model_module_version": "1.4.0",
      "model_name": "HTMLMathModel",
      "state": {
       "layout": "IPY_MODEL_3acfe97fed984da1b9985a45542808f6",
       "style": "IPY_MODEL_08c969a4f37a40568a28e5a63db557fa",
       "value": "<h3>Load Data <small><font color='magenta'>from</h3>"
      }
     },
     "62cdf9135ccd42bbbee9cca376d23240": {
      "model_module": "@jupyter-widgets/controls",
      "model_module_version": "1.4.0",
      "model_name": "HBoxModel",
      "state": {
       "children": [
        "IPY_MODEL_2215ed9422ec4c24aa7455bfeccbf883",
        "IPY_MODEL_ff36e6e046154a05a2eecde5467e9bcc",
        "IPY_MODEL_a9e8193a1a84433e8519d434da40d467",
        "IPY_MODEL_decfc441cda941a092caf5898b7ed88e"
       ],
       "layout": "IPY_MODEL_00895970442140cd940b6dc2cf195d44"
      }
     },
     "632890d7c7d342fdba5d5443cdd12a82": {
      "model_module": "@jupyter-widgets/controls",
      "model_module_version": "1.4.0",
      "model_name": "ButtonModel",
      "state": {
       "button_style": "danger",
       "description": " Reset",
       "layout": "IPY_MODEL_865734a8f9ed48f1991c2990821dff5f",
       "style": "IPY_MODEL_c94d7afb67c5432399eb976513baa09e"
      }
     },
     "63cfc59774c845ce9d338a106869fd00": {
      "model_module": "@jupyter-widgets/base",
      "model_module_version": "1.1.0",
      "model_name": "LayoutModel",
      "state": {
       "align_items": "center",
       "justify_content": "center"
      }
     },
     "6469270013654cfa89b7b17943defffe": {
      "model_module": "@jupyter-widgets/base",
      "model_module_version": "1.1.0",
      "model_name": "LayoutModel",
      "state": {}
     },
     "64dba5c677454842869670ab8ba00984": {
      "model_module": "@jupyter-widgets/base",
      "model_module_version": "1.1.0",
      "model_name": "LayoutModel",
      "state": {}
     },
     "651c493ebe0141c090937e2ccd62f28b": {
      "model_module": "@jupyter-widgets/base",
      "model_module_version": "1.1.0",
      "model_name": "LayoutModel",
      "state": {}
     },
     "670886aa0b1f43099fe703e11efb81ad": {
      "model_module": "@jupyter-widgets/base",
      "model_module_version": "1.1.0",
      "model_name": "LayoutModel",
      "state": {}
     },
     "695ec9396ba64565b6b1f03f61aa43da": {
      "model_module": "@jupyter-widgets/controls",
      "model_module_version": "1.4.0",
      "model_name": "DescriptionStyleModel",
      "state": {
       "description_width": ""
      }
     },
     "6da2e1d76a2047c6b1e31882799f6449": {
      "model_module": "@jupyter-widgets/controls",
      "model_module_version": "1.4.0",
      "model_name": "ToggleButtonsModel",
      "state": {
       "_options_labels": [
        "Counts",
        "TPM",
        "FastQ"
       ],
       "button_style": "",
       "icons": [],
       "index": 0,
       "layout": "IPY_MODEL_651c493ebe0141c090937e2ccd62f28b",
       "style": "IPY_MODEL_82a3c9c3f87a4a059a581562f7810abc",
       "tooltips": []
      }
     },
     "6e6f0c069e474728b4231b6dc4123282": {
      "model_module": "@jupyter-widgets/controls",
      "model_module_version": "1.4.0",
      "model_name": "ButtonModel",
      "state": {
       "button_style": "primary",
       "description": "Load",
       "layout": "IPY_MODEL_46794e0d57cd42a4b7761d2432f5bc72",
       "style": "IPY_MODEL_fee6a474d3db43e5a18d9c7847e59bec"
      }
     },
     "6f4435b846534cbdb389edc2557c22d1": {
      "model_module": "@jupyter-widgets/base",
      "model_module_version": "1.1.0",
      "model_name": "LayoutModel",
      "state": {
       "align_items": "center",
       "justify_content": "center"
      }
     },
     "72200983a7f3417c8965f69b67eded4e": {
      "model_module": "@jupyter-widgets/controls",
      "model_module_version": "1.4.0",
      "model_name": "ButtonStyleModel",
      "state": {}
     },
     "7242bd9584ad45138b8cd1b2cea801db": {
      "model_module": "@jupyter-widgets/controls",
      "model_module_version": "1.4.0",
      "model_name": "DescriptionStyleModel",
      "state": {
       "description_width": ""
      }
     },
     "72dfd4ef7b494917bc6e2b89a8542a80": {
      "model_module": "@jupyter-widgets/controls",
      "model_module_version": "1.4.0",
      "model_name": "ToggleButtonsStyleModel",
      "state": {
       "button_width": "",
       "description_width": ""
      }
     },
     "737537f3b30f4a15a43396e15fca1d8a": {
      "model_module": "@jupyter-widgets/base",
      "model_module_version": "1.1.0",
      "model_name": "LayoutModel",
      "state": {}
     },
     "7385d541136744feac98b9b27589a28a": {
      "model_module": "@jupyter-widgets/base",
      "model_module_version": "1.1.0",
      "model_name": "LayoutModel",
      "state": {}
     },
     "73e2f16dfd5c475a935778059a5455e2": {
      "model_module": "@jupyter-widgets/base",
      "model_module_version": "1.1.0",
      "model_name": "LayoutModel",
      "state": {
       "width": "auto"
      }
     },
     "744e9844cccd4e8b967bb9e06358c1f8": {
      "model_module": "@jupyter-widgets/controls",
      "model_module_version": "1.4.0",
      "model_name": "ButtonModel",
      "state": {
       "button_style": "info",
       "icon": "refresh",
       "layout": "IPY_MODEL_20bc80af19544201b8f9e96b2637bed8",
       "style": "IPY_MODEL_ff187413ce134ed8aac9692f1b3157eb"
      }
     },
     "7485429d19564500b3a9e34b3cc7cc73": {
      "model_module": "@jupyter-widgets/controls",
      "model_module_version": "1.4.0",
      "model_name": "VBoxModel",
      "state": {
       "children": [
        "IPY_MODEL_f99c8067c72d402091ded51f5476916f",
        "IPY_MODEL_441ccde97912497f834e3c5d688d05f9"
       ],
       "layout": "IPY_MODEL_8974987584424c12b4a8221da655e990"
      }
     },
     "754dfa65041c415e92843f52eb1ca564": {
      "model_module": "@jupyter-widgets/base",
      "model_module_version": "1.1.0",
      "model_name": "LayoutModel",
      "state": {}
     },
     "7a76af1ce4834e68acdd97b3308b3fba": {
      "model_module": "@jupyter-widgets/base",
      "model_module_version": "1.1.0",
      "model_name": "LayoutModel",
      "state": {}
     },
     "7a79a67195bf49b7bb99d76ceed37323": {
      "model_module": "@jupyter-widgets/base",
      "model_module_version": "1.1.0",
      "model_name": "LayoutModel",
      "state": {
       "justify_content": "center"
      }
     },
     "7b0dcbaf63eb41459b62ac84e99f1be3": {
      "model_module": "@jupyter-widgets/controls",
      "model_module_version": "1.4.0",
      "model_name": "DescriptionStyleModel",
      "state": {
       "description_width": ""
      }
     },
     "7c65ad22ad4e4e169735560a7ff4961c": {
      "model_module": "@jupyter-widgets/controls",
      "model_module_version": "1.4.0",
      "model_name": "ButtonStyleModel",
      "state": {}
     },
     "7caacd29cfe4439ea3c4fec708afdfa2": {
      "model_module": "@jupyter-widgets/base",
      "model_module_version": "1.1.0",
      "model_name": "LayoutModel",
      "state": {}
     },
     "7d412480424e48b4889e9b96806a014a": {
      "model_module": "@jupyter-widgets/base",
      "model_module_version": "1.1.0",
      "model_name": "LayoutModel",
      "state": {}
     },
     "8138410fc9d24680a9daf4247607cee9": {
      "model_module": "@jupyter-widgets/controls",
      "model_module_version": "1.4.0",
      "model_name": "ButtonModel",
      "state": {
       "button_style": "info",
       "icon": "refresh",
       "layout": "IPY_MODEL_2984b24bf18a43d4a78cd661983c8a21",
       "style": "IPY_MODEL_ca6e0529a72d447f9ed3eac075d2caee"
      }
     },
     "813888cf68f6491c9bc4a0d04e99486d": {
      "model_module": "@jupyter-widgets/controls",
      "model_module_version": "1.4.0",
      "model_name": "ButtonStyleModel",
      "state": {}
     },
     "824b731d0a9b4327b9acfe2665bd70df": {
      "model_module": "@jupyter-widgets/base",
      "model_module_version": "1.1.0",
      "model_name": "LayoutModel",
      "state": {}
     },
     "8271177e9e1343e3b4364f0db49770f2": {
      "model_module": "@jupyter-widgets/base",
      "model_module_version": "1.1.0",
      "model_name": "LayoutModel",
      "state": {}
     },
     "82a3c9c3f87a4a059a581562f7810abc": {
      "model_module": "@jupyter-widgets/controls",
      "model_module_version": "1.4.0",
      "model_name": "ToggleButtonsStyleModel",
      "state": {
       "button_width": "",
       "description_width": ""
      }
     },
     "838babfa65f3479996714e5d72502ac7": {
      "model_module": "@jupyter-widgets/base",
      "model_module_version": "1.1.0",
      "model_name": "LayoutModel",
      "state": {
       "align_items": "center"
      }
     },
     "83a94bde9d084bcfb61b8c9ec8e1937f": {
      "model_module": "@jupyter-widgets/controls",
      "model_module_version": "1.4.0",
      "model_name": "HTMLModel",
      "state": {
       "layout": "IPY_MODEL_7caacd29cfe4439ea3c4fec708afdfa2",
       "style": "IPY_MODEL_695ec9396ba64565b6b1f03f61aa43da",
       "value": "<h3>Load Data</h3>"
      }
     },
     "8407e7ad6890485ebefd0af79738c852": {
      "model_module": "@jupyter-widgets/controls",
      "model_module_version": "1.4.0",
      "model_name": "DescriptionStyleModel",
      "state": {
       "description_width": ""
      }
     },
     "84fab29b9cbe443e81d50fa640b66a62": {
      "model_module": "@jupyter-widgets/base",
      "model_module_version": "1.1.0",
      "model_name": "LayoutModel",
      "state": {}
     },
     "865734a8f9ed48f1991c2990821dff5f": {
      "model_module": "@jupyter-widgets/base",
      "model_module_version": "1.1.0",
      "model_name": "LayoutModel",
      "state": {}
     },
     "87f5c91baf4c448c8f97fcf90bed09ab": {
      "model_module": "@jupyter-widgets/controls",
      "model_module_version": "1.4.0",
      "model_name": "HTMLModel",
      "state": {
       "layout": "IPY_MODEL_f37f76d015e646b98ed0a65369002fae",
       "style": "IPY_MODEL_e009ef0773764d91b000c3cb44b1cf24",
       "value": "<h3>Lab: <font color='red'>Not Set</font></h3>"
      }
     },
     "893b24fc21b5447294a9df9af5cbe60f": {
      "model_module": "@jupyter-widgets/controls",
      "model_module_version": "1.4.0",
      "model_name": "ToggleButtonsStyleModel",
      "state": {
       "button_width": "",
       "description_width": ""
      }
     },
     "8974987584424c12b4a8221da655e990": {
      "model_module": "@jupyter-widgets/base",
      "model_module_version": "1.1.0",
      "model_name": "LayoutModel",
      "state": {
       "align_items": "center",
       "justify_content": "center"
      }
     },
     "8999f9dea9b54c9dac24b104d863283b": {
      "model_module": "@jupyter-widgets/controls",
      "model_module_version": "1.4.0",
      "model_name": "ButtonStyleModel",
      "state": {}
     },
     "8a1ea5fa1409493489c57362e55d5bf9": {
      "model_module": "@jupyter-widgets/controls",
      "model_module_version": "1.4.0",
      "model_name": "HTMLModel",
      "state": {
       "layout": "IPY_MODEL_ec685df044dd46dbb9723893879fd4fd",
       "style": "IPY_MODEL_9c9a96c1ce3342bb93a9124c350698a2",
       "value": "<h5>Name  &nbsp</h5> "
      }
     },
     "8aae17268550425db9e26754065926bb": {
      "model_module": "@jupyter-widgets/base",
      "model_module_version": "1.1.0",
      "model_name": "LayoutModel",
      "state": {}
     },
     "8cd4bb184ee443ab9a742634921d2b9e": {
      "model_module": "@jupyter-widgets/base",
      "model_module_version": "1.1.0",
      "model_name": "LayoutModel",
      "state": {}
     },
     "8d6a843ac35f4952923b7c093ecf807b": {
      "model_module": "@jupyter-widgets/controls",
      "model_module_version": "1.4.0",
      "model_name": "DescriptionStyleModel",
      "state": {
       "description_width": ""
      }
     },
     "91c605ddb2a44386a486fa9dfd11bb09": {
      "model_module": "@jupyter-widgets/base",
      "model_module_version": "1.1.0",
      "model_name": "LayoutModel",
      "state": {}
     },
     "9403b267d27f4e09afd8ea2d4dfb6742": {
      "model_module": "@jupyter-widgets/controls",
      "model_module_version": "1.4.0",
      "model_name": "ButtonModel",
      "state": {
       "button_style": "danger",
       "description": " Reset",
       "icon": "refresh",
       "layout": "IPY_MODEL_f84af91c69c94ac2b593322f67c0629a",
       "style": "IPY_MODEL_d97da167c20848e48bb5def1f8a6b22b"
      }
     },
     "945647fac5ca43e58498f87b0f79f2b2": {
      "model_module": "@jupyter-widgets/base",
      "model_module_version": "1.1.0",
      "model_name": "LayoutModel",
      "state": {
       "justify_content": "center",
       "padding": "15px 0 0 0"
      }
     },
     "9657f597dba941f08c0d3c05301b08a7": {
      "model_module": "@jupyter-widgets/controls",
      "model_module_version": "1.4.0",
      "model_name": "ButtonModel",
      "state": {
       "button_style": "primary",
       "description": "Load",
       "layout": "IPY_MODEL_4281a09d28134693a7fa794fb28e4529",
       "style": "IPY_MODEL_35a2f3fda088450bb6c3e4f17759e1db"
      }
     },
     "9743c49c50bb41b88d9f327f7073437c": {
      "model_module": "@jupyter-widgets/controls",
      "model_module_version": "1.4.0",
      "model_name": "ToggleButtonsModel",
      "state": {
       "_options_labels": [
        "Recent",
        "Popular",
        "Stars"
       ],
       "button_style": "",
       "icons": [],
       "index": 0,
       "layout": "IPY_MODEL_4e061737b47a4f9bab33b831c48af994",
       "style": "IPY_MODEL_d7b9a143b2814c02a81691bed294c29d",
       "tooltips": []
      }
     },
     "98397ccd9c2b4dc7b1b90a206819915c": {
      "model_module": "@jupyter-widgets/base",
      "model_module_version": "1.1.0",
      "model_name": "LayoutModel",
      "state": {}
     },
     "98ee4f1032fd40caa6f55e79158a4a09": {
      "model_module": "@jupyter-widgets/base",
      "model_module_version": "1.1.0",
      "model_name": "LayoutModel",
      "state": {
       "display": "none",
       "padding": "20px 0 0 0 "
      }
     },
     "9aba96efcee94f47b1b9400eb06135c5": {
      "model_module": "@jupyter-widgets/controls",
      "model_module_version": "1.4.0",
      "model_name": "DescriptionStyleModel",
      "state": {
       "description_width": ""
      }
     },
     "9af97445c1b246ad907c7c2884637200": {
      "model_module": "@jupyter-widgets/controls",
      "model_module_version": "1.4.0",
      "model_name": "HBoxModel",
      "state": {
       "children": [
        "IPY_MODEL_0156eeeefc9a49948100a2990aa18f1e"
       ],
       "layout": "IPY_MODEL_ec5b5c40fbe643d69568b12f7bdf528e"
      }
     },
     "9b488457d2be46ffb658abf2ac2b50cc": {
      "model_module": "@jupyter-widgets/base",
      "model_module_version": "1.1.0",
      "model_name": "LayoutModel",
      "state": {}
     },
     "9bcc42bd12e249dba2025b90ab824ca5": {
      "model_module": "@jupyter-widgets/base",
      "model_module_version": "1.1.0",
      "model_name": "LayoutModel",
      "state": {}
     },
     "9c9a96c1ce3342bb93a9124c350698a2": {
      "model_module": "@jupyter-widgets/controls",
      "model_module_version": "1.4.0",
      "model_name": "DescriptionStyleModel",
      "state": {
       "description_width": ""
      }
     },
     "9d7f801d8e994d3887e27076a8e18771": {
      "model_module": "@jupyter-widgets/controls",
      "model_module_version": "1.4.0",
      "model_name": "ToggleButtonsModel",
      "state": {
       "_options_labels": [
        "Counts",
        "TPM",
        "FastQ"
       ],
       "button_style": "",
       "icons": [],
       "index": 0,
       "layout": "IPY_MODEL_e9531333c87944388506cd4172183c02",
       "style": "IPY_MODEL_573c603157014c0c85d996841c8d3491",
       "tooltips": []
      }
     },
     "9f1156da5709434482dfb7112a3e2a8c": {
      "model_module": "@jupyter-widgets/base",
      "model_module_version": "1.1.0",
      "model_name": "LayoutModel",
      "state": {}
     },
     "9faed13386ac4a53976d2f7cd88c3943": {
      "model_module": "@jupyter-widgets/controls",
      "model_module_version": "1.4.0",
      "model_name": "HBoxModel",
      "state": {
       "children": [
        "IPY_MODEL_be4bd69615f14dfab458b15e5b13a950",
        "IPY_MODEL_3412b2fcf505461fa574ea8e085483e4"
       ],
       "layout": "IPY_MODEL_0c676a0837e44c41b1bce434e3b0373b"
      }
     },
     "a0e7d1f84db4461eb94bcd6861925ef5": {
      "model_module": "@jupyter-widgets/controls",
      "model_module_version": "1.4.0",
      "model_name": "DescriptionStyleModel",
      "state": {
       "description_width": ""
      }
     },
     "a12c95a96a334ee5b47445e051cbd752": {
      "model_module": "@jupyter-widgets/controls",
      "model_module_version": "1.4.0",
      "model_name": "HTMLModel",
      "state": {
       "layout": "IPY_MODEL_d43e7404d44c453f9e14e089247cb826",
       "style": "IPY_MODEL_4a0098b151c34e08b468248b157f643b",
       "value": "<h3>Load Data <small>from</h3>"
      }
     },
     "a319cac13a274814a2a76e236c612838": {
      "model_module": "@jupyter-widgets/controls",
      "model_module_version": "1.4.0",
      "model_name": "ButtonModel",
      "state": {
       "button_style": "primary",
       "description": "Load",
       "layout": "IPY_MODEL_e17318f5767041a3a98dd2917e7a55ad",
       "style": "IPY_MODEL_72200983a7f3417c8965f69b67eded4e"
      }
     },
     "a4812e7bf59042b6b21976e17fbb4f45": {
      "model_module": "@jupyter-widgets/controls",
      "model_module_version": "1.4.0",
      "model_name": "ButtonModel",
      "state": {
       "button_style": "primary",
       "description": "Load",
       "layout": "IPY_MODEL_d8e52d02a5d04fedb4f51beda95b99dd",
       "style": "IPY_MODEL_0343703539404457b5ac968ebee2238c"
      }
     },
     "a4aba14b245a4b46b218500f2113cdfe": {
      "model_module": "@jupyter-widgets/controls",
      "model_module_version": "1.4.0",
      "model_name": "DescriptionStyleModel",
      "state": {
       "description_width": ""
      }
     },
     "a6de192397b64e068a6cb70b72446c67": {
      "model_module": "@jupyter-widgets/controls",
      "model_module_version": "1.4.0",
      "model_name": "ButtonModel",
      "state": {
       "button_style": "danger",
       "description": "Logout",
       "layout": "IPY_MODEL_ce87ca6ec5e445eebaa9166be71ded28",
       "style": "IPY_MODEL_e7b3a5d35f3c4585bdbe4e747cce0cd3"
      }
     },
     "a7435e10fb1947a18fced9d9c0a0f3db": {
      "model_module": "@jupyter-widgets/base",
      "model_module_version": "1.1.0",
      "model_name": "LayoutModel",
      "state": {
       "margin": "2px 25px 2px 0px",
       "width": "auto"
      }
     },
     "a75152cd9e1d43e48e7b9ddcb102e6c5": {
      "model_module": "@jupyter-widgets/base",
      "model_module_version": "1.1.0",
      "model_name": "LayoutModel",
      "state": {
       "margin": "2px 25px 2px 0px",
       "width": "auto"
      }
     },
     "a83a64b2ce544d1c8b3ad05afd4aa23a": {
      "model_module": "@jupyter-widgets/controls",
      "model_module_version": "1.4.0",
      "model_name": "DescriptionStyleModel",
      "state": {
       "description_width": ""
      }
     },
     "a99deb9d4dbf4ebe86b3aacda238a2d5": {
      "model_module": "@jupyter-widgets/controls",
      "model_module_version": "1.4.0",
      "model_name": "HBoxModel",
      "state": {
       "children": [
        "IPY_MODEL_3a23e03705c349aabf6ee0903dfb33cb",
        "IPY_MODEL_8138410fc9d24680a9daf4247607cee9",
        "IPY_MODEL_9657f597dba941f08c0d3c05301b08a7"
       ],
       "layout": "IPY_MODEL_55763c8243c7490596b7ae9f114ea594"
      }
     },
     "a9e8193a1a84433e8519d434da40d467": {
      "model_module": "@jupyter-widgets/controls",
      "model_module_version": "1.4.0",
      "model_name": "ButtonModel",
      "state": {
       "button_style": "info",
       "icon": "refresh",
       "layout": "IPY_MODEL_a7435e10fb1947a18fced9d9c0a0f3db",
       "style": "IPY_MODEL_c842c7a63dc44a0c91be1ec8a03f7aa6"
      }
     },
     "abf77368e36847a3897267c7b1046b0f": {
      "model_module": "@jupyter-widgets/base",
      "model_module_version": "1.1.0",
      "model_name": "LayoutModel",
      "state": {}
     },
     "ad8d5061efa743699ae8a19fc870b415": {
      "model_module": "@jupyter-widgets/controls",
      "model_module_version": "1.4.0",
      "model_name": "ButtonModel",
      "state": {
       "button_style": "primary",
       "description": "Load",
       "layout": "IPY_MODEL_f7b2bbbf931f414aae03d548109fd8ba",
       "style": "IPY_MODEL_e0c37cc018dd4b598678b4f0f2605dea"
      }
     },
     "ae732d4093b44c56beabbf2ef1838804": {
      "model_module": "@jupyter-widgets/controls",
      "model_module_version": "1.4.0",
      "model_name": "ButtonModel",
      "state": {
       "button_style": "primary",
       "description": "Load",
       "layout": "IPY_MODEL_d14ff0f280994f618f0c6d1b51f60c78",
       "style": "IPY_MODEL_d1047f90be1a42d3895be0e9420ae26a"
      }
     },
     "b0208d48603b425bb92323eee09bb0df": {
      "model_module": "@jupyter-widgets/base",
      "model_module_version": "1.1.0",
      "model_name": "LayoutModel",
      "state": {
       "align_items": "center",
       "justify_content": "center"
      }
     },
     "b04db56032f2470fa0358da6465292e7": {
      "model_module": "@jupyter-widgets/controls",
      "model_module_version": "1.4.0",
      "model_name": "DescriptionStyleModel",
      "state": {
       "description_width": ""
      }
     },
     "b085d1150e884a1b9a9a4712f5c9137a": {
      "model_module": "@jupyter-widgets/controls",
      "model_module_version": "1.4.0",
      "model_name": "ButtonStyleModel",
      "state": {}
     },
     "b1a4ded7335c4a7d94faef08caad97e0": {
      "model_module": "@jupyter-widgets/controls",
      "model_module_version": "1.4.0",
      "model_name": "VBoxModel",
      "state": {
       "children": [
        "IPY_MODEL_1f3b468226b04f1db9b33c84bf358bbe",
        "IPY_MODEL_de27ebc780334255a6f8a556861d15ee"
       ],
       "layout": "IPY_MODEL_38cb7f03439a44f79b04ad1c211f1017"
      }
     },
     "b7de5dc907ae4db7a3a9d95cc0c4f9ff": {
      "model_module": "@jupyter-widgets/base",
      "model_module_version": "1.1.0",
      "model_name": "LayoutModel",
      "state": {}
     },
     "b89f4fba70484ff6b999fa63842ab9eb": {
      "model_module": "@jupyter-widgets/base",
      "model_module_version": "1.1.0",
      "model_name": "LayoutModel",
      "state": {}
     },
     "b93b3700549845e3af8305d887abfb7e": {
      "model_module": "@jupyter-widgets/controls",
      "model_module_version": "1.4.0",
      "model_name": "DropdownModel",
      "state": {
       "_options_labels": [
        "adjusted_matrix.csv",
        "adjusted_matrix_OLD.csv",
        "combat_seq.R",
        "count_matrix_OLD.csv",
        "COVID19",
        "Guinea-SDY1412",
        "Harmonize_Data.R",
        "harmonized_counts.csv",
        "Harmony RNA.ipynb",
        "hgnc_mapping.csv",
        "kallisto_test.R",
        "Mali-SDY1172",
        "Process Raw Data.ipynb",
        "RNA-Seq Harmonization.ipynb",
        "Run_Docker.txt",
        "semi_adjusted_matrix.csv",
        "semi_adjusted_matrix_OLD.csv",
        "subjects_summary_whole_blood.csv",
        "Tanzania-SDY1092",
        "unharmonized_counts.csv"
       ],
       "index": 0,
       "layout": "IPY_MODEL_7d412480424e48b4889e9b96806a014a",
       "style": "IPY_MODEL_0163ba8a1ebc4c41a1e8a82421dce5b3"
      }
     },
     "bc5f155a4d564a6581014761d6602385": {
      "model_module": "@jupyter-widgets/controls",
      "model_module_version": "1.4.0",
      "model_name": "HTMLMathModel",
      "state": {
       "layout": "IPY_MODEL_33a495628e734d8586c9f3640298d705",
       "style": "IPY_MODEL_d22aa88f54024374acc4d145ffe662bc",
       "value": "<h3>Load Data <small>from</h3>"
      }
     },
     "bdd28897aecf4c2db830a721083e5873": {
      "model_module": "@jupyter-widgets/controls",
      "model_module_version": "1.4.0",
      "model_name": "ToggleButtonsStyleModel",
      "state": {
       "button_width": "",
       "description_width": ""
      }
     },
     "be015ef5ef044bde8e5ec290530f6872": {
      "model_module": "@jupyter-widgets/controls",
      "model_module_version": "1.4.0",
      "model_name": "SliderStyleModel",
      "state": {
       "description_width": ""
      }
     },
     "be4bd69615f14dfab458b15e5b13a950": {
      "model_module": "@jupyter-widgets/controls",
      "model_module_version": "1.4.0",
      "model_name": "HTMLModel",
      "state": {
       "layout": "IPY_MODEL_3d3aadd3284f44a493bd8776732c906b",
       "style": "IPY_MODEL_8407e7ad6890485ebefd0af79738c852",
       "value": "<h4>Reads Type  &nbsp</h5> "
      }
     },
     "c2194cdf59914a849bbe6f21928b2500": {
      "model_module": "@jupyter-widgets/base",
      "model_module_version": "1.1.0",
      "model_name": "LayoutModel",
      "state": {}
     },
     "c4e42ce9e19b4aafb90497fcd309b895": {
      "model_module": "@jupyter-widgets/controls",
      "model_module_version": "1.4.0",
      "model_name": "HTMLModel",
      "state": {
       "layout": "IPY_MODEL_4d3973bb70e345b9b01eecdc97b465aa",
       "style": "IPY_MODEL_f93be74c984b400f9f7a62bf340b2ab3",
       "value": "<h4>Reads Type  &nbsp</h5> "
      }
     },
     "c538391a906c44d0b459ce8fdd344339": {
      "model_module": "@jupyter-widgets/controls",
      "model_module_version": "1.4.0",
      "model_name": "HTMLModel",
      "state": {
       "layout": "IPY_MODEL_5c04ddf347d04e5d83ae5e48950669bd",
       "style": "IPY_MODEL_7b0dcbaf63eb41459b62ac84e99f1be3",
       "value": "<h3>Datasets: <font color='red'>None</font></h3>"
      }
     },
     "c70f43bad2b34066a09a79394e93a1ed": {
      "model_module": "@jupyter-widgets/controls",
      "model_module_version": "1.4.0",
      "model_name": "ButtonModel",
      "state": {
       "button_style": "info",
       "icon": "refresh",
       "layout": "IPY_MODEL_a75152cd9e1d43e48e7b9ddcb102e6c5",
       "style": "IPY_MODEL_4ec99aadda884d00afc2b96309fca7ec"
      }
     },
     "c7e40467fa5042caa6ed138f603c157d": {
      "model_module": "@jupyter-widgets/base",
      "model_module_version": "1.1.0",
      "model_name": "LayoutModel",
      "state": {
       "width": "auto"
      }
     },
     "c842c7a63dc44a0c91be1ec8a03f7aa6": {
      "model_module": "@jupyter-widgets/controls",
      "model_module_version": "1.4.0",
      "model_name": "ButtonStyleModel",
      "state": {}
     },
     "c94d7afb67c5432399eb976513baa09e": {
      "model_module": "@jupyter-widgets/controls",
      "model_module_version": "1.4.0",
      "model_name": "ButtonStyleModel",
      "state": {}
     },
     "ca6e0529a72d447f9ed3eac075d2caee": {
      "model_module": "@jupyter-widgets/controls",
      "model_module_version": "1.4.0",
      "model_name": "ButtonStyleModel",
      "state": {}
     },
     "caa04338225a4dcd88d6935c715d5bfc": {
      "model_module": "@jupyter-widgets/controls",
      "model_module_version": "1.4.0",
      "model_name": "ToggleButtonsModel",
      "state": {
       "_options_labels": [
        "Counts",
        "TPM",
        "fastq"
       ],
       "button_style": "",
       "icons": [],
       "index": 0,
       "layout": "IPY_MODEL_b89f4fba70484ff6b999fa63842ab9eb",
       "style": "IPY_MODEL_f6273e1a2f4740e888d14699ec7adfaf",
       "tooltips": []
      }
     },
     "cb65d218ac1b479ebbfc6ea5f0c9aedb": {
      "model_module": "@jupyter-widgets/controls",
      "model_module_version": "1.4.0",
      "model_name": "ToggleButtonsModel",
      "state": {
       "_options_labels": [
        "Recent",
        "Popular",
        "Stars"
       ],
       "button_style": "",
       "icons": [],
       "index": 0,
       "layout": "IPY_MODEL_52ee21bf67f94bb39b785f77a34798aa",
       "style": "IPY_MODEL_2d0633f7f0ed4f2ea2a07493082c37ac",
       "tooltips": []
      }
     },
     "cbc87f2226544f4794147160db67a89b": {
      "model_module": "@jupyter-widgets/base",
      "model_module_version": "1.1.0",
      "model_name": "LayoutModel",
      "state": {}
     },
     "cd99825f82544ae6a7bee02cb75d9eb9": {
      "model_module": "@jupyter-widgets/base",
      "model_module_version": "1.1.0",
      "model_name": "LayoutModel",
      "state": {}
     },
     "ce87ca6ec5e445eebaa9166be71ded28": {
      "model_module": "@jupyter-widgets/base",
      "model_module_version": "1.1.0",
      "model_name": "LayoutModel",
      "state": {
       "width": "auto"
      }
     },
     "cee89d41a5634df99e61636f28d96ae7": {
      "model_module": "@jupyter-widgets/controls",
      "model_module_version": "1.4.0",
      "model_name": "DescriptionStyleModel",
      "state": {
       "description_width": ""
      }
     },
     "cf978e69d91545cb8af4f99c6ef9ae24": {
      "model_module": "@jupyter-widgets/controls",
      "model_module_version": "1.4.0",
      "model_name": "HTMLModel",
      "state": {
       "layout": "IPY_MODEL_91c605ddb2a44386a486fa9dfd11bb09",
       "style": "IPY_MODEL_e6fbdcddc58b4a9ca53a0e5f518c502e",
       "value": "<h3>Datasets: <font color='red'>None</font></h3><hr>"
      }
     },
     "cfc1e88cb3634c89bf969a24515ef64f": {
      "model_module": "@jupyter-widgets/base",
      "model_module_version": "1.1.0",
      "model_name": "LayoutModel",
      "state": {
       "width": "auto"
      }
     },
     "d1047f90be1a42d3895be0e9420ae26a": {
      "model_module": "@jupyter-widgets/controls",
      "model_module_version": "1.4.0",
      "model_name": "ButtonStyleModel",
      "state": {}
     },
     "d14ff0f280994f618f0c6d1b51f60c78": {
      "model_module": "@jupyter-widgets/base",
      "model_module_version": "1.1.0",
      "model_name": "LayoutModel",
      "state": {
       "width": "auto"
      }
     },
     "d1bd091615c54bc2935388d7a5c40b9c": {
      "model_module": "@jupyter-widgets/controls",
      "model_module_version": "1.4.0",
      "model_name": "HTMLModel",
      "state": {
       "layout": "IPY_MODEL_754dfa65041c415e92843f52eb1ca564",
       "style": "IPY_MODEL_1f83e3ce9ce0416e93e8a2fc313c0d10",
       "value": "<h3>Load Data</h3><hr>"
      }
     },
     "d22aa88f54024374acc4d145ffe662bc": {
      "model_module": "@jupyter-widgets/controls",
      "model_module_version": "1.4.0",
      "model_name": "DescriptionStyleModel",
      "state": {
       "description_width": ""
      }
     },
     "d30e047b3eeb484f8c7b58da02c78c86": {
      "model_module": "@jupyter-widgets/base",
      "model_module_version": "1.1.0",
      "model_name": "LayoutModel",
      "state": {}
     },
     "d43e7404d44c453f9e14e089247cb826": {
      "model_module": "@jupyter-widgets/base",
      "model_module_version": "1.1.0",
      "model_name": "LayoutModel",
      "state": {}
     },
     "d6afdbd957174ee485dd24641a28e3ea": {
      "model_module": "@jupyter-widgets/controls",
      "model_module_version": "1.4.0",
      "model_name": "HBoxModel",
      "state": {
       "children": [
        "IPY_MODEL_c4e42ce9e19b4aafb90497fcd309b895",
        "IPY_MODEL_28ec4d0378aa495eb4845b6bd8b052e7"
       ],
       "layout": "IPY_MODEL_7a79a67195bf49b7bb99d76ceed37323"
      }
     },
     "d7153200d1b240cbaa113ee531d3f219": {
      "model_module": "@jupyter-widgets/controls",
      "model_module_version": "1.4.0",
      "model_name": "ToggleButtonsStyleModel",
      "state": {
       "button_width": "",
       "description_width": ""
      }
     },
     "d7b9a143b2814c02a81691bed294c29d": {
      "model_module": "@jupyter-widgets/controls",
      "model_module_version": "1.4.0",
      "model_name": "ToggleButtonsStyleModel",
      "state": {
       "button_width": "",
       "description_width": ""
      }
     },
     "d8e52d02a5d04fedb4f51beda95b99dd": {
      "model_module": "@jupyter-widgets/base",
      "model_module_version": "1.1.0",
      "model_name": "LayoutModel",
      "state": {
       "width": "auto"
      }
     },
     "d953f9d0aa5d4ef9ad6134cb940efcad": {
      "model_module": "@jupyter-widgets/base",
      "model_module_version": "1.1.0",
      "model_name": "LayoutModel",
      "state": {}
     },
     "d97da167c20848e48bb5def1f8a6b22b": {
      "model_module": "@jupyter-widgets/controls",
      "model_module_version": "1.4.0",
      "model_name": "ButtonStyleModel",
      "state": {}
     },
     "dad999d994654bd4b2d52ad6a1f7516c": {
      "model_module": "@jupyter-widgets/base",
      "model_module_version": "1.1.0",
      "model_name": "LayoutModel",
      "state": {
       "align_items": "center",
       "justify_content": "center"
      }
     },
     "dce72365f24b4d41985aa0c47bb71c00": {
      "model_module": "@jupyter-widgets/controls",
      "model_module_version": "1.4.0",
      "model_name": "HTMLMathModel",
      "state": {
       "layout": "IPY_MODEL_824b731d0a9b4327b9acfe2665bd70df",
       "style": "IPY_MODEL_213b319400f24cdba14940449d31cb2b",
       "value": "<h3>Load Data from</h3>"
      }
     },
     "de27ebc780334255a6f8a556861d15ee": {
      "model_module": "@jupyter-widgets/controls",
      "model_module_version": "1.4.0",
      "model_name": "ToggleButtonsModel",
      "state": {
       "_options_labels": [
        "Counts",
        "TPM",
        "FastQ"
       ],
       "button_style": "",
       "icons": [],
       "index": 2,
       "layout": "IPY_MODEL_3c7fd9e0c96e4e0cb5fe82dfe53edd4b",
       "style": "IPY_MODEL_1cdfe1dfd91b44d285273ee9e3899956",
       "tooltips": []
      }
     },
     "de4d312790b94e7b8bc6b28cd073eda6": {
      "model_module": "@jupyter-widgets/controls",
      "model_module_version": "1.4.0",
      "model_name": "HBoxModel",
      "state": {
       "children": [
        "IPY_MODEL_606586ed53c242bab21e45233b730394",
        "IPY_MODEL_744e9844cccd4e8b967bb9e06358c1f8",
        "IPY_MODEL_223d88e9433e43b08d872602a17f490b"
       ],
       "layout": "IPY_MODEL_d30e047b3eeb484f8c7b58da02c78c86"
      }
     },
     "decfc441cda941a092caf5898b7ed88e": {
      "model_module": "@jupyter-widgets/controls",
      "model_module_version": "1.4.0",
      "model_name": "ButtonModel",
      "state": {
       "button_style": "primary",
       "description": "Load",
       "layout": "IPY_MODEL_73e2f16dfd5c475a935778059a5455e2",
       "style": "IPY_MODEL_813888cf68f6491c9bc4a0d04e99486d"
      }
     },
     "dfdf21bbc0094afeafd6f755bd84f3ed": {
      "model_module": "@jupyter-widgets/controls",
      "model_module_version": "1.4.0",
      "model_name": "HBoxModel",
      "state": {
       "children": [
        "IPY_MODEL_0b5b8488d8594a80ba0819d75ec84bbf",
        "IPY_MODEL_b93b3700549845e3af8305d887abfb7e",
        "IPY_MODEL_14c886b5915b450f84b252bea05b0b18",
        "IPY_MODEL_a319cac13a274814a2a76e236c612838"
       ],
       "layout": "IPY_MODEL_38a0d5d818594da5b380b5fdb38b9001"
      }
     },
     "e009ef0773764d91b000c3cb44b1cf24": {
      "model_module": "@jupyter-widgets/controls",
      "model_module_version": "1.4.0",
      "model_name": "DescriptionStyleModel",
      "state": {
       "description_width": ""
      }
     },
     "e01e0152746143e883515a17490deb00": {
      "model_module": "@jupyter-widgets/controls",
      "model_module_version": "1.4.0",
      "model_name": "HTMLModel",
      "state": {
       "layout": "IPY_MODEL_cd99825f82544ae6a7bee02cb75d9eb9",
       "style": "IPY_MODEL_f5254226741545309240d4fb9fadd0dd",
       "value": "<h3>Datasets: <font color='red'>None</font></h3><hr>"
      }
     },
     "e0c37cc018dd4b598678b4f0f2605dea": {
      "model_module": "@jupyter-widgets/controls",
      "model_module_version": "1.4.0",
      "model_name": "ButtonStyleModel",
      "state": {}
     },
     "e17318f5767041a3a98dd2917e7a55ad": {
      "model_module": "@jupyter-widgets/base",
      "model_module_version": "1.1.0",
      "model_name": "LayoutModel",
      "state": {
       "width": "auto"
      }
     },
     "e1d821ad3fca455aa33be810b8e31000": {
      "model_module": "@jupyter-widgets/controls",
      "model_module_version": "1.4.0",
      "model_name": "DropdownModel",
      "state": {
       "_options_labels": [
        "adjusted_matrix.csv",
        "adjusted_matrix_OLD.csv",
        "combat_seq.R",
        "count_matrix_OLD.csv",
        "COVID19",
        "Guinea-SDY1412",
        "Harmonize_Data.R",
        "harmonized_counts.csv",
        "Harmony RNA.ipynb",
        "hgnc_mapping.csv",
        "kallisto_test.R",
        "Mali-SDY1172",
        "Process Raw Data.ipynb",
        "RNA-Seq Harmonization.ipynb",
        "Run_Docker.txt",
        "semi_adjusted_matrix.csv",
        "semi_adjusted_matrix_OLD.csv",
        "subjects_summary_whole_blood.csv",
        "Tanzania-SDY1092",
        "unharmonized_counts.csv"
       ],
       "index": 0,
       "layout": "IPY_MODEL_c2194cdf59914a849bbe6f21928b2500",
       "style": "IPY_MODEL_208ef46fe93d4fbf814c6610dcd26a22"
      }
     },
     "e38e58b44aa0465f8382acc08dfc3912": {
      "model_module": "@jupyter-widgets/base",
      "model_module_version": "1.1.0",
      "model_name": "LayoutModel",
      "state": {}
     },
     "e547004619f948eb84a6ea5ec873a3d8": {
      "model_module": "@jupyter-widgets/controls",
      "model_module_version": "1.4.0",
      "model_name": "ButtonStyleModel",
      "state": {}
     },
     "e6fbdcddc58b4a9ca53a0e5f518c502e": {
      "model_module": "@jupyter-widgets/controls",
      "model_module_version": "1.4.0",
      "model_name": "DescriptionStyleModel",
      "state": {
       "description_width": ""
      }
     },
     "e7b3a5d35f3c4585bdbe4e747cce0cd3": {
      "model_module": "@jupyter-widgets/controls",
      "model_module_version": "1.4.0",
      "model_name": "ButtonStyleModel",
      "state": {}
     },
     "e8b92b845df64f09b18e9594f517cc92": {
      "model_module": "@jupyter-widgets/base",
      "model_module_version": "1.1.0",
      "model_name": "LayoutModel",
      "state": {}
     },
     "e9440b72fb0a4c2e9d90f780e11f5e66": {
      "model_module": "@jupyter-widgets/controls",
      "model_module_version": "1.4.0",
      "model_name": "HBoxModel",
      "state": {
       "children": [
        "IPY_MODEL_632890d7c7d342fdba5d5443cdd12a82"
       ],
       "layout": "IPY_MODEL_524de5616d554ce59116495812ba7a91"
      }
     },
     "e9531333c87944388506cd4172183c02": {
      "model_module": "@jupyter-widgets/base",
      "model_module_version": "1.1.0",
      "model_name": "LayoutModel",
      "state": {}
     },
     "e98f9bdaded64994b58df47d26979cb7": {
      "model_module": "@jupyter-widgets/controls",
      "model_module_version": "1.4.0",
      "model_name": "HBoxModel",
      "state": {
       "children": [
        "IPY_MODEL_0b5b8488d8594a80ba0819d75ec84bbf",
        "IPY_MODEL_b93b3700549845e3af8305d887abfb7e",
        "IPY_MODEL_14c886b5915b450f84b252bea05b0b18",
        "IPY_MODEL_a319cac13a274814a2a76e236c612838"
       ],
       "layout": "IPY_MODEL_838babfa65f3479996714e5d72502ac7"
      }
     },
     "e9d1588af7194bfea3bc8133376abcee": {
      "model_module": "@jupyter-widgets/base",
      "model_module_version": "1.1.0",
      "model_name": "LayoutModel",
      "state": {}
     },
     "eaafc516382b422b8ab573487b73b338": {
      "model_module": "@jupyter-widgets/controls",
      "model_module_version": "1.4.0",
      "model_name": "DescriptionStyleModel",
      "state": {
       "description_width": ""
      }
     },
     "eabef45938d14885acd874202546a82a": {
      "model_module": "@jupyter-widgets/controls",
      "model_module_version": "1.4.0",
      "model_name": "ToggleButtonsStyleModel",
      "state": {
       "button_width": "",
       "description_width": ""
      }
     },
     "eacfe7af42e846b5b81d6615f1a5d46c": {
      "model_module": "@jupyter-widgets/base",
      "model_module_version": "1.1.0",
      "model_name": "LayoutModel",
      "state": {}
     },
     "ec5b5c40fbe643d69568b12f7bdf528e": {
      "model_module": "@jupyter-widgets/base",
      "model_module_version": "1.1.0",
      "model_name": "LayoutModel",
      "state": {
       "justify_content": "center",
       "padding": "15px 0 0 0"
      }
     },
     "ec685df044dd46dbb9723893879fd4fd": {
      "model_module": "@jupyter-widgets/base",
      "model_module_version": "1.1.0",
      "model_name": "LayoutModel",
      "state": {}
     },
     "f16ac51d88c54d0eb31bf265053fef0d": {
      "model_module": "@jupyter-widgets/controls",
      "model_module_version": "1.4.0",
      "model_name": "DescriptionStyleModel",
      "state": {
       "description_width": ""
      }
     },
     "f243d2ec85d14fd7927b2414711cb7cf": {
      "model_module": "@jupyter-widgets/base",
      "model_module_version": "1.1.0",
      "model_name": "LayoutModel",
      "state": {}
     },
     "f37f76d015e646b98ed0a65369002fae": {
      "model_module": "@jupyter-widgets/base",
      "model_module_version": "1.1.0",
      "model_name": "LayoutModel",
      "state": {}
     },
     "f4fb57f12c7e4ad688a358d1c502861f": {
      "model_module": "@jupyter-widgets/controls",
      "model_module_version": "1.4.0",
      "model_name": "HBoxModel",
      "state": {
       "children": [
        "IPY_MODEL_9403b267d27f4e09afd8ea2d4dfb6742"
       ],
       "layout": "IPY_MODEL_945647fac5ca43e58498f87b0f79f2b2"
      }
     },
     "f5254226741545309240d4fb9fadd0dd": {
      "model_module": "@jupyter-widgets/controls",
      "model_module_version": "1.4.0",
      "model_name": "DescriptionStyleModel",
      "state": {
       "description_width": ""
      }
     },
     "f6273e1a2f4740e888d14699ec7adfaf": {
      "model_module": "@jupyter-widgets/controls",
      "model_module_version": "1.4.0",
      "model_name": "ToggleButtonsStyleModel",
      "state": {
       "button_width": "",
       "description_width": ""
      }
     },
     "f68d14782c1b48aeae45ed63db01ea0e": {
      "model_module": "@jupyter-widgets/controls",
      "model_module_version": "1.4.0",
      "model_name": "VBoxModel",
      "state": {
       "children": [
        "IPY_MODEL_6257ad733dd547cb9b705f6681651ab5",
        "IPY_MODEL_6da2e1d76a2047c6b1e31882799f6449"
       ],
       "layout": "IPY_MODEL_dad999d994654bd4b2d52ad6a1f7516c"
      }
     },
     "f7b2bbbf931f414aae03d548109fd8ba": {
      "model_module": "@jupyter-widgets/base",
      "model_module_version": "1.1.0",
      "model_name": "LayoutModel",
      "state": {
       "width": "auto"
      }
     },
     "f80c72fff31a48eeb457697f03c43999": {
      "model_module": "@jupyter-widgets/base",
      "model_module_version": "1.1.0",
      "model_name": "LayoutModel",
      "state": {}
     },
     "f84af91c69c94ac2b593322f67c0629a": {
      "model_module": "@jupyter-widgets/base",
      "model_module_version": "1.1.0",
      "model_name": "LayoutModel",
      "state": {}
     },
     "f93be74c984b400f9f7a62bf340b2ab3": {
      "model_module": "@jupyter-widgets/controls",
      "model_module_version": "1.4.0",
      "model_name": "DescriptionStyleModel",
      "state": {
       "description_width": ""
      }
     },
     "f99c8067c72d402091ded51f5476916f": {
      "model_module": "@jupyter-widgets/controls",
      "model_module_version": "1.4.0",
      "model_name": "HTMLModel",
      "state": {
       "layout": "IPY_MODEL_8271177e9e1343e3b4364f0db49770f2",
       "style": "IPY_MODEL_a4aba14b245a4b46b218500f2113cdfe",
       "value": "<h3 >Load Data <small>from</h3>"
      }
     },
     "fee6a474d3db43e5a18d9c7847e59bec": {
      "model_module": "@jupyter-widgets/controls",
      "model_module_version": "1.4.0",
      "model_name": "ButtonStyleModel",
      "state": {}
     },
     "ff187413ce134ed8aac9692f1b3157eb": {
      "model_module": "@jupyter-widgets/controls",
      "model_module_version": "1.4.0",
      "model_name": "ButtonStyleModel",
      "state": {}
     },
     "ff36e6e046154a05a2eecde5467e9bcc": {
      "model_module": "@jupyter-widgets/controls",
      "model_module_version": "1.4.0",
      "model_name": "DropdownModel",
      "state": {
       "_options_labels": [
        "Harmony RNA.ipynb",
        "Source Code.ipynb"
       ],
       "index": 0,
       "layout": "IPY_MODEL_cbc87f2226544f4794147160db67a89b",
       "style": "IPY_MODEL_9aba96efcee94f47b1b9400eb06135c5"
      }
     }
    },
    "version_major": 2,
    "version_minor": 0
   }
  }
 },
 "nbformat": 4,
 "nbformat_minor": 2
}
