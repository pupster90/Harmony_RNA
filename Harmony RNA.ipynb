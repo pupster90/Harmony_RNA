{
 "cells": [
  {
   "cell_type": "markdown",
   "metadata": {},
   "source": [
    "<center><font size=7>Welcome to <font color=\"magenta\" size=9><b><i>Harmony <font size=6 color=\"gray\">RNA"
   ]
  },
  {
   "cell_type": "code",
   "execution_count": null,
   "metadata": {},
   "outputs": [],
   "source": [
    "HTML(\"\"\"\n",
    "<div class=\"row\"><div class=\"col-xs-12 col-md-offset-3 col-md-6\">\n",
    "<div class=\"embed-responsive embed-responsive-16by9\">\n",
    "  <iframe class=\"embed-responsive-item\"\n",
    "  src='https://www.youtube.com/embed/lA1-lHms0I0'></iframe></div>\n",
    "</div></div>\n",
    "<hr>\n",
    "\"\"\")"
   ]
  },
  {
   "cell_type": "markdown",
   "metadata": {
    "cell_style": "center"
   },
   "source": [
    "<font color=\"magenta\"> Harmony</font> is a useful tool for **RNA-Seq** data. It gives scientists the ability to *instantly* combine [harmonize](www.google.com) different datasets together to create an interactive graph. <font color=\"magenta\"> Harmony</font> works with all the most popular data types including counts data, TPM's and even raw fastq files. Watch the video tutorial learn how to use the software on your data!"
   ]
  },
  {
   "cell_type": "code",
   "execution_count": null,
   "metadata": {
    "cell_style": "split"
   },
   "outputs": [],
   "source": [
    "%run \"Source Code.ipynb\"\n",
    "Harmony.b.final"
   ]
  },
  {
   "cell_type": "code",
   "execution_count": null,
   "metadata": {},
   "outputs": [],
   "source": []
  }
 ],
 "metadata": {
  "hide_input": false,
  "kernelspec": {
   "display_name": "Python 3",
   "language": "python",
   "name": "python3"
  },
  "language_info": {
   "codemirror_mode": {
    "name": "ipython",
    "version": 3
   },
   "file_extension": ".py",
   "mimetype": "text/x-python",
   "name": "python",
   "nbconvert_exporter": "python",
   "pygments_lexer": "ipython3",
   "version": "3.7.3"
  },
  "toc": {
   "base_numbering": 1,
   "nav_menu": {},
   "number_sections": true,
   "sideBar": true,
   "skip_h1_title": false,
   "title_cell": "Table of Contents",
   "title_sidebar": "Contents",
   "toc_cell": false,
   "toc_position": {},
   "toc_section_display": true,
   "toc_window_display": false
  },
  "varInspector": {
   "cols": {
    "lenName": 16,
    "lenType": 16,
    "lenVar": 40
   },
   "kernels_config": {
    "python": {
     "delete_cmd_postfix": "",
     "delete_cmd_prefix": "del ",
     "library": "var_list.py",
     "varRefreshCmd": "print(var_dic_list())"
    },
    "r": {
     "delete_cmd_postfix": ") ",
     "delete_cmd_prefix": "rm(",
     "library": "var_list.r",
     "varRefreshCmd": "cat(var_dic_list()) "
    }
   },
   "types_to_exclude": [
    "module",
    "function",
    "builtin_function_or_method",
    "instance",
    "_Feature"
   ],
   "window_display": false
  },
  "widgets": {
   "application/vnd.jupyter.widget-state+json": {
    "state": {
     "00222839a1424af7a55154dc0ecf59cb": {
      "model_module": "@jupyter-widgets/controls",
      "model_module_version": "1.4.0",
      "model_name": "DropdownModel",
      "state": {
       "_options_labels": [
        "adjusted_matrix.csv",
        "adjusted_matrix_OLD.csv",
        "combat_seq.R",
        "count_matrix_OLD.csv",
        "COVID19",
        "Guinea-SDY1412",
        "Harmonize_Data.R",
        "harmonized_counts.csv",
        "Harmony RNA.ipynb",
        "hgnc_mapping.csv",
        "kallisto_test.R",
        "Mali-SDY1172",
        "Process Raw Data.ipynb",
        "RNA-Seq Harmonization.ipynb",
        "Run_Docker.txt",
        "semi_adjusted_matrix.csv",
        "semi_adjusted_matrix_OLD.csv",
        "subjects_summary_whole_blood.csv",
        "Tanzania-SDY1092",
        "unharmonized_counts.csv"
       ],
       "index": 0,
       "layout": "IPY_MODEL_9f1156da5709434482dfb7112a3e2a8c",
       "style": "IPY_MODEL_a0e7d1f84db4461eb94bcd6861925ef5"
      }
     },
     "007ae8bbc2e74dfd92b14c34a93652e2": {
      "model_module": "@jupyter-widgets/controls",
      "model_module_version": "1.4.0",
      "model_name": "SliderStyleModel",
      "state": {
       "description_width": ""
      }
     },
     "009d86bbd981494b81e67c11af034c31": {
      "model_module": "@jupyter-widgets/base",
      "model_module_version": "1.1.0",
      "model_name": "LayoutModel",
      "state": {}
     },
     "0156eeeefc9a49948100a2990aa18f1e": {
      "model_module": "@jupyter-widgets/controls",
      "model_module_version": "1.4.0",
      "model_name": "ButtonModel",
      "state": {
       "button_style": "danger",
       "description": " Reset",
       "layout": "IPY_MODEL_009d86bbd981494b81e67c11af034c31",
       "style": "IPY_MODEL_e547004619f948eb84a6ea5ec873a3d8"
      }
     },
     "0163ba8a1ebc4c41a1e8a82421dce5b3": {
      "model_module": "@jupyter-widgets/controls",
      "model_module_version": "1.4.0",
      "model_name": "DescriptionStyleModel",
      "state": {
       "description_width": ""
      }
     },
     "01cd8bca4cd14b929d721eaceaf7e7c8": {
      "model_module": "@jupyter-widgets/controls",
      "model_module_version": "1.4.0",
      "model_name": "DescriptionStyleModel",
      "state": {
       "description_width": ""
      }
     },
     "0343703539404457b5ac968ebee2238c": {
      "model_module": "@jupyter-widgets/controls",
      "model_module_version": "1.4.0",
      "model_name": "ButtonStyleModel",
      "state": {}
     },
     "046d96d3f64948e4ac82bb77c5fbe8ea": {
      "model_module": "@jupyter-widgets/base",
      "model_module_version": "1.1.0",
      "model_name": "LayoutModel",
      "state": {}
     },
     "04b6b22bd3474e8cbe8188622e098891": {
      "model_module": "@jupyter-widgets/controls",
      "model_module_version": "1.4.0",
      "model_name": "ToggleButtonsModel",
      "state": {
       "_options_labels": [
        "Single",
        "Double"
       ],
       "button_style": "",
       "icons": [],
       "index": 0,
       "layout": "IPY_MODEL_195b739f099e46fd969d8b1dca07872f",
       "style": "IPY_MODEL_81e17af3bc9b497cbfe2aefffab71276",
       "tooltips": []
      }
     },
     "0557b3299d8f4d74b19f3cdd4903cac4": {
      "model_module": "@jupyter-widgets/controls",
      "model_module_version": "1.4.0",
      "model_name": "DescriptionStyleModel",
      "state": {
       "description_width": ""
      }
     },
     "0628f09245b74e7abb22813934ee0f59": {
      "model_module": "@jupyter-widgets/controls",
      "model_module_version": "1.4.0",
      "model_name": "HBoxModel",
      "state": {
       "children": [
        "IPY_MODEL_00222839a1424af7a55154dc0ecf59cb",
        "IPY_MODEL_29c1150bd90b48a59fdd2d49f21321de",
        "IPY_MODEL_a4812e7bf59042b6b21976e17fbb4f45"
       ],
       "layout": "IPY_MODEL_64dba5c677454842869670ab8ba00984"
      }
     },
     "073a9d12e4d3488cbfc0c0f77204e97d": {
      "model_module": "@jupyter-widgets/controls",
      "model_module_version": "1.4.0",
      "model_name": "HTMLModel",
      "state": {
       "layout": "IPY_MODEL_9bcc42bd12e249dba2025b90ab824ca5",
       "style": "IPY_MODEL_a83a64b2ce544d1c8b3ad05afd4aa23a",
       "value": "<h3>Selected Data: <font color='red'>None</font></h3>"
      }
     },
     "083de7643a094df19eed0b40edae2d7a": {
      "model_module": "@jupyter-widgets/controls",
      "model_module_version": "1.4.0",
      "model_name": "HTMLModel",
      "state": {
       "layout": "IPY_MODEL_73cdcf8ace87440aa36dbb5597202768",
       "style": "IPY_MODEL_9f0ef674fa86477f8fcfb0a7c12705cc",
       "value": "<h2>Datasets: <font color='red'>None</font></h3><hr style='padding:0px; margin:0px'>"
      }
     },
     "08c969a4f37a40568a28e5a63db557fa": {
      "model_module": "@jupyter-widgets/controls",
      "model_module_version": "1.4.0",
      "model_name": "DescriptionStyleModel",
      "state": {
       "description_width": ""
      }
     },
     "099517d08d1045be81cfc9b7ccd08a42": {
      "model_module": "@jupyter-widgets/controls",
      "model_module_version": "1.4.0",
      "model_name": "ButtonStyleModel",
      "state": {}
     },
     "0a70207d0c4a454c9c2254489504e959": {
      "model_module": "@jupyter-widgets/controls",
      "model_module_version": "1.4.0",
      "model_name": "HTMLMathModel",
      "state": {
       "layout": "IPY_MODEL_3a3b6a7852ab4b108e948a954e1bae03",
       "style": "IPY_MODEL_cee89d41a5634df99e61636f28d96ae7",
       "value": "<h3>Load Data <small>from</h3>"
      }
     },
     "0a718c7abae443eeb55755da9624505c": {
      "model_module": "@jupyter-widgets/base",
      "model_module_version": "1.1.0",
      "model_name": "LayoutModel",
      "state": {}
     },
     "0b5b8488d8594a80ba0819d75ec84bbf": {
      "model_module": "@jupyter-widgets/controls",
      "model_module_version": "1.4.0",
      "model_name": "HTMLModel",
      "state": {
       "layout": "IPY_MODEL_737537f3b30f4a15a43396e15fca1d8a",
       "style": "IPY_MODEL_eaafc516382b422b8ab573487b73b338",
       "value": "<h5>File  &nbsp</h5> "
      }
     },
     "0b894fb1521f4e0e8a56ecb59d98361d": {
      "model_module": "@jupyter-widgets/controls",
      "model_module_version": "1.4.0",
      "model_name": "HTMLMathModel",
      "state": {
       "layout": "IPY_MODEL_0a718c7abae443eeb55755da9624505c",
       "style": "IPY_MODEL_256c6d25a159437a80363f54c2f19de9",
       "value": "<h3>Load Data from</h3>"
      }
     },
     "0c428e3533284c2b98219e3f8ec4b0f5": {
      "model_module": "@jupyter-widgets/controls",
      "model_module_version": "1.4.0",
      "model_name": "ButtonStyleModel",
      "state": {}
     },
     "0c4c328234944ab9b0b8e4f1b5308fb9": {
      "model_module": "@jupyter-widgets/controls",
      "model_module_version": "1.4.0",
      "model_name": "HBoxModel",
      "state": {
       "children": [
        "IPY_MODEL_0b894fb1521f4e0e8a56ecb59d98361d",
        "IPY_MODEL_9d7f801d8e994d3887e27076a8e18771"
       ],
       "layout": "IPY_MODEL_43540977f8e64d9f9dc8365186881b70"
      }
     },
     "0d596def47144355a99c21205736bc52": {
      "model_module": "@jupyter-widgets/controls",
      "model_module_version": "1.4.0",
      "model_name": "ButtonStyleModel",
      "state": {}
     },
     "0dc29697be054eaa9e59f68c233601ae": {
      "model_module": "@jupyter-widgets/controls",
      "model_module_version": "1.4.0",
      "model_name": "ToggleButtonsModel",
      "state": {
       "_options_labels": [
        "Counts",
        "TPM",
        "FastQ"
       ],
       "button_style": "",
       "icons": [],
       "index": 0,
       "layout": "IPY_MODEL_572e1dfe2d3a445fa7321c08133a5e66",
       "style": "IPY_MODEL_11d3a4e4870942b48328d3fd00141db8",
       "tooltips": []
      }
     },
     "0de1447f90d142a48d4ac0c4afa5154c": {
      "model_module": "@jupyter-widgets/base",
      "model_module_version": "1.1.0",
      "model_name": "LayoutModel",
      "state": {}
     },
     "0e08f8e079494f53b2ac3d037b2898be": {
      "model_module": "@jupyter-widgets/controls",
      "model_module_version": "1.4.0",
      "model_name": "HTMLModel",
      "state": {
       "layout": "IPY_MODEL_f243d2ec85d14fd7927b2414711cb7cf",
       "style": "IPY_MODEL_193719fad1db47fca2650146464c58e6",
       "value": "<h3>Load Data</h3>"
      }
     },
     "0fa0632a30fb48528ed52f4dcadf83d5": {
      "model_module": "@jupyter-widgets/controls",
      "model_module_version": "1.4.0",
      "model_name": "DescriptionStyleModel",
      "state": {
       "description_width": ""
      }
     },
     "108d5c75b81f4f1a922e35f1a5b906ba": {
      "model_module": "@jupyter-widgets/base",
      "model_module_version": "1.1.0",
      "model_name": "LayoutModel",
      "state": {}
     },
     "11d3a4e4870942b48328d3fd00141db8": {
      "model_module": "@jupyter-widgets/controls",
      "model_module_version": "1.4.0",
      "model_name": "ToggleButtonsStyleModel",
      "state": {
       "button_width": "",
       "description_width": ""
      }
     },
     "1233f6a60f68474786a5525b8ecdf2a1": {
      "model_module": "@jupyter-widgets/base",
      "model_module_version": "1.1.0",
      "model_name": "LayoutModel",
      "state": {}
     },
     "1289d454fda8497285aeb9f3631b945d": {
      "model_module": "@jupyter-widgets/controls",
      "model_module_version": "1.4.0",
      "model_name": "DescriptionStyleModel",
      "state": {
       "description_width": ""
      }
     },
     "1380f942683840ee95302d0a0fff0fb1": {
      "model_module": "@jupyter-widgets/controls",
      "model_module_version": "1.4.0",
      "model_name": "HBoxModel",
      "state": {
       "children": [
        "IPY_MODEL_4b32642ab6104060af393c1f51ae89ca",
        "IPY_MODEL_c70f43bad2b34066a09a79394e93a1ed",
        "IPY_MODEL_ae732d4093b44c56beabbf2ef1838804"
       ],
       "layout": "IPY_MODEL_abf77368e36847a3897267c7b1046b0f"
      }
     },
     "14c886b5915b450f84b252bea05b0b18": {
      "model_module": "@jupyter-widgets/controls",
      "model_module_version": "1.4.0",
      "model_name": "ButtonModel",
      "state": {
       "button_style": "info",
       "icon": "refresh",
       "layout": "IPY_MODEL_389a92c4b0ba4f21880faea16741562e",
       "style": "IPY_MODEL_b085d1150e884a1b9a9a4712f5c9137a"
      }
     },
     "14e7ddce616046038c5369a24336274f": {
      "model_module": "@jupyter-widgets/base",
      "model_module_version": "1.1.0",
      "model_name": "LayoutModel",
      "state": {
       "align_items": "center",
       "justify_content": "center"
      }
     },
     "163a970db38542f8962f825f3f71829e": {
      "model_module": "@jupyter-widgets/base",
      "model_module_version": "1.1.0",
      "model_name": "LayoutModel",
      "state": {
       "margin": "2px 25px 2px 0px",
       "width": "auto"
      }
     },
     "16df829f6858424ba78d833f8692e316": {
      "model_module": "@jupyter-widgets/controls",
      "model_module_version": "1.4.0",
      "model_name": "ButtonModel",
      "state": {
       "button_style": "danger",
       "description": " Reset",
       "layout": "IPY_MODEL_829f039c946644f6939af9fcbf8fb406",
       "style": "IPY_MODEL_aa1fb4d6f3814565936a7c89c76f2572"
      }
     },
     "189274e8204f4fa6909024b3339bdc38": {
      "model_module": "@jupyter-widgets/controls",
      "model_module_version": "1.4.0",
      "model_name": "ToggleButtonsStyleModel",
      "state": {
       "button_width": "",
       "description_width": ""
      }
     },
     "192463d2bdf54f4fa5b5352938a7e131": {
      "model_module": "@jupyter-widgets/controls",
      "model_module_version": "1.4.0",
      "model_name": "HBoxModel",
      "state": {
       "children": [
        "IPY_MODEL_4cc1020cad144f8d841f80debb2644a8",
        "IPY_MODEL_50ff4c9e1a884f8491221fd32d76faab",
        "IPY_MODEL_ad8d5061efa743699ae8a19fc870b415"
       ],
       "layout": "IPY_MODEL_f80c72fff31a48eeb457697f03c43999"
      }
     },
     "192f3cae891644e086189ae49ca18b2b": {
      "model_module": "@jupyter-widgets/controls",
      "model_module_version": "1.4.0",
      "model_name": "HTMLModel",
      "state": {
       "layout": "IPY_MODEL_f4f1cf6574a847688067d57d3fec8d0c",
       "style": "IPY_MODEL_417958ba58ab4e4dbb79267e524b1af0",
       "value": "<h3 >Load Data <small>from</h3>"
      }
     },
     "193719fad1db47fca2650146464c58e6": {
      "model_module": "@jupyter-widgets/controls",
      "model_module_version": "1.4.0",
      "model_name": "DescriptionStyleModel",
      "state": {
       "description_width": ""
      }
     },
     "195b739f099e46fd969d8b1dca07872f": {
      "model_module": "@jupyter-widgets/base",
      "model_module_version": "1.1.0",
      "model_name": "LayoutModel",
      "state": {}
     },
     "1a5fa1bff30e4de89b9810aed0f1c746": {
      "model_module": "@jupyter-widgets/controls",
      "model_module_version": "1.4.0",
      "model_name": "ButtonModel",
      "state": {
       "button_style": "info",
       "icon": "refresh",
       "layout": "IPY_MODEL_409c5b6d793744aca14ecd3721677d2e",
       "style": "IPY_MODEL_0d596def47144355a99c21205736bc52"
      }
     },
     "1bc7c11ba5c343f7ba75e4b3dc669048": {
      "model_module": "@jupyter-widgets/controls",
      "model_module_version": "1.4.0",
      "model_name": "ButtonStyleModel",
      "state": {}
     },
     "1cdfe1dfd91b44d285273ee9e3899956": {
      "model_module": "@jupyter-widgets/controls",
      "model_module_version": "1.4.0",
      "model_name": "ToggleButtonsStyleModel",
      "state": {
       "button_width": "",
       "description_width": ""
      }
     },
     "1e06180b0e494ef68cf2a0ec14f2dd0b": {
      "model_module": "@jupyter-widgets/controls",
      "model_module_version": "1.4.0",
      "model_name": "HBoxModel",
      "state": {
       "children": [
        "IPY_MODEL_34a535d6b68441f3b05208b8726aec1f"
       ],
       "layout": "IPY_MODEL_69055b75d7e84a1389a9577c380239e0"
      }
     },
     "1ef8144bf80b43f3aa9410143a2e8402": {
      "model_module": "@jupyter-widgets/base",
      "model_module_version": "1.1.0",
      "model_name": "LayoutModel",
      "state": {
       "display": "none",
       "padding": "20px 0 0 0 "
      }
     },
     "1f3b468226b04f1db9b33c84bf358bbe": {
      "model_module": "@jupyter-widgets/controls",
      "model_module_version": "1.4.0",
      "model_name": "HTMLMathModel",
      "state": {
       "layout": "IPY_MODEL_b7de5dc907ae4db7a3a9d95cc0c4f9ff",
       "style": "IPY_MODEL_0557b3299d8f4d74b19f3cdd4903cac4",
       "value": "<h3>Load Data <small>from</h3>"
      }
     },
     "1f83e3ce9ce0416e93e8a2fc313c0d10": {
      "model_module": "@jupyter-widgets/controls",
      "model_module_version": "1.4.0",
      "model_name": "DescriptionStyleModel",
      "state": {
       "description_width": ""
      }
     },
     "1fba0dc113d545a886370a3eab7de93e": {
      "model_module": "@jupyter-widgets/controls",
      "model_module_version": "1.4.0",
      "model_name": "DescriptionStyleModel",
      "state": {
       "description_width": ""
      }
     },
     "205fe83b92c047a78c510d6992569a99": {
      "model_module": "@jupyter-widgets/controls",
      "model_module_version": "1.4.0",
      "model_name": "HBoxModel",
      "state": {
       "children": [
        "IPY_MODEL_bc29a99041d34daa8e5b07024913416e",
        "IPY_MODEL_04b6b22bd3474e8cbe8188622e098891"
       ],
       "layout": "IPY_MODEL_14e7ddce616046038c5369a24336274f"
      }
     },
     "208ef46fe93d4fbf814c6610dcd26a22": {
      "model_module": "@jupyter-widgets/controls",
      "model_module_version": "1.4.0",
      "model_name": "DescriptionStyleModel",
      "state": {
       "description_width": ""
      }
     },
     "20bc80af19544201b8f9e96b2637bed8": {
      "model_module": "@jupyter-widgets/base",
      "model_module_version": "1.1.0",
      "model_name": "LayoutModel",
      "state": {
       "margin": "2px 25px 2px 0px",
       "width": "auto"
      }
     },
     "213b319400f24cdba14940449d31cb2b": {
      "model_module": "@jupyter-widgets/controls",
      "model_module_version": "1.4.0",
      "model_name": "DescriptionStyleModel",
      "state": {
       "description_width": ""
      }
     },
     "223d88e9433e43b08d872602a17f490b": {
      "model_module": "@jupyter-widgets/controls",
      "model_module_version": "1.4.0",
      "model_name": "ButtonModel",
      "state": {
       "button_style": "primary",
       "description": "Load",
       "layout": "IPY_MODEL_339b7377b8ae4010be219bac1439ca93",
       "style": "IPY_MODEL_3833a16e95ee4dd5ae170d4767ac6bb9"
      }
     },
     "255c35734cc2426292ea2349f243ee32": {
      "model_module": "@jupyter-widgets/controls",
      "model_module_version": "1.4.0",
      "model_name": "ButtonStyleModel",
      "state": {}
     },
     "256c6d25a159437a80363f54c2f19de9": {
      "model_module": "@jupyter-widgets/controls",
      "model_module_version": "1.4.0",
      "model_name": "DescriptionStyleModel",
      "state": {
       "description_width": ""
      }
     },
     "2655cefcc49c4a9388dd566a9ad16832": {
      "model_module": "@jupyter-widgets/base",
      "model_module_version": "1.1.0",
      "model_name": "LayoutModel",
      "state": {
       "align_items": "center",
       "justify_content": "center",
       "padding": "15px 0 0 0"
      }
     },
     "2844f1a094c3473a9b26000a2fd92a67": {
      "model_module": "@jupyter-widgets/controls",
      "model_module_version": "1.4.0",
      "model_name": "DropdownModel",
      "state": {
       "_options_labels": [
        "Harmony RNA.ipynb",
        "Source Code.ipynb"
       ],
       "index": 0,
       "layout": "IPY_MODEL_96304f2429de4d1fbcd21c4f9290c25c",
       "style": "IPY_MODEL_f80db899aac145289612516d27086ac0"
      }
     },
     "284f5654fc3e4bfd990a1bfc9579a0a5": {
      "model_module": "@jupyter-widgets/controls",
      "model_module_version": "1.4.0",
      "model_name": "ToggleButtonsStyleModel",
      "state": {
       "button_width": "",
       "description_width": ""
      }
     },
     "287d0cce2e0641b7ad7068042e8e4417": {
      "model_module": "@jupyter-widgets/base",
      "model_module_version": "1.1.0",
      "model_name": "LayoutModel",
      "state": {
       "justify_content": "center"
      }
     },
     "28ae372589c3438b98ab2db544c20170": {
      "model_module": "@jupyter-widgets/controls",
      "model_module_version": "1.4.0",
      "model_name": "DropdownModel",
      "state": {
       "_options_labels": [
        "Harmony RNA.ipynb",
        "Source Code.ipynb"
       ],
       "index": 0,
       "layout": "IPY_MODEL_e8f78d8f650a402784b65f1b01be22ba",
       "style": "IPY_MODEL_d48097ab08b240baace9ec6842226366"
      }
     },
     "28cb99733f1b42a4be013ebfa95c0cd9": {
      "model_module": "@jupyter-widgets/controls",
      "model_module_version": "1.4.0",
      "model_name": "ToggleButtonsModel",
      "state": {
       "_options_labels": [
        "Counts",
        "TPM",
        "FastQ"
       ],
       "button_style": "",
       "icons": [],
       "index": 0,
       "layout": "IPY_MODEL_98397ccd9c2b4dc7b1b90a206819915c",
       "style": "IPY_MODEL_72dfd4ef7b494917bc6e2b89a8542a80",
       "tooltips": []
      }
     },
     "296537235b1e43c7baadadb6da51caf9": {
      "model_module": "@jupyter-widgets/base",
      "model_module_version": "1.1.0",
      "model_name": "LayoutModel",
      "state": {}
     },
     "296c98136ea6420fa8f75a65edb9ae30": {
      "model_module": "@jupyter-widgets/controls",
      "model_module_version": "1.4.0",
      "model_name": "ToggleButtonsModel",
      "state": {
       "_options_labels": [
        "Counts",
        "TPM",
        "FastQ"
       ],
       "button_style": "",
       "icons": [],
       "index": 0,
       "layout": "IPY_MODEL_9b488457d2be46ffb658abf2ac2b50cc",
       "style": "IPY_MODEL_49a86aeee7f14f1eb6800fdb13c9b92e",
       "tooltips": []
      }
     },
     "2984b24bf18a43d4a78cd661983c8a21": {
      "model_module": "@jupyter-widgets/base",
      "model_module_version": "1.1.0",
      "model_name": "LayoutModel",
      "state": {
       "width": "auto"
      }
     },
     "29c1150bd90b48a59fdd2d49f21321de": {
      "model_module": "@jupyter-widgets/controls",
      "model_module_version": "1.4.0",
      "model_name": "ButtonModel",
      "state": {
       "button_style": "info",
       "icon": "refresh",
       "layout": "IPY_MODEL_c7e40467fa5042caa6ed138f603c157d",
       "style": "IPY_MODEL_8999f9dea9b54c9dac24b104d863283b"
      }
     },
     "2a05ee4010f747f6887dcb950364f460": {
      "model_module": "@jupyter-widgets/controls",
      "model_module_version": "1.4.0",
      "model_name": "VBoxModel",
      "state": {
       "children": [
        "IPY_MODEL_a12c95a96a334ee5b47445e051cbd752",
        "IPY_MODEL_28cb99733f1b42a4be013ebfa95c0cd9"
       ],
       "layout": "IPY_MODEL_3a39dee5e371450b9c65aecedffee4fc"
      }
     },
     "2ad3f608b5fb45cd9aebe0071b66f36e": {
      "model_module": "@jupyter-widgets/controls",
      "model_module_version": "1.4.0",
      "model_name": "ButtonModel",
      "state": {
       "button_style": "primary",
       "description": "Load",
       "layout": "IPY_MODEL_a25e8f33faa64ff688753da8eb3747fe",
       "style": "IPY_MODEL_4940488fa10a495489d6fb0cd982a147"
      }
     },
     "2bb88b8d3edb44e59085020f5a309541": {
      "model_module": "@jupyter-widgets/controls",
      "model_module_version": "1.4.0",
      "model_name": "HTMLModel",
      "state": {
       "layout": "IPY_MODEL_6098fdac0d424fe6a00b8f63931486ac",
       "style": "IPY_MODEL_4aeaaa5b496a401f8f9d0eaa79746aa0",
       "value": "<h4>Reads Type  &nbsp</h5> "
      }
     },
     "2bd7dbe543d54c2e852cbe51efa093b6": {
      "model_module": "@jupyter-widgets/base",
      "model_module_version": "1.1.0",
      "model_name": "LayoutModel",
      "state": {
       "justify_content": "center",
       "padding": "15px 0 0 0"
      }
     },
     "2c7e873f523c4d77a29c626041cea8d7": {
      "model_module": "@jupyter-widgets/controls",
      "model_module_version": "1.4.0",
      "model_name": "VBoxModel",
      "state": {
       "children": [
        "IPY_MODEL_db8d9bc958a644cbb86553adc8244141",
        "IPY_MODEL_c9002aa959654332a14a6c89220b470e"
       ],
       "layout": "IPY_MODEL_c25335464f914b83b8d5002437c6f4fa"
      }
     },
     "2c8301bfde08438aa6a04007002cc907": {
      "model_module": "@jupyter-widgets/controls",
      "model_module_version": "1.4.0",
      "model_name": "HTMLModel",
      "state": {
       "layout": "IPY_MODEL_c4bce30892444513be0f46742ab1761d",
       "style": "IPY_MODEL_dcf6c28630044c48b1d9eb5bb47c0fdc",
       "value": "<h2>Datasets: <font color='red'>None</font></h3><hr style='padding:0px; margin:0px'>"
      }
     },
     "2d044f88ff934ed78b21c0f540ac39fd": {
      "model_module": "@jupyter-widgets/controls",
      "model_module_version": "1.4.0",
      "model_name": "IntSliderModel",
      "state": {
       "description": "SD",
       "layout": "IPY_MODEL_296537235b1e43c7baadadb6da51caf9",
       "max": 40,
       "min": 5,
       "style": "IPY_MODEL_9aa4dd5d363348bea344b3c1942a16cc",
       "value": 20
      }
     },
     "2d0633f7f0ed4f2ea2a07493082c37ac": {
      "model_module": "@jupyter-widgets/controls",
      "model_module_version": "1.4.0",
      "model_name": "ToggleButtonsStyleModel",
      "state": {
       "button_width": "",
       "description_width": ""
      }
     },
     "2d3a390b0d844e3c9d53f0953c43fee5": {
      "model_module": "@jupyter-widgets/controls",
      "model_module_version": "1.4.0",
      "model_name": "HBoxModel",
      "state": {
       "children": [
        "IPY_MODEL_d117c095aae44b9895517c1560a3c242",
        "IPY_MODEL_3938e958a0464a32a694807edffd1887"
       ],
       "layout": "IPY_MODEL_6f0beafff50846f68a1d84139dfe2967"
      }
     },
     "2d8c97a252ea45e0a9bc87c801785a18": {
      "model_module": "@jupyter-widgets/controls",
      "model_module_version": "1.4.0",
      "model_name": "VBoxModel",
      "state": {
       "children": [
        "IPY_MODEL_a93eb022d7844f2c85376ebecb233abf",
        "IPY_MODEL_e7c63b31c7ef4564a0ddb99b15d7c467"
       ],
       "layout": "IPY_MODEL_9e3a5e9ee1994350a1177c72f564e927"
      }
     },
     "2ee46502bc1e496786e5e3415d675d41": {
      "model_module": "@jupyter-widgets/base",
      "model_module_version": "1.1.0",
      "model_name": "LayoutModel",
      "state": {}
     },
     "30473879eab94670803c1fdf08a83c73": {
      "model_module": "@jupyter-widgets/base",
      "model_module_version": "1.1.0",
      "model_name": "LayoutModel",
      "state": {
       "align_items": "center",
       "justify_content": "center",
       "padding": "15px 0 0 0"
      }
     },
     "3126af2a66cb42f4864e80f6903c212d": {
      "model_module": "@jupyter-widgets/controls",
      "model_module_version": "1.4.0",
      "model_name": "HTMLModel",
      "state": {
       "layout": "IPY_MODEL_4fe7693c4bcf471da8b65d467fe40e7b",
       "style": "IPY_MODEL_c1e89900ca8d4ce1803179ac02c73f84",
       "value": "<h5>File  &nbsp</h5> "
      }
     },
     "315cad6d4b5f4897a06b1b996e172c21": {
      "model_module": "@jupyter-widgets/controls",
      "model_module_version": "1.4.0",
      "model_name": "ToggleButtonsModel",
      "state": {
       "_options_labels": [
        "Single",
        "Double"
       ],
       "button_style": "",
       "icons": [],
       "index": 0,
       "layout": "IPY_MODEL_93aa92f22d554843a56923346c63e502",
       "style": "IPY_MODEL_6a6de4bf5e724c669aa978ef4fcd14c1",
       "tooltips": []
      }
     },
     "324aee61977a4ead94a8a82b6359b5f8": {
      "model_module": "@jupyter-widgets/base",
      "model_module_version": "1.1.0",
      "model_name": "LayoutModel",
      "state": {}
     },
     "339b7377b8ae4010be219bac1439ca93": {
      "model_module": "@jupyter-widgets/base",
      "model_module_version": "1.1.0",
      "model_name": "LayoutModel",
      "state": {
       "width": "auto"
      }
     },
     "33a495628e734d8586c9f3640298d705": {
      "model_module": "@jupyter-widgets/base",
      "model_module_version": "1.1.0",
      "model_name": "LayoutModel",
      "state": {}
     },
     "34a535d6b68441f3b05208b8726aec1f": {
      "model_module": "@jupyter-widgets/controls",
      "model_module_version": "1.4.0",
      "model_name": "ButtonModel",
      "state": {
       "button_style": "danger",
       "description": " Reset",
       "layout": "IPY_MODEL_9133b6883ddc44a58f8f1f42dfe48e19",
       "style": "IPY_MODEL_1bc7c11ba5c343f7ba75e4b3dc669048"
      }
     },
     "352e55a940594515ab0aafb2de158e92": {
      "model_module": "@jupyter-widgets/controls",
      "model_module_version": "1.4.0",
      "model_name": "VBoxModel",
      "state": {
       "children": [
        "IPY_MODEL_bf016b5df73249a0b5dcc15ff4248f91",
        "IPY_MODEL_3a2cf7d9272b467c959fcf40d48d7b55"
       ],
       "layout": "IPY_MODEL_e29a51e0a74b40c4817a05620ead4315"
      }
     },
     "35a2f3fda088450bb6c3e4f17759e1db": {
      "model_module": "@jupyter-widgets/controls",
      "model_module_version": "1.4.0",
      "model_name": "ButtonStyleModel",
      "state": {}
     },
     "3833a16e95ee4dd5ae170d4767ac6bb9": {
      "model_module": "@jupyter-widgets/controls",
      "model_module_version": "1.4.0",
      "model_name": "ButtonStyleModel",
      "state": {}
     },
     "389a92c4b0ba4f21880faea16741562e": {
      "model_module": "@jupyter-widgets/base",
      "model_module_version": "1.1.0",
      "model_name": "LayoutModel",
      "state": {
       "margin": "2px 25px 2px 0px",
       "width": "auto"
      }
     },
     "38a0d5d818594da5b380b5fdb38b9001": {
      "model_module": "@jupyter-widgets/base",
      "model_module_version": "1.1.0",
      "model_name": "LayoutModel",
      "state": {
       "align_items": "center"
      }
     },
     "38bd73241b254960be5089117146d94f": {
      "model_module": "@jupyter-widgets/base",
      "model_module_version": "1.1.0",
      "model_name": "LayoutModel",
      "state": {}
     },
     "38cb7f03439a44f79b04ad1c211f1017": {
      "model_module": "@jupyter-widgets/base",
      "model_module_version": "1.1.0",
      "model_name": "LayoutModel",
      "state": {
       "align_items": "center",
       "justify_content": "center"
      }
     },
     "3938e958a0464a32a694807edffd1887": {
      "model_module": "@jupyter-widgets/controls",
      "model_module_version": "1.4.0",
      "model_name": "VBoxModel",
      "state": {
       "children": [
        "IPY_MODEL_4c3928effaab40f28873ef1e951e2ee2",
        "IPY_MODEL_2d044f88ff934ed78b21c0f540ac39fd"
       ],
       "layout": "IPY_MODEL_760fe93fc2e643439a3ca20e7ef82d5b"
      }
     },
     "3a23e03705c349aabf6ee0903dfb33cb": {
      "model_module": "@jupyter-widgets/controls",
      "model_module_version": "1.4.0",
      "model_name": "DropdownModel",
      "state": {
       "_options_labels": [
        "adjusted_matrix.csv",
        "adjusted_matrix_OLD.csv",
        "combat_seq.R",
        "count_matrix_OLD.csv",
        "COVID19",
        "Guinea-SDY1412",
        "Harmonize_Data.R",
        "harmonized_counts.csv",
        "Harmony RNA.ipynb",
        "hgnc_mapping.csv",
        "kallisto_test.R",
        "Mali-SDY1172",
        "Process Raw Data.ipynb",
        "RNA-Seq Harmonization.ipynb",
        "Run_Docker.txt",
        "semi_adjusted_matrix.csv",
        "semi_adjusted_matrix_OLD.csv",
        "subjects_summary_whole_blood.csv",
        "Tanzania-SDY1092",
        "unharmonized_counts.csv"
       ],
       "index": 0,
       "layout": "IPY_MODEL_108d5c75b81f4f1a922e35f1a5b906ba",
       "style": "IPY_MODEL_7242bd9584ad45138b8cd1b2cea801db"
      }
     },
     "3a2cf7d9272b467c959fcf40d48d7b55": {
      "model_module": "@jupyter-widgets/controls",
      "model_module_version": "1.4.0",
      "model_name": "ToggleButtonsModel",
      "state": {
       "_options_labels": [
        "Counts",
        "TPM",
        "FastQ"
       ],
       "button_style": "",
       "icons": [],
       "index": 0,
       "layout": "IPY_MODEL_b234de00325b45fba904c5fabd280dc8",
       "style": "IPY_MODEL_9ff86fbb80844c119678895b5e565bf8",
       "tooltips": []
      }
     },
     "3a39dee5e371450b9c65aecedffee4fc": {
      "model_module": "@jupyter-widgets/base",
      "model_module_version": "1.1.0",
      "model_name": "LayoutModel",
      "state": {
       "align_items": "center",
       "justify_content": "center"
      }
     },
     "3a3b6a7852ab4b108e948a954e1bae03": {
      "model_module": "@jupyter-widgets/base",
      "model_module_version": "1.1.0",
      "model_name": "LayoutModel",
      "state": {}
     },
     "3acfe97fed984da1b9985a45542808f6": {
      "model_module": "@jupyter-widgets/base",
      "model_module_version": "1.1.0",
      "model_name": "LayoutModel",
      "state": {}
     },
     "3bf2fe99724441c1a9b9cacbcf4ae520": {
      "model_module": "@jupyter-widgets/controls",
      "model_module_version": "1.4.0",
      "model_name": "ToggleButtonsModel",
      "state": {
       "_options_labels": [
        "Counts",
        "TPM",
        "FastQ"
       ],
       "button_style": "",
       "icons": [],
       "index": 1,
       "layout": "IPY_MODEL_324aee61977a4ead94a8a82b6359b5f8",
       "style": "IPY_MODEL_d7153200d1b240cbaa113ee531d3f219",
       "tooltips": []
      }
     },
     "3c7fd9e0c96e4e0cb5fe82dfe53edd4b": {
      "model_module": "@jupyter-widgets/base",
      "model_module_version": "1.1.0",
      "model_name": "LayoutModel",
      "state": {}
     },
     "3f193279e3e64741ad179a1b76c8d9b0": {
      "model_module": "@jupyter-widgets/controls",
      "model_module_version": "1.4.0",
      "model_name": "HBoxModel",
      "state": {
       "children": [
        "IPY_MODEL_2bb88b8d3edb44e59085020f5a309541",
        "IPY_MODEL_2d8c97a252ea45e0a9bc87c801785a18"
       ],
       "layout": "IPY_MODEL_287d0cce2e0641b7ad7068042e8e4417"
      }
     },
     "3f3c15d8dedc41bebcc6d4d5353dcf9e": {
      "model_module": "@jupyter-widgets/controls",
      "model_module_version": "1.4.0",
      "model_name": "ToggleButtonsModel",
      "state": {
       "_options_labels": [
        "Counts",
        "TPM",
        "FastQ"
       ],
       "button_style": "",
       "icons": [],
       "index": 0,
       "layout": "IPY_MODEL_7a76af1ce4834e68acdd97b3308b3fba",
       "style": "IPY_MODEL_893b24fc21b5447294a9df9af5cbe60f",
       "tooltips": []
      }
     },
     "409c5b6d793744aca14ecd3721677d2e": {
      "model_module": "@jupyter-widgets/base",
      "model_module_version": "1.1.0",
      "model_name": "LayoutModel",
      "state": {
       "margin": "2px 25px 2px 0px",
       "width": "auto"
      }
     },
     "417958ba58ab4e4dbb79267e524b1af0": {
      "model_module": "@jupyter-widgets/controls",
      "model_module_version": "1.4.0",
      "model_name": "DescriptionStyleModel",
      "state": {
       "description_width": ""
      }
     },
     "4281a09d28134693a7fa794fb28e4529": {
      "model_module": "@jupyter-widgets/base",
      "model_module_version": "1.1.0",
      "model_name": "LayoutModel",
      "state": {
       "width": "auto"
      }
     },
     "42c5169df82a4843b5cf9e5ae6b5cd5d": {
      "model_module": "@jupyter-widgets/controls",
      "model_module_version": "1.4.0",
      "model_name": "VBoxModel",
      "state": {
       "children": [
        "IPY_MODEL_bc5f155a4d564a6581014761d6602385",
        "IPY_MODEL_3f3c15d8dedc41bebcc6d4d5353dcf9e"
       ],
       "layout": "IPY_MODEL_6f4435b846534cbdb389edc2557c22d1"
      }
     },
     "43540977f8e64d9f9dc8365186881b70": {
      "model_module": "@jupyter-widgets/base",
      "model_module_version": "1.1.0",
      "model_name": "LayoutModel",
      "state": {
       "align_items": "center",
       "justify_content": "center"
      }
     },
     "4485d6ac712747cbb6ed46d37224346a": {
      "model_module": "@jupyter-widgets/controls",
      "model_module_version": "1.4.0",
      "model_name": "HBoxModel",
      "state": {
       "children": [
        "IPY_MODEL_0b5b8488d8594a80ba0819d75ec84bbf",
        "IPY_MODEL_b93b3700549845e3af8305d887abfb7e",
        "IPY_MODEL_14c886b5915b450f84b252bea05b0b18",
        "IPY_MODEL_a319cac13a274814a2a76e236c612838"
       ],
       "layout": "IPY_MODEL_8cd4bb184ee443ab9a742634921d2b9e"
      }
     },
     "461cbd7c362d440cb53b7bb6ae4781b2": {
      "model_module": "@jupyter-widgets/base",
      "model_module_version": "1.1.0",
      "model_name": "LayoutModel",
      "state": {}
     },
     "46794e0d57cd42a4b7761d2432f5bc72": {
      "model_module": "@jupyter-widgets/base",
      "model_module_version": "1.1.0",
      "model_name": "LayoutModel",
      "state": {
       "width": "auto"
      }
     },
     "484d8a0a7fce40c68eab6d9338e09b30": {
      "model_module": "@jupyter-widgets/controls",
      "model_module_version": "1.4.0",
      "model_name": "HBoxModel",
      "state": {
       "children": [
        "IPY_MODEL_0a70207d0c4a454c9c2254489504e959",
        "IPY_MODEL_3bf2fe99724441c1a9b9cacbcf4ae520"
       ],
       "layout": "IPY_MODEL_b0208d48603b425bb92323eee09bb0df"
      }
     },
     "4940488fa10a495489d6fb0cd982a147": {
      "model_module": "@jupyter-widgets/controls",
      "model_module_version": "1.4.0",
      "model_name": "ButtonStyleModel",
      "state": {}
     },
     "49a86aeee7f14f1eb6800fdb13c9b92e": {
      "model_module": "@jupyter-widgets/controls",
      "model_module_version": "1.4.0",
      "model_name": "ToggleButtonsStyleModel",
      "state": {
       "button_width": "",
       "description_width": ""
      }
     },
     "4a0098b151c34e08b468248b157f643b": {
      "model_module": "@jupyter-widgets/controls",
      "model_module_version": "1.4.0",
      "model_name": "DescriptionStyleModel",
      "state": {
       "description_width": ""
      }
     },
     "4a4ed9829de84ebcada0b4878f9093e0": {
      "model_module": "@jupyter-widgets/controls",
      "model_module_version": "1.4.0",
      "model_name": "HBoxModel",
      "state": {
       "children": [
        "IPY_MODEL_dcc40f4b2a31430b987ca1d7454e437c"
       ],
       "layout": "IPY_MODEL_790c1f6b67004feda06f6f337d151dcc"
      }
     },
     "4aeaaa5b496a401f8f9d0eaa79746aa0": {
      "model_module": "@jupyter-widgets/controls",
      "model_module_version": "1.4.0",
      "model_name": "DescriptionStyleModel",
      "state": {
       "description_width": ""
      }
     },
     "4b32642ab6104060af393c1f51ae89ca": {
      "model_module": "@jupyter-widgets/controls",
      "model_module_version": "1.4.0",
      "model_name": "DropdownModel",
      "state": {
       "_options_labels": [
        "adjusted_matrix.csv",
        "adjusted_matrix_OLD.csv",
        "combat_seq.R",
        "count_matrix_OLD.csv",
        "COVID19",
        "Guinea-SDY1412",
        "Harmonize_Data.R",
        "harmonized_counts.csv",
        "Harmony RNA.ipynb",
        "hgnc_mapping.csv",
        "kallisto_test.R",
        "Mali-SDY1172",
        "Process Raw Data.ipynb",
        "RNA-Seq Harmonization.ipynb",
        "Run_Docker.txt",
        "semi_adjusted_matrix.csv",
        "semi_adjusted_matrix_OLD.csv",
        "subjects_summary_whole_blood.csv",
        "Tanzania-SDY1092",
        "unharmonized_counts.csv"
       ],
       "index": 0,
       "layout": "IPY_MODEL_461cbd7c362d440cb53b7bb6ae4781b2",
       "style": "IPY_MODEL_01cd8bca4cd14b929d721eaceaf7e7c8"
      }
     },
     "4c3928effaab40f28873ef1e951e2ee2": {
      "model_module": "@jupyter-widgets/controls",
      "model_module_version": "1.4.0",
      "model_name": "IntSliderModel",
      "state": {
       "description": "Length",
       "layout": "IPY_MODEL_5bdc81afaa6148ec99fc201bd63aedc8",
       "max": 400,
       "min": 50,
       "style": "IPY_MODEL_8c74e04ea5cd40beafc8de28db6067a0",
       "value": 180
      }
     },
     "4cc1020cad144f8d841f80debb2644a8": {
      "model_module": "@jupyter-widgets/controls",
      "model_module_version": "1.4.0",
      "model_name": "DropdownModel",
      "state": {
       "_options_labels": [
        "adjusted_matrix.csv",
        "adjusted_matrix_OLD.csv",
        "combat_seq.R",
        "count_matrix_OLD.csv",
        "COVID19",
        "Guinea-SDY1412",
        "Harmonize_Data.R",
        "harmonized_counts.csv",
        "Harmony RNA.ipynb",
        "hgnc_mapping.csv",
        "kallisto_test.R",
        "Mali-SDY1172",
        "Process Raw Data.ipynb",
        "RNA-Seq Harmonization.ipynb",
        "Run_Docker.txt",
        "semi_adjusted_matrix.csv",
        "semi_adjusted_matrix_OLD.csv",
        "subjects_summary_whole_blood.csv",
        "Tanzania-SDY1092",
        "unharmonized_counts.csv"
       ],
       "index": 0,
       "layout": "IPY_MODEL_7385d541136744feac98b9b27589a28a",
       "style": "IPY_MODEL_f16ac51d88c54d0eb31bf265053fef0d"
      }
     },
     "4e061737b47a4f9bab33b831c48af994": {
      "model_module": "@jupyter-widgets/base",
      "model_module_version": "1.1.0",
      "model_name": "LayoutModel",
      "state": {}
     },
     "4ea91b65da294cc39af1bc6ba3b61a4d": {
      "model_module": "@jupyter-widgets/controls",
      "model_module_version": "1.4.0",
      "model_name": "DescriptionStyleModel",
      "state": {
       "description_width": ""
      }
     },
     "4ec99aadda884d00afc2b96309fca7ec": {
      "model_module": "@jupyter-widgets/controls",
      "model_module_version": "1.4.0",
      "model_name": "ButtonStyleModel",
      "state": {}
     },
     "4eff13dea8884186bc2692e1233dd12d": {
      "model_module": "@jupyter-widgets/controls",
      "model_module_version": "1.4.0",
      "model_name": "HTMLModel",
      "state": {
       "layout": "IPY_MODEL_e38e58b44aa0465f8382acc08dfc3912",
       "style": "IPY_MODEL_b04db56032f2470fa0358da6465292e7",
       "value": "<h5>Name  &nbsp</h5> "
      }
     },
     "4f94bd2e2f9b480ab253c06b8b282a96": {
      "model_module": "@jupyter-widgets/controls",
      "model_module_version": "1.4.0",
      "model_name": "ButtonModel",
      "state": {
       "button_style": "danger",
       "description": " Refresh",
       "icon": "refresh",
       "layout": "IPY_MODEL_e9d1588af7194bfea3bc8133376abcee",
       "style": "IPY_MODEL_7c65ad22ad4e4e169735560a7ff4961c"
      }
     },
     "4fe7693c4bcf471da8b65d467fe40e7b": {
      "model_module": "@jupyter-widgets/base",
      "model_module_version": "1.1.0",
      "model_name": "LayoutModel",
      "state": {}
     },
     "50560fb449294015917dc7e407932b53": {
      "model_module": "@jupyter-widgets/controls",
      "model_module_version": "1.4.0",
      "model_name": "HBoxModel",
      "state": {
       "children": [
        "IPY_MODEL_4f94bd2e2f9b480ab253c06b8b282a96"
       ],
       "layout": "IPY_MODEL_2bd7dbe543d54c2e852cbe51efa093b6"
      }
     },
     "50ff4c9e1a884f8491221fd32d76faab": {
      "model_module": "@jupyter-widgets/controls",
      "model_module_version": "1.4.0",
      "model_name": "ButtonModel",
      "state": {
       "button_style": "info",
       "icon": "refresh",
       "layout": "IPY_MODEL_cfc1e88cb3634c89bf969a24515ef64f",
       "style": "IPY_MODEL_5bddf65bbc0c4fcbbfa4a21524899195"
      }
     },
     "51db30f1fd574a4ea52f3fede85130d6": {
      "model_module": "@jupyter-widgets/controls",
      "model_module_version": "1.4.0",
      "model_name": "HTMLModel",
      "state": {
       "layout": "IPY_MODEL_6ce3fa5776c44593a82311d53f091117",
       "style": "IPY_MODEL_ff983e8cea4b4d1eb6dc4cd26ef04147",
       "value": "<h2>Datasets: <font color='red'>None</font></h3><hr style='padding:0px; margin:0px'>"
      }
     },
     "52ee21bf67f94bb39b785f77a34798aa": {
      "model_module": "@jupyter-widgets/base",
      "model_module_version": "1.1.0",
      "model_name": "LayoutModel",
      "state": {}
     },
     "55763c8243c7490596b7ae9f114ea594": {
      "model_module": "@jupyter-widgets/base",
      "model_module_version": "1.1.0",
      "model_name": "LayoutModel",
      "state": {}
     },
     "557c4b47c8574106a2764ee8e23c6ed2": {
      "model_module": "@jupyter-widgets/base",
      "model_module_version": "1.1.0",
      "model_name": "LayoutModel",
      "state": {}
     },
     "572e1dfe2d3a445fa7321c08133a5e66": {
      "model_module": "@jupyter-widgets/base",
      "model_module_version": "1.1.0",
      "model_name": "LayoutModel",
      "state": {}
     },
     "573c603157014c0c85d996841c8d3491": {
      "model_module": "@jupyter-widgets/controls",
      "model_module_version": "1.4.0",
      "model_name": "ToggleButtonsStyleModel",
      "state": {
       "button_width": "",
       "description_width": ""
      }
     },
     "576a3ce8e453452485c330a10ff428b9": {
      "model_module": "@jupyter-widgets/base",
      "model_module_version": "1.1.0",
      "model_name": "LayoutModel",
      "state": {
       "visibility": "hidden"
      }
     },
     "58991e20f6004782938b62043c50f649": {
      "model_module": "@jupyter-widgets/controls",
      "model_module_version": "1.4.0",
      "model_name": "HBoxModel",
      "state": {
       "children": [
        "IPY_MODEL_4eff13dea8884186bc2692e1233dd12d",
        "IPY_MODEL_e1d821ad3fca455aa33be810b8e31000",
        "IPY_MODEL_1a5fa1bff30e4de89b9810aed0f1c746",
        "IPY_MODEL_6e6f0c069e474728b4231b6dc4123282"
       ],
       "layout": "IPY_MODEL_e8b92b845df64f09b18e9594f517cc92"
      }
     },
     "5a66a5d3b76245348ce5ff7fcaef0147": {
      "model_module": "@jupyter-widgets/controls",
      "model_module_version": "1.4.0",
      "model_name": "ToggleButtonsModel",
      "state": {
       "_options_labels": [
        "Counts",
        "TPM",
        "FastQ"
       ],
       "button_style": "",
       "icons": [],
       "index": 0,
       "layout": "IPY_MODEL_0de1447f90d142a48d4ac0c4afa5154c",
       "style": "IPY_MODEL_eabef45938d14885acd874202546a82a",
       "tooltips": []
      }
     },
     "5b9b147861d64b1c83a4a2e8431cb6b7": {
      "model_module": "@jupyter-widgets/base",
      "model_module_version": "1.1.0",
      "model_name": "LayoutModel",
      "state": {
       "justify_content": "center",
       "padding": "15px 0 0 0"
      }
     },
     "5bdc81afaa6148ec99fc201bd63aedc8": {
      "model_module": "@jupyter-widgets/base",
      "model_module_version": "1.1.0",
      "model_name": "LayoutModel",
      "state": {}
     },
     "5bddf65bbc0c4fcbbfa4a21524899195": {
      "model_module": "@jupyter-widgets/controls",
      "model_module_version": "1.4.0",
      "model_name": "ButtonStyleModel",
      "state": {}
     },
     "5c04ddf347d04e5d83ae5e48950669bd": {
      "model_module": "@jupyter-widgets/base",
      "model_module_version": "1.1.0",
      "model_name": "LayoutModel",
      "state": {}
     },
     "5cfa15a76c004235bf97a6c308bea5c0": {
      "model_module": "@jupyter-widgets/base",
      "model_module_version": "1.1.0",
      "model_name": "LayoutModel",
      "state": {}
     },
     "5db9edb8152e43599c7b9e766597f82f": {
      "model_module": "@jupyter-widgets/controls",
      "model_module_version": "1.4.0",
      "model_name": "HBoxModel",
      "state": {
       "children": [
        "IPY_MODEL_dce72365f24b4d41985aa0c47bb71c00",
        "IPY_MODEL_5a66a5d3b76245348ce5ff7fcaef0147"
       ],
       "layout": "IPY_MODEL_63cfc59774c845ce9d338a106869fd00"
      }
     },
     "606586ed53c242bab21e45233b730394": {
      "model_module": "@jupyter-widgets/controls",
      "model_module_version": "1.4.0",
      "model_name": "DropdownModel",
      "state": {
       "_options_labels": [
        "adjusted_matrix.csv",
        "adjusted_matrix_OLD.csv",
        "combat_seq.R",
        "count_matrix_OLD.csv",
        "COVID19",
        "Guinea-SDY1412",
        "Harmonize_Data.R",
        "harmonized_counts.csv",
        "Harmony RNA.ipynb",
        "hgnc_mapping.csv",
        "kallisto_test.R",
        "Mali-SDY1172",
        "Process Raw Data.ipynb",
        "RNA-Seq Harmonization.ipynb",
        "Run_Docker.txt",
        "semi_adjusted_matrix.csv",
        "semi_adjusted_matrix_OLD.csv",
        "subjects_summary_whole_blood.csv",
        "Tanzania-SDY1092",
        "unharmonized_counts.csv"
       ],
       "index": 0,
       "layout": "IPY_MODEL_8aae17268550425db9e26754065926bb",
       "style": "IPY_MODEL_8d6a843ac35f4952923b7c093ecf807b"
      }
     },
     "6098fdac0d424fe6a00b8f63931486ac": {
      "model_module": "@jupyter-widgets/base",
      "model_module_version": "1.1.0",
      "model_name": "LayoutModel",
      "state": {
       "visibility": "hidden"
      }
     },
     "615b05f5ba004b7497af8ecbadb41af1": {
      "model_module": "@jupyter-widgets/controls",
      "model_module_version": "1.4.0",
      "model_name": "DescriptionStyleModel",
      "state": {
       "description_width": ""
      }
     },
     "61c7b62a035d447fa848b549b9101768": {
      "model_module": "@jupyter-widgets/controls",
      "model_module_version": "1.4.0",
      "model_name": "ToggleButtonsModel",
      "state": {
       "_options_labels": [
        "Counts",
        "TPM",
        "FastQ"
       ],
       "button_style": "",
       "icons": [],
       "index": 0,
       "layout": "IPY_MODEL_1233f6a60f68474786a5525b8ecdf2a1",
       "style": "IPY_MODEL_7107d44101e741319172704758e3694b",
       "tooltips": []
      }
     },
     "61e6acbc644a4088a584b28dd8280986": {
      "model_module": "@jupyter-widgets/base",
      "model_module_version": "1.1.0",
      "model_name": "LayoutModel",
      "state": {}
     },
     "6257ad733dd547cb9b705f6681651ab5": {
      "model_module": "@jupyter-widgets/controls",
      "model_module_version": "1.4.0",
      "model_name": "HTMLMathModel",
      "state": {
       "layout": "IPY_MODEL_3acfe97fed984da1b9985a45542808f6",
       "style": "IPY_MODEL_08c969a4f37a40568a28e5a63db557fa",
       "value": "<h3>Load Data <small><font color='magenta'>from</h3>"
      }
     },
     "63cfc59774c845ce9d338a106869fd00": {
      "model_module": "@jupyter-widgets/base",
      "model_module_version": "1.1.0",
      "model_name": "LayoutModel",
      "state": {
       "align_items": "center",
       "justify_content": "center"
      }
     },
     "63f750421fe0432f86fe466eae54cd4d": {
      "model_module": "@jupyter-widgets/controls",
      "model_module_version": "1.4.0",
      "model_name": "HBoxModel",
      "state": {
       "children": [
        "IPY_MODEL_e05bc4c5aca34db7b0b8bccbe8cd0087",
        "IPY_MODEL_2844f1a094c3473a9b26000a2fd92a67",
        "IPY_MODEL_67bfee8227e246e9b49bbfaf25a9aee4",
        "IPY_MODEL_8f248362bc244ddabb952bc36ff5709b"
       ],
       "layout": "IPY_MODEL_d78d3097e4b44f49bf2908e2f543fc7a"
      }
     },
     "64dba5c677454842869670ab8ba00984": {
      "model_module": "@jupyter-widgets/base",
      "model_module_version": "1.1.0",
      "model_name": "LayoutModel",
      "state": {}
     },
     "651c493ebe0141c090937e2ccd62f28b": {
      "model_module": "@jupyter-widgets/base",
      "model_module_version": "1.1.0",
      "model_name": "LayoutModel",
      "state": {}
     },
     "65d7679e97364b9fac273fce95b18795": {
      "model_module": "@jupyter-widgets/controls",
      "model_module_version": "1.4.0",
      "model_name": "ButtonModel",
      "state": {
       "button_style": "info",
       "icon": "refresh",
       "layout": "IPY_MODEL_c44d1e93399841a5879347052b35956a",
       "style": "IPY_MODEL_0c428e3533284c2b98219e3f8ec4b0f5"
      }
     },
     "66a0a134b493401794b2108917e23336": {
      "model_module": "@jupyter-widgets/base",
      "model_module_version": "1.1.0",
      "model_name": "LayoutModel",
      "state": {}
     },
     "67bfee8227e246e9b49bbfaf25a9aee4": {
      "model_module": "@jupyter-widgets/controls",
      "model_module_version": "1.4.0",
      "model_name": "ButtonModel",
      "state": {
       "button_style": "info",
       "icon": "refresh",
       "layout": "IPY_MODEL_b899abeaf7a343bbb8ed754c9d909276",
       "style": "IPY_MODEL_255c35734cc2426292ea2349f243ee32"
      }
     },
     "69055b75d7e84a1389a9577c380239e0": {
      "model_module": "@jupyter-widgets/base",
      "model_module_version": "1.1.0",
      "model_name": "LayoutModel",
      "state": {
       "justify_content": "center",
       "padding": "15px 0 0 0"
      }
     },
     "695ec9396ba64565b6b1f03f61aa43da": {
      "model_module": "@jupyter-widgets/controls",
      "model_module_version": "1.4.0",
      "model_name": "DescriptionStyleModel",
      "state": {
       "description_width": ""
      }
     },
     "6a6de4bf5e724c669aa978ef4fcd14c1": {
      "model_module": "@jupyter-widgets/controls",
      "model_module_version": "1.4.0",
      "model_name": "ToggleButtonsStyleModel",
      "state": {
       "button_width": "",
       "description_width": ""
      }
     },
     "6ce3fa5776c44593a82311d53f091117": {
      "model_module": "@jupyter-widgets/base",
      "model_module_version": "1.1.0",
      "model_name": "LayoutModel",
      "state": {}
     },
     "6da2e1d76a2047c6b1e31882799f6449": {
      "model_module": "@jupyter-widgets/controls",
      "model_module_version": "1.4.0",
      "model_name": "ToggleButtonsModel",
      "state": {
       "_options_labels": [
        "Counts",
        "TPM",
        "FastQ"
       ],
       "button_style": "",
       "icons": [],
       "index": 0,
       "layout": "IPY_MODEL_651c493ebe0141c090937e2ccd62f28b",
       "style": "IPY_MODEL_82a3c9c3f87a4a059a581562f7810abc",
       "tooltips": []
      }
     },
     "6dedd2337e0c4d0ba445d4829c7bbb66": {
      "model_module": "@jupyter-widgets/controls",
      "model_module_version": "1.4.0",
      "model_name": "ButtonModel",
      "state": {
       "button_style": "primary",
       "description": "Load",
       "layout": "IPY_MODEL_c35d543d6eb14056925d1c1a8f8b8108",
       "style": "IPY_MODEL_b8c0f5b3a4a7464794d4ebab17411a1b"
      }
     },
     "6e11c78d45ea47008bebe89644310545": {
      "model_module": "@jupyter-widgets/controls",
      "model_module_version": "1.4.0",
      "model_name": "VBoxModel",
      "state": {
       "children": [
        "IPY_MODEL_205fe83b92c047a78c510d6992569a99",
        "IPY_MODEL_2d3a390b0d844e3c9d53f0953c43fee5"
       ],
       "layout": "IPY_MODEL_c51ada0a2a2f4d27917de6eb9d9deace"
      }
     },
     "6e6f0c069e474728b4231b6dc4123282": {
      "model_module": "@jupyter-widgets/controls",
      "model_module_version": "1.4.0",
      "model_name": "ButtonModel",
      "state": {
       "button_style": "primary",
       "description": "Load",
       "layout": "IPY_MODEL_46794e0d57cd42a4b7761d2432f5bc72",
       "style": "IPY_MODEL_fee6a474d3db43e5a18d9c7847e59bec"
      }
     },
     "6f0beafff50846f68a1d84139dfe2967": {
      "model_module": "@jupyter-widgets/base",
      "model_module_version": "1.1.0",
      "model_name": "LayoutModel",
      "state": {
       "justify_content": "center"
      }
     },
     "6f4435b846534cbdb389edc2557c22d1": {
      "model_module": "@jupyter-widgets/base",
      "model_module_version": "1.1.0",
      "model_name": "LayoutModel",
      "state": {
       "align_items": "center",
       "justify_content": "center"
      }
     },
     "709564020c944926bb6044db114c3b1a": {
      "model_module": "@jupyter-widgets/controls",
      "model_module_version": "1.4.0",
      "model_name": "IntSliderModel",
      "state": {
       "description": "Length",
       "layout": "IPY_MODEL_5cfa15a76c004235bf97a6c308bea5c0",
       "max": 400,
       "min": 50,
       "style": "IPY_MODEL_007ae8bbc2e74dfd92b14c34a93652e2",
       "value": 180
      }
     },
     "7107d44101e741319172704758e3694b": {
      "model_module": "@jupyter-widgets/controls",
      "model_module_version": "1.4.0",
      "model_name": "ToggleButtonsStyleModel",
      "state": {
       "button_width": "",
       "description_width": ""
      }
     },
     "72200983a7f3417c8965f69b67eded4e": {
      "model_module": "@jupyter-widgets/controls",
      "model_module_version": "1.4.0",
      "model_name": "ButtonStyleModel",
      "state": {}
     },
     "7242bd9584ad45138b8cd1b2cea801db": {
      "model_module": "@jupyter-widgets/controls",
      "model_module_version": "1.4.0",
      "model_name": "DescriptionStyleModel",
      "state": {
       "description_width": ""
      }
     },
     "72dfd4ef7b494917bc6e2b89a8542a80": {
      "model_module": "@jupyter-widgets/controls",
      "model_module_version": "1.4.0",
      "model_name": "ToggleButtonsStyleModel",
      "state": {
       "button_width": "",
       "description_width": ""
      }
     },
     "737537f3b30f4a15a43396e15fca1d8a": {
      "model_module": "@jupyter-widgets/base",
      "model_module_version": "1.1.0",
      "model_name": "LayoutModel",
      "state": {}
     },
     "7385d541136744feac98b9b27589a28a": {
      "model_module": "@jupyter-widgets/base",
      "model_module_version": "1.1.0",
      "model_name": "LayoutModel",
      "state": {}
     },
     "73cdcf8ace87440aa36dbb5597202768": {
      "model_module": "@jupyter-widgets/base",
      "model_module_version": "1.1.0",
      "model_name": "LayoutModel",
      "state": {}
     },
     "744e9844cccd4e8b967bb9e06358c1f8": {
      "model_module": "@jupyter-widgets/controls",
      "model_module_version": "1.4.0",
      "model_name": "ButtonModel",
      "state": {
       "button_style": "info",
       "icon": "refresh",
       "layout": "IPY_MODEL_20bc80af19544201b8f9e96b2637bed8",
       "style": "IPY_MODEL_ff187413ce134ed8aac9692f1b3157eb"
      }
     },
     "754dfa65041c415e92843f52eb1ca564": {
      "model_module": "@jupyter-widgets/base",
      "model_module_version": "1.1.0",
      "model_name": "LayoutModel",
      "state": {}
     },
     "760fe93fc2e643439a3ca20e7ef82d5b": {
      "model_module": "@jupyter-widgets/base",
      "model_module_version": "1.1.0",
      "model_name": "LayoutModel",
      "state": {}
     },
     "77530436cb134515bc15d632e7352c13": {
      "model_module": "@jupyter-widgets/controls",
      "model_module_version": "1.4.0",
      "model_name": "VBoxModel",
      "state": {
       "children": [
        "IPY_MODEL_709564020c944926bb6044db114c3b1a",
        "IPY_MODEL_cb2aaf5b15d142b3b4151446cc86fa82"
       ],
       "layout": "IPY_MODEL_b9bee0b2911d4f77b546deb932f3c352"
      }
     },
     "790c1f6b67004feda06f6f337d151dcc": {
      "model_module": "@jupyter-widgets/base",
      "model_module_version": "1.1.0",
      "model_name": "LayoutModel",
      "state": {
       "justify_content": "center",
       "padding": "15px 0 0 0"
      }
     },
     "7a0e14fdd01a46a8850f6a72e1441cda": {
      "model_module": "@jupyter-widgets/base",
      "model_module_version": "1.1.0",
      "model_name": "LayoutModel",
      "state": {}
     },
     "7a76af1ce4834e68acdd97b3308b3fba": {
      "model_module": "@jupyter-widgets/base",
      "model_module_version": "1.1.0",
      "model_name": "LayoutModel",
      "state": {}
     },
     "7b0dcbaf63eb41459b62ac84e99f1be3": {
      "model_module": "@jupyter-widgets/controls",
      "model_module_version": "1.4.0",
      "model_name": "DescriptionStyleModel",
      "state": {
       "description_width": ""
      }
     },
     "7c65ad22ad4e4e169735560a7ff4961c": {
      "model_module": "@jupyter-widgets/controls",
      "model_module_version": "1.4.0",
      "model_name": "ButtonStyleModel",
      "state": {}
     },
     "7caacd29cfe4439ea3c4fec708afdfa2": {
      "model_module": "@jupyter-widgets/base",
      "model_module_version": "1.1.0",
      "model_name": "LayoutModel",
      "state": {}
     },
     "7d412480424e48b4889e9b96806a014a": {
      "model_module": "@jupyter-widgets/base",
      "model_module_version": "1.1.0",
      "model_name": "LayoutModel",
      "state": {}
     },
     "80aa905d3dc34928991b01025957d63b": {
      "model_module": "@jupyter-widgets/controls",
      "model_module_version": "1.4.0",
      "model_name": "HTMLModel",
      "state": {
       "layout": "IPY_MODEL_a32bca913d854d4c875a7174dd1f56a9",
       "style": "IPY_MODEL_0fa0632a30fb48528ed52f4dcadf83d5",
       "value": "<h3 >Load Data <small>from</h3>"
      }
     },
     "8138410fc9d24680a9daf4247607cee9": {
      "model_module": "@jupyter-widgets/controls",
      "model_module_version": "1.4.0",
      "model_name": "ButtonModel",
      "state": {
       "button_style": "info",
       "icon": "refresh",
       "layout": "IPY_MODEL_2984b24bf18a43d4a78cd661983c8a21",
       "style": "IPY_MODEL_ca6e0529a72d447f9ed3eac075d2caee"
      }
     },
     "81e17af3bc9b497cbfe2aefffab71276": {
      "model_module": "@jupyter-widgets/controls",
      "model_module_version": "1.4.0",
      "model_name": "ToggleButtonsStyleModel",
      "state": {
       "button_width": "",
       "description_width": ""
      }
     },
     "824b731d0a9b4327b9acfe2665bd70df": {
      "model_module": "@jupyter-widgets/base",
      "model_module_version": "1.1.0",
      "model_name": "LayoutModel",
      "state": {}
     },
     "829f039c946644f6939af9fcbf8fb406": {
      "model_module": "@jupyter-widgets/base",
      "model_module_version": "1.1.0",
      "model_name": "LayoutModel",
      "state": {}
     },
     "82a3c9c3f87a4a059a581562f7810abc": {
      "model_module": "@jupyter-widgets/controls",
      "model_module_version": "1.4.0",
      "model_name": "ToggleButtonsStyleModel",
      "state": {
       "button_width": "",
       "description_width": ""
      }
     },
     "838babfa65f3479996714e5d72502ac7": {
      "model_module": "@jupyter-widgets/base",
      "model_module_version": "1.1.0",
      "model_name": "LayoutModel",
      "state": {
       "align_items": "center"
      }
     },
     "83a94bde9d084bcfb61b8c9ec8e1937f": {
      "model_module": "@jupyter-widgets/controls",
      "model_module_version": "1.4.0",
      "model_name": "HTMLModel",
      "state": {
       "layout": "IPY_MODEL_7caacd29cfe4439ea3c4fec708afdfa2",
       "style": "IPY_MODEL_695ec9396ba64565b6b1f03f61aa43da",
       "value": "<h3>Load Data</h3>"
      }
     },
     "863ba944b08b430abda430fee4bae7a3": {
      "model_module": "@jupyter-widgets/base",
      "model_module_version": "1.1.0",
      "model_name": "LayoutModel",
      "state": {
       "width": "auto"
      }
     },
     "869f6763614d4427b22d5360810643aa": {
      "model_module": "@jupyter-widgets/base",
      "model_module_version": "1.1.0",
      "model_name": "LayoutModel",
      "state": {}
     },
     "87f5c91baf4c448c8f97fcf90bed09ab": {
      "model_module": "@jupyter-widgets/controls",
      "model_module_version": "1.4.0",
      "model_name": "HTMLModel",
      "state": {
       "layout": "IPY_MODEL_f37f76d015e646b98ed0a65369002fae",
       "style": "IPY_MODEL_e009ef0773764d91b000c3cb44b1cf24",
       "value": "<h3>Lab: <font color='red'>Not Set</font></h3>"
      }
     },
     "893b24fc21b5447294a9df9af5cbe60f": {
      "model_module": "@jupyter-widgets/controls",
      "model_module_version": "1.4.0",
      "model_name": "ToggleButtonsStyleModel",
      "state": {
       "button_width": "",
       "description_width": ""
      }
     },
     "8981c85868c844f0a984b41c0538eaa8": {
      "model_module": "@jupyter-widgets/controls",
      "model_module_version": "1.4.0",
      "model_name": "SliderStyleModel",
      "state": {
       "description_width": ""
      }
     },
     "8999f9dea9b54c9dac24b104d863283b": {
      "model_module": "@jupyter-widgets/controls",
      "model_module_version": "1.4.0",
      "model_name": "ButtonStyleModel",
      "state": {}
     },
     "8a1ea5fa1409493489c57362e55d5bf9": {
      "model_module": "@jupyter-widgets/controls",
      "model_module_version": "1.4.0",
      "model_name": "HTMLModel",
      "state": {
       "layout": "IPY_MODEL_ec685df044dd46dbb9723893879fd4fd",
       "style": "IPY_MODEL_9c9a96c1ce3342bb93a9124c350698a2",
       "value": "<h5>Name  &nbsp</h5> "
      }
     },
     "8aae17268550425db9e26754065926bb": {
      "model_module": "@jupyter-widgets/base",
      "model_module_version": "1.1.0",
      "model_name": "LayoutModel",
      "state": {}
     },
     "8c74e04ea5cd40beafc8de28db6067a0": {
      "model_module": "@jupyter-widgets/controls",
      "model_module_version": "1.4.0",
      "model_name": "SliderStyleModel",
      "state": {
       "description_width": ""
      }
     },
     "8cd4bb184ee443ab9a742634921d2b9e": {
      "model_module": "@jupyter-widgets/base",
      "model_module_version": "1.1.0",
      "model_name": "LayoutModel",
      "state": {}
     },
     "8d6a843ac35f4952923b7c093ecf807b": {
      "model_module": "@jupyter-widgets/controls",
      "model_module_version": "1.4.0",
      "model_name": "DescriptionStyleModel",
      "state": {
       "description_width": ""
      }
     },
     "8f248362bc244ddabb952bc36ff5709b": {
      "model_module": "@jupyter-widgets/controls",
      "model_module_version": "1.4.0",
      "model_name": "ButtonModel",
      "state": {
       "button_style": "primary",
       "description": "Load",
       "layout": "IPY_MODEL_863ba944b08b430abda430fee4bae7a3",
       "style": "IPY_MODEL_ffd065e3883b4f7da15596c8ae5dade1"
      }
     },
     "9133b6883ddc44a58f8f1f42dfe48e19": {
      "model_module": "@jupyter-widgets/base",
      "model_module_version": "1.1.0",
      "model_name": "LayoutModel",
      "state": {}
     },
     "91c605ddb2a44386a486fa9dfd11bb09": {
      "model_module": "@jupyter-widgets/base",
      "model_module_version": "1.1.0",
      "model_name": "LayoutModel",
      "state": {}
     },
     "91f87fd2fc5e4b95ba148ac4cb7d2b3b": {
      "model_module": "@jupyter-widgets/controls",
      "model_module_version": "1.4.0",
      "model_name": "DescriptionStyleModel",
      "state": {
       "description_width": ""
      }
     },
     "929cabdd32054b8bb3f1391f8527d900": {
      "model_module": "@jupyter-widgets/controls",
      "model_module_version": "1.4.0",
      "model_name": "HBoxModel",
      "state": {
       "children": [
        "IPY_MODEL_3126af2a66cb42f4864e80f6903c212d",
        "IPY_MODEL_28ae372589c3438b98ab2db544c20170",
        "IPY_MODEL_65d7679e97364b9fac273fce95b18795",
        "IPY_MODEL_2ad3f608b5fb45cd9aebe0071b66f36e"
       ],
       "layout": "IPY_MODEL_30473879eab94670803c1fdf08a83c73"
      }
     },
     "92e34569c97647b6bf8195531c4fface": {
      "model_module": "@jupyter-widgets/controls",
      "model_module_version": "1.4.0",
      "model_name": "ButtonStyleModel",
      "state": {}
     },
     "93aa92f22d554843a56923346c63e502": {
      "model_module": "@jupyter-widgets/base",
      "model_module_version": "1.1.0",
      "model_name": "LayoutModel",
      "state": {}
     },
     "93b3bd5d1fb7490cbe3e7fba7c36b4ac": {
      "model_module": "@jupyter-widgets/controls",
      "model_module_version": "1.4.0",
      "model_name": "DropdownModel",
      "state": {
       "_options_labels": [
        "Harmony RNA.ipynb",
        "Source Code.ipynb"
       ],
       "index": 0,
       "layout": "IPY_MODEL_bfd7b58a94db4732979b2be6b68c15c9",
       "style": "IPY_MODEL_bc01bf63d85c412bafd45e825eff5ec6"
      }
     },
     "9403b267d27f4e09afd8ea2d4dfb6742": {
      "model_module": "@jupyter-widgets/controls",
      "model_module_version": "1.4.0",
      "model_name": "ButtonModel",
      "state": {
       "button_style": "danger",
       "description": " Reset",
       "icon": "refresh",
       "layout": "IPY_MODEL_f84af91c69c94ac2b593322f67c0629a",
       "style": "IPY_MODEL_d97da167c20848e48bb5def1f8a6b22b"
      }
     },
     "945647fac5ca43e58498f87b0f79f2b2": {
      "model_module": "@jupyter-widgets/base",
      "model_module_version": "1.1.0",
      "model_name": "LayoutModel",
      "state": {
       "justify_content": "center",
       "padding": "15px 0 0 0"
      }
     },
     "96304f2429de4d1fbcd21c4f9290c25c": {
      "model_module": "@jupyter-widgets/base",
      "model_module_version": "1.1.0",
      "model_name": "LayoutModel",
      "state": {}
     },
     "9657f597dba941f08c0d3c05301b08a7": {
      "model_module": "@jupyter-widgets/controls",
      "model_module_version": "1.4.0",
      "model_name": "ButtonModel",
      "state": {
       "button_style": "primary",
       "description": "Load",
       "layout": "IPY_MODEL_4281a09d28134693a7fa794fb28e4529",
       "style": "IPY_MODEL_35a2f3fda088450bb6c3e4f17759e1db"
      }
     },
     "9674a8e920db444382f26ec674b3d86e": {
      "model_module": "@jupyter-widgets/base",
      "model_module_version": "1.1.0",
      "model_name": "LayoutModel",
      "state": {}
     },
     "9743c49c50bb41b88d9f327f7073437c": {
      "model_module": "@jupyter-widgets/controls",
      "model_module_version": "1.4.0",
      "model_name": "ToggleButtonsModel",
      "state": {
       "_options_labels": [
        "Recent",
        "Popular",
        "Stars"
       ],
       "button_style": "",
       "icons": [],
       "index": 0,
       "layout": "IPY_MODEL_4e061737b47a4f9bab33b831c48af994",
       "style": "IPY_MODEL_d7b9a143b2814c02a81691bed294c29d",
       "tooltips": []
      }
     },
     "98397ccd9c2b4dc7b1b90a206819915c": {
      "model_module": "@jupyter-widgets/base",
      "model_module_version": "1.1.0",
      "model_name": "LayoutModel",
      "state": {}
     },
     "99f12f3d3bca4445a90b646923667f57": {
      "model_module": "@jupyter-widgets/controls",
      "model_module_version": "1.4.0",
      "model_name": "HBoxModel",
      "state": {
       "children": [
        "IPY_MODEL_d63b349e5c7d4eeba92b9650290e5a4e",
        "IPY_MODEL_93b3bd5d1fb7490cbe3e7fba7c36b4ac",
        "IPY_MODEL_fb11c7816460491f92edf3162409b9fb",
        "IPY_MODEL_6dedd2337e0c4d0ba445d4829c7bbb66"
       ],
       "layout": "IPY_MODEL_2655cefcc49c4a9388dd566a9ad16832"
      }
     },
     "9aa4dd5d363348bea344b3c1942a16cc": {
      "model_module": "@jupyter-widgets/controls",
      "model_module_version": "1.4.0",
      "model_name": "SliderStyleModel",
      "state": {
       "description_width": ""
      }
     },
     "9aa899b80d9b403cb9cab10224da81aa": {
      "model_module": "@jupyter-widgets/base",
      "model_module_version": "1.1.0",
      "model_name": "LayoutModel",
      "state": {
       "justify_content": "center"
      }
     },
     "9af97445c1b246ad907c7c2884637200": {
      "model_module": "@jupyter-widgets/controls",
      "model_module_version": "1.4.0",
      "model_name": "HBoxModel",
      "state": {
       "children": [
        "IPY_MODEL_0156eeeefc9a49948100a2990aa18f1e"
       ],
       "layout": "IPY_MODEL_ec5b5c40fbe643d69568b12f7bdf528e"
      }
     },
     "9b488457d2be46ffb658abf2ac2b50cc": {
      "model_module": "@jupyter-widgets/base",
      "model_module_version": "1.1.0",
      "model_name": "LayoutModel",
      "state": {}
     },
     "9bcc42bd12e249dba2025b90ab824ca5": {
      "model_module": "@jupyter-widgets/base",
      "model_module_version": "1.1.0",
      "model_name": "LayoutModel",
      "state": {}
     },
     "9c9a96c1ce3342bb93a9124c350698a2": {
      "model_module": "@jupyter-widgets/controls",
      "model_module_version": "1.4.0",
      "model_name": "DescriptionStyleModel",
      "state": {
       "description_width": ""
      }
     },
     "9d7f801d8e994d3887e27076a8e18771": {
      "model_module": "@jupyter-widgets/controls",
      "model_module_version": "1.4.0",
      "model_name": "ToggleButtonsModel",
      "state": {
       "_options_labels": [
        "Counts",
        "TPM",
        "FastQ"
       ],
       "button_style": "",
       "icons": [],
       "index": 0,
       "layout": "IPY_MODEL_e9531333c87944388506cd4172183c02",
       "style": "IPY_MODEL_573c603157014c0c85d996841c8d3491",
       "tooltips": []
      }
     },
     "9e1d65c54a424221822cddab3feff1dd": {
      "model_module": "@jupyter-widgets/controls",
      "model_module_version": "1.4.0",
      "model_name": "DescriptionStyleModel",
      "state": {
       "description_width": ""
      }
     },
     "9e3a5e9ee1994350a1177c72f564e927": {
      "model_module": "@jupyter-widgets/base",
      "model_module_version": "1.1.0",
      "model_name": "LayoutModel",
      "state": {}
     },
     "9f0ef674fa86477f8fcfb0a7c12705cc": {
      "model_module": "@jupyter-widgets/controls",
      "model_module_version": "1.4.0",
      "model_name": "DescriptionStyleModel",
      "state": {
       "description_width": ""
      }
     },
     "9f1156da5709434482dfb7112a3e2a8c": {
      "model_module": "@jupyter-widgets/base",
      "model_module_version": "1.1.0",
      "model_name": "LayoutModel",
      "state": {}
     },
     "9ff86fbb80844c119678895b5e565bf8": {
      "model_module": "@jupyter-widgets/controls",
      "model_module_version": "1.4.0",
      "model_name": "ToggleButtonsStyleModel",
      "state": {
       "button_width": "",
       "description_width": ""
      }
     },
     "a0e7d1f84db4461eb94bcd6861925ef5": {
      "model_module": "@jupyter-widgets/controls",
      "model_module_version": "1.4.0",
      "model_name": "DescriptionStyleModel",
      "state": {
       "description_width": ""
      }
     },
     "a12c95a96a334ee5b47445e051cbd752": {
      "model_module": "@jupyter-widgets/controls",
      "model_module_version": "1.4.0",
      "model_name": "HTMLModel",
      "state": {
       "layout": "IPY_MODEL_d43e7404d44c453f9e14e089247cb826",
       "style": "IPY_MODEL_4a0098b151c34e08b468248b157f643b",
       "value": "<h3>Load Data <small>from</h3>"
      }
     },
     "a25e8f33faa64ff688753da8eb3747fe": {
      "model_module": "@jupyter-widgets/base",
      "model_module_version": "1.1.0",
      "model_name": "LayoutModel",
      "state": {
       "width": "auto"
      }
     },
     "a30e6077cf004d979340c1745afb257e": {
      "model_module": "@jupyter-widgets/controls",
      "model_module_version": "1.4.0",
      "model_name": "VBoxModel",
      "state": {
       "children": [
        "IPY_MODEL_51db30f1fd574a4ea52f3fede85130d6",
        "IPY_MODEL_352e55a940594515ab0aafb2de158e92",
        "IPY_MODEL_99f12f3d3bca4445a90b646923667f57",
        "IPY_MODEL_ff3c03ca6d6b4129892cd8c63c09a0dc",
        "IPY_MODEL_1e06180b0e494ef68cf2a0ec14f2dd0b"
       ],
       "layout": "IPY_MODEL_b705affb6c7c4a1ba0d5816afb858bfe"
      }
     },
     "a319cac13a274814a2a76e236c612838": {
      "model_module": "@jupyter-widgets/controls",
      "model_module_version": "1.4.0",
      "model_name": "ButtonModel",
      "state": {
       "button_style": "primary",
       "description": "Load",
       "layout": "IPY_MODEL_e17318f5767041a3a98dd2917e7a55ad",
       "style": "IPY_MODEL_72200983a7f3417c8965f69b67eded4e"
      }
     },
     "a32bca913d854d4c875a7174dd1f56a9": {
      "model_module": "@jupyter-widgets/base",
      "model_module_version": "1.1.0",
      "model_name": "LayoutModel",
      "state": {}
     },
     "a3dbeb41197c430abbe36f487641c64a": {
      "model_module": "@jupyter-widgets/controls",
      "model_module_version": "1.4.0",
      "model_name": "SliderStyleModel",
      "state": {
       "description_width": ""
      }
     },
     "a4812e7bf59042b6b21976e17fbb4f45": {
      "model_module": "@jupyter-widgets/controls",
      "model_module_version": "1.4.0",
      "model_name": "ButtonModel",
      "state": {
       "button_style": "primary",
       "description": "Load",
       "layout": "IPY_MODEL_d8e52d02a5d04fedb4f51beda95b99dd",
       "style": "IPY_MODEL_0343703539404457b5ac968ebee2238c"
      }
     },
     "a5519198efbd4b3a96fd7c16710181e5": {
      "model_module": "@jupyter-widgets/controls",
      "model_module_version": "1.4.0",
      "model_name": "DescriptionStyleModel",
      "state": {
       "description_width": ""
      }
     },
     "a6a6e0c6746149da9cca0c98589e8a48": {
      "model_module": "@jupyter-widgets/base",
      "model_module_version": "1.1.0",
      "model_name": "LayoutModel",
      "state": {
       "align_items": "center",
       "justify_content": "center"
      }
     },
     "a6de192397b64e068a6cb70b72446c67": {
      "model_module": "@jupyter-widgets/controls",
      "model_module_version": "1.4.0",
      "model_name": "ButtonModel",
      "state": {
       "button_style": "danger",
       "description": "Logout",
       "layout": "IPY_MODEL_ce87ca6ec5e445eebaa9166be71ded28",
       "style": "IPY_MODEL_e7b3a5d35f3c4585bdbe4e747cce0cd3"
      }
     },
     "a75152cd9e1d43e48e7b9ddcb102e6c5": {
      "model_module": "@jupyter-widgets/base",
      "model_module_version": "1.1.0",
      "model_name": "LayoutModel",
      "state": {
       "margin": "2px 25px 2px 0px",
       "width": "auto"
      }
     },
     "a83a64b2ce544d1c8b3ad05afd4aa23a": {
      "model_module": "@jupyter-widgets/controls",
      "model_module_version": "1.4.0",
      "model_name": "DescriptionStyleModel",
      "state": {
       "description_width": ""
      }
     },
     "a93eb022d7844f2c85376ebecb233abf": {
      "model_module": "@jupyter-widgets/controls",
      "model_module_version": "1.4.0",
      "model_name": "IntSliderModel",
      "state": {
       "description": "Length",
       "layout": "IPY_MODEL_d21203ff829d4dc48e1eb295bc56758d",
       "max": 400,
       "min": 50,
       "style": "IPY_MODEL_8981c85868c844f0a984b41c0538eaa8",
       "value": 180
      }
     },
     "a99deb9d4dbf4ebe86b3aacda238a2d5": {
      "model_module": "@jupyter-widgets/controls",
      "model_module_version": "1.4.0",
      "model_name": "HBoxModel",
      "state": {
       "children": [
        "IPY_MODEL_3a23e03705c349aabf6ee0903dfb33cb",
        "IPY_MODEL_8138410fc9d24680a9daf4247607cee9",
        "IPY_MODEL_9657f597dba941f08c0d3c05301b08a7"
       ],
       "layout": "IPY_MODEL_55763c8243c7490596b7ae9f114ea594"
      }
     },
     "aa1fb4d6f3814565936a7c89c76f2572": {
      "model_module": "@jupyter-widgets/controls",
      "model_module_version": "1.4.0",
      "model_name": "ButtonStyleModel",
      "state": {}
     },
     "abf77368e36847a3897267c7b1046b0f": {
      "model_module": "@jupyter-widgets/base",
      "model_module_version": "1.1.0",
      "model_name": "LayoutModel",
      "state": {}
     },
     "ad8d5061efa743699ae8a19fc870b415": {
      "model_module": "@jupyter-widgets/controls",
      "model_module_version": "1.4.0",
      "model_name": "ButtonModel",
      "state": {
       "button_style": "primary",
       "description": "Load",
       "layout": "IPY_MODEL_f7b2bbbf931f414aae03d548109fd8ba",
       "style": "IPY_MODEL_e0c37cc018dd4b598678b4f0f2605dea"
      }
     },
     "ae732d4093b44c56beabbf2ef1838804": {
      "model_module": "@jupyter-widgets/controls",
      "model_module_version": "1.4.0",
      "model_name": "ButtonModel",
      "state": {
       "button_style": "primary",
       "description": "Load",
       "layout": "IPY_MODEL_d14ff0f280994f618f0c6d1b51f60c78",
       "style": "IPY_MODEL_d1047f90be1a42d3895be0e9420ae26a"
      }
     },
     "af75bec839fa42c798d44ae6cce9adf1": {
      "model_module": "@jupyter-widgets/controls",
      "model_module_version": "1.4.0",
      "model_name": "DescriptionStyleModel",
      "state": {
       "description_width": ""
      }
     },
     "b0208d48603b425bb92323eee09bb0df": {
      "model_module": "@jupyter-widgets/base",
      "model_module_version": "1.1.0",
      "model_name": "LayoutModel",
      "state": {
       "align_items": "center",
       "justify_content": "center"
      }
     },
     "b04db56032f2470fa0358da6465292e7": {
      "model_module": "@jupyter-widgets/controls",
      "model_module_version": "1.4.0",
      "model_name": "DescriptionStyleModel",
      "state": {
       "description_width": ""
      }
     },
     "b085d1150e884a1b9a9a4712f5c9137a": {
      "model_module": "@jupyter-widgets/controls",
      "model_module_version": "1.4.0",
      "model_name": "ButtonStyleModel",
      "state": {}
     },
     "b1a4ded7335c4a7d94faef08caad97e0": {
      "model_module": "@jupyter-widgets/controls",
      "model_module_version": "1.4.0",
      "model_name": "VBoxModel",
      "state": {
       "children": [
        "IPY_MODEL_1f3b468226b04f1db9b33c84bf358bbe",
        "IPY_MODEL_de27ebc780334255a6f8a556861d15ee"
       ],
       "layout": "IPY_MODEL_38cb7f03439a44f79b04ad1c211f1017"
      }
     },
     "b234de00325b45fba904c5fabd280dc8": {
      "model_module": "@jupyter-widgets/base",
      "model_module_version": "1.1.0",
      "model_name": "LayoutModel",
      "state": {}
     },
     "b5aacf221fd14c2ca63c620517c410b3": {
      "model_module": "@jupyter-widgets/controls",
      "model_module_version": "1.4.0",
      "model_name": "HTMLModel",
      "state": {
       "layout": "IPY_MODEL_7a0e14fdd01a46a8850f6a72e1441cda",
       "style": "IPY_MODEL_615b05f5ba004b7497af8ecbadb41af1",
       "value": "<h4>Reads Type  &nbsp</h5> "
      }
     },
     "b705affb6c7c4a1ba0d5816afb858bfe": {
      "model_module": "@jupyter-widgets/base",
      "model_module_version": "1.1.0",
      "model_name": "LayoutModel",
      "state": {}
     },
     "b7de5dc907ae4db7a3a9d95cc0c4f9ff": {
      "model_module": "@jupyter-widgets/base",
      "model_module_version": "1.1.0",
      "model_name": "LayoutModel",
      "state": {}
     },
     "b7fb84bd6f9f43918dea87b7cc7deda2": {
      "model_module": "@jupyter-widgets/controls",
      "model_module_version": "1.4.0",
      "model_name": "HBoxModel",
      "state": {
       "children": [
        "IPY_MODEL_b5aacf221fd14c2ca63c620517c410b3",
        "IPY_MODEL_315cad6d4b5f4897a06b1b996e172c21"
       ],
       "layout": "IPY_MODEL_cc9c4a8b956e48b0ab69aa463485d4c9"
      }
     },
     "b899abeaf7a343bbb8ed754c9d909276": {
      "model_module": "@jupyter-widgets/base",
      "model_module_version": "1.1.0",
      "model_name": "LayoutModel",
      "state": {
       "margin": "2px 25px 2px 0px",
       "width": "auto"
      }
     },
     "b89f4fba70484ff6b999fa63842ab9eb": {
      "model_module": "@jupyter-widgets/base",
      "model_module_version": "1.1.0",
      "model_name": "LayoutModel",
      "state": {}
     },
     "b8c0f5b3a4a7464794d4ebab17411a1b": {
      "model_module": "@jupyter-widgets/controls",
      "model_module_version": "1.4.0",
      "model_name": "ButtonStyleModel",
      "state": {}
     },
     "b93b3700549845e3af8305d887abfb7e": {
      "model_module": "@jupyter-widgets/controls",
      "model_module_version": "1.4.0",
      "model_name": "DropdownModel",
      "state": {
       "_options_labels": [
        "adjusted_matrix.csv",
        "adjusted_matrix_OLD.csv",
        "combat_seq.R",
        "count_matrix_OLD.csv",
        "COVID19",
        "Guinea-SDY1412",
        "Harmonize_Data.R",
        "harmonized_counts.csv",
        "Harmony RNA.ipynb",
        "hgnc_mapping.csv",
        "kallisto_test.R",
        "Mali-SDY1172",
        "Process Raw Data.ipynb",
        "RNA-Seq Harmonization.ipynb",
        "Run_Docker.txt",
        "semi_adjusted_matrix.csv",
        "semi_adjusted_matrix_OLD.csv",
        "subjects_summary_whole_blood.csv",
        "Tanzania-SDY1092",
        "unharmonized_counts.csv"
       ],
       "index": 0,
       "layout": "IPY_MODEL_7d412480424e48b4889e9b96806a014a",
       "style": "IPY_MODEL_0163ba8a1ebc4c41a1e8a82421dce5b3"
      }
     },
     "b9bee0b2911d4f77b546deb932f3c352": {
      "model_module": "@jupyter-widgets/base",
      "model_module_version": "1.1.0",
      "model_name": "LayoutModel",
      "state": {}
     },
     "ba1f5d63d41d4cc2ac357d00332a1f6c": {
      "model_module": "@jupyter-widgets/base",
      "model_module_version": "1.1.0",
      "model_name": "LayoutModel",
      "state": {}
     },
     "bc01bf63d85c412bafd45e825eff5ec6": {
      "model_module": "@jupyter-widgets/controls",
      "model_module_version": "1.4.0",
      "model_name": "DescriptionStyleModel",
      "state": {
       "description_width": ""
      }
     },
     "bc29a99041d34daa8e5b07024913416e": {
      "model_module": "@jupyter-widgets/controls",
      "model_module_version": "1.4.0",
      "model_name": "HTMLModel",
      "state": {
       "layout": "IPY_MODEL_e04f2c664bc3409e9857ecd47fa0afa4",
       "style": "IPY_MODEL_9e1d65c54a424221822cddab3feff1dd",
       "value": "<h4>Reads Type  &nbsp</h5> "
      }
     },
     "bc2f50cf18e1499aa67aa4f864e02872": {
      "model_module": "@jupyter-widgets/controls",
      "model_module_version": "1.4.0",
      "model_name": "HBoxModel",
      "state": {
       "children": [
        "IPY_MODEL_16df829f6858424ba78d833f8692e316"
       ],
       "layout": "IPY_MODEL_5b9b147861d64b1c83a4a2e8431cb6b7"
      }
     },
     "bc5f155a4d564a6581014761d6602385": {
      "model_module": "@jupyter-widgets/controls",
      "model_module_version": "1.4.0",
      "model_name": "HTMLMathModel",
      "state": {
       "layout": "IPY_MODEL_33a495628e734d8586c9f3640298d705",
       "style": "IPY_MODEL_d22aa88f54024374acc4d145ffe662bc",
       "value": "<h3>Load Data <small>from</h3>"
      }
     },
     "bf016b5df73249a0b5dcc15ff4248f91": {
      "model_module": "@jupyter-widgets/controls",
      "model_module_version": "1.4.0",
      "model_name": "HTMLModel",
      "state": {
       "layout": "IPY_MODEL_046d96d3f64948e4ac82bb77c5fbe8ea",
       "style": "IPY_MODEL_1289d454fda8497285aeb9f3631b945d",
       "value": "<h3 >Load Data <small>from</h3>"
      }
     },
     "bfd7b58a94db4732979b2be6b68c15c9": {
      "model_module": "@jupyter-widgets/base",
      "model_module_version": "1.1.0",
      "model_name": "LayoutModel",
      "state": {}
     },
     "c1e89900ca8d4ce1803179ac02c73f84": {
      "model_module": "@jupyter-widgets/controls",
      "model_module_version": "1.4.0",
      "model_name": "DescriptionStyleModel",
      "state": {
       "description_width": ""
      }
     },
     "c2194cdf59914a849bbe6f21928b2500": {
      "model_module": "@jupyter-widgets/base",
      "model_module_version": "1.1.0",
      "model_name": "LayoutModel",
      "state": {}
     },
     "c25335464f914b83b8d5002437c6f4fa": {
      "model_module": "@jupyter-widgets/base",
      "model_module_version": "1.1.0",
      "model_name": "LayoutModel",
      "state": {
       "padding": "20px 0 0 0 "
      }
     },
     "c35d543d6eb14056925d1c1a8f8b8108": {
      "model_module": "@jupyter-widgets/base",
      "model_module_version": "1.1.0",
      "model_name": "LayoutModel",
      "state": {
       "width": "auto"
      }
     },
     "c370fb88b3214fe99680c520cf76a512": {
      "model_module": "@jupyter-widgets/controls",
      "model_module_version": "1.4.0",
      "model_name": "DescriptionStyleModel",
      "state": {
       "description_width": ""
      }
     },
     "c44d1e93399841a5879347052b35956a": {
      "model_module": "@jupyter-widgets/base",
      "model_module_version": "1.1.0",
      "model_name": "LayoutModel",
      "state": {
       "margin": "2px 25px 2px 0px",
       "width": "auto"
      }
     },
     "c4bce30892444513be0f46742ab1761d": {
      "model_module": "@jupyter-widgets/base",
      "model_module_version": "1.1.0",
      "model_name": "LayoutModel",
      "state": {}
     },
     "c51ada0a2a2f4d27917de6eb9d9deace": {
      "model_module": "@jupyter-widgets/base",
      "model_module_version": "1.1.0",
      "model_name": "LayoutModel",
      "state": {
       "display": "none",
       "padding": "20px 0 0 0 "
      }
     },
     "c52c70828e5944ca8a6f128c96c5f7fd": {
      "model_module": "@jupyter-widgets/base",
      "model_module_version": "1.1.0",
      "model_name": "LayoutModel",
      "state": {}
     },
     "c538391a906c44d0b459ce8fdd344339": {
      "model_module": "@jupyter-widgets/controls",
      "model_module_version": "1.4.0",
      "model_name": "HTMLModel",
      "state": {
       "layout": "IPY_MODEL_5c04ddf347d04e5d83ae5e48950669bd",
       "style": "IPY_MODEL_7b0dcbaf63eb41459b62ac84e99f1be3",
       "value": "<h3>Datasets: <font color='red'>None</font></h3>"
      }
     },
     "c70f43bad2b34066a09a79394e93a1ed": {
      "model_module": "@jupyter-widgets/controls",
      "model_module_version": "1.4.0",
      "model_name": "ButtonModel",
      "state": {
       "button_style": "info",
       "icon": "refresh",
       "layout": "IPY_MODEL_a75152cd9e1d43e48e7b9ddcb102e6c5",
       "style": "IPY_MODEL_4ec99aadda884d00afc2b96309fca7ec"
      }
     },
     "c7474f27c6a44c728953c24fba69164b": {
      "model_module": "@jupyter-widgets/base",
      "model_module_version": "1.1.0",
      "model_name": "LayoutModel",
      "state": {}
     },
     "c7e40467fa5042caa6ed138f603c157d": {
      "model_module": "@jupyter-widgets/base",
      "model_module_version": "1.1.0",
      "model_name": "LayoutModel",
      "state": {
       "width": "auto"
      }
     },
     "c9002aa959654332a14a6c89220b470e": {
      "model_module": "@jupyter-widgets/controls",
      "model_module_version": "1.4.0",
      "model_name": "HBoxModel",
      "state": {
       "children": [
        "IPY_MODEL_e3f3de167c7a43b09f826e8c2821da27",
        "IPY_MODEL_77530436cb134515bc15d632e7352c13"
       ],
       "layout": "IPY_MODEL_9aa899b80d9b403cb9cab10224da81aa"
      }
     },
     "ca6e0529a72d447f9ed3eac075d2caee": {
      "model_module": "@jupyter-widgets/controls",
      "model_module_version": "1.4.0",
      "model_name": "ButtonStyleModel",
      "state": {}
     },
     "caa04338225a4dcd88d6935c715d5bfc": {
      "model_module": "@jupyter-widgets/controls",
      "model_module_version": "1.4.0",
      "model_name": "ToggleButtonsModel",
      "state": {
       "_options_labels": [
        "Counts",
        "TPM",
        "fastq"
       ],
       "button_style": "",
       "icons": [],
       "index": 0,
       "layout": "IPY_MODEL_b89f4fba70484ff6b999fa63842ab9eb",
       "style": "IPY_MODEL_f6273e1a2f4740e888d14699ec7adfaf",
       "tooltips": []
      }
     },
     "cb2aaf5b15d142b3b4151446cc86fa82": {
      "model_module": "@jupyter-widgets/controls",
      "model_module_version": "1.4.0",
      "model_name": "IntSliderModel",
      "state": {
       "description": "SD",
       "layout": "IPY_MODEL_38bd73241b254960be5089117146d94f",
       "max": 40,
       "min": 5,
       "style": "IPY_MODEL_a3dbeb41197c430abbe36f487641c64a",
       "value": 20
      }
     },
     "cb65d218ac1b479ebbfc6ea5f0c9aedb": {
      "model_module": "@jupyter-widgets/controls",
      "model_module_version": "1.4.0",
      "model_name": "ToggleButtonsModel",
      "state": {
       "_options_labels": [
        "Recent",
        "Popular",
        "Stars"
       ],
       "button_style": "",
       "icons": [],
       "index": 0,
       "layout": "IPY_MODEL_52ee21bf67f94bb39b785f77a34798aa",
       "style": "IPY_MODEL_2d0633f7f0ed4f2ea2a07493082c37ac",
       "tooltips": []
      }
     },
     "cc9c4a8b956e48b0ab69aa463485d4c9": {
      "model_module": "@jupyter-widgets/base",
      "model_module_version": "1.1.0",
      "model_name": "LayoutModel",
      "state": {
       "align_items": "center",
       "justify_content": "center"
      }
     },
     "ccc4b3ae861744d38e6a88aa03488b1d": {
      "model_module": "@jupyter-widgets/controls",
      "model_module_version": "1.4.0",
      "model_name": "ToggleButtonsModel",
      "state": {
       "_options_labels": [
        "Counts",
        "TPM",
        "FastQ"
       ],
       "button_style": "",
       "icons": [],
       "index": 2,
       "layout": "IPY_MODEL_c52c70828e5944ca8a6f128c96c5f7fd",
       "style": "IPY_MODEL_189274e8204f4fa6909024b3339bdc38",
       "tooltips": []
      }
     },
     "cd99825f82544ae6a7bee02cb75d9eb9": {
      "model_module": "@jupyter-widgets/base",
      "model_module_version": "1.1.0",
      "model_name": "LayoutModel",
      "state": {}
     },
     "cde41dbcba0647dcafc7e89ac615ed71": {
      "model_module": "@jupyter-widgets/controls",
      "model_module_version": "1.4.0",
      "model_name": "HTMLModel",
      "state": {
       "layout": "IPY_MODEL_9674a8e920db444382f26ec674b3d86e",
       "style": "IPY_MODEL_a5519198efbd4b3a96fd7c16710181e5",
       "value": "\n<div class=\"row\"><div class=\"col-xs-12 col-md-offset-3 col-md-6\">\n<div class=\"embed-responsive embed-responsive-16by9\">\n  <iframe class=\"embed-responsive-item\"\n  src='https://www.youtube.com/embed/lA1-lHms0I0'></iframe></div>\n</div></div>\n<hr>\n"
      }
     },
     "ce87ca6ec5e445eebaa9166be71ded28": {
      "model_module": "@jupyter-widgets/base",
      "model_module_version": "1.1.0",
      "model_name": "LayoutModel",
      "state": {
       "width": "auto"
      }
     },
     "cee89d41a5634df99e61636f28d96ae7": {
      "model_module": "@jupyter-widgets/controls",
      "model_module_version": "1.4.0",
      "model_name": "DescriptionStyleModel",
      "state": {
       "description_width": ""
      }
     },
     "cf48a3bf836748f6aff2b0ab60371565": {
      "model_module": "@jupyter-widgets/base",
      "model_module_version": "1.1.0",
      "model_name": "LayoutModel",
      "state": {
       "align_items": "center",
       "justify_content": "center"
      }
     },
     "cf978e69d91545cb8af4f99c6ef9ae24": {
      "model_module": "@jupyter-widgets/controls",
      "model_module_version": "1.4.0",
      "model_name": "HTMLModel",
      "state": {
       "layout": "IPY_MODEL_91c605ddb2a44386a486fa9dfd11bb09",
       "style": "IPY_MODEL_e6fbdcddc58b4a9ca53a0e5f518c502e",
       "value": "<h3>Datasets: <font color='red'>None</font></h3><hr>"
      }
     },
     "cfc1e88cb3634c89bf969a24515ef64f": {
      "model_module": "@jupyter-widgets/base",
      "model_module_version": "1.1.0",
      "model_name": "LayoutModel",
      "state": {
       "width": "auto"
      }
     },
     "d09580cd1a4d42efac2f1c9f86e53778": {
      "model_module": "@jupyter-widgets/base",
      "model_module_version": "1.1.0",
      "model_name": "LayoutModel",
      "state": {
       "visibility": "hidden"
      }
     },
     "d1047f90be1a42d3895be0e9420ae26a": {
      "model_module": "@jupyter-widgets/controls",
      "model_module_version": "1.4.0",
      "model_name": "ButtonStyleModel",
      "state": {}
     },
     "d117c095aae44b9895517c1560a3c242": {
      "model_module": "@jupyter-widgets/controls",
      "model_module_version": "1.4.0",
      "model_name": "HTMLModel",
      "state": {
       "layout": "IPY_MODEL_d09580cd1a4d42efac2f1c9f86e53778",
       "style": "IPY_MODEL_af75bec839fa42c798d44ae6cce9adf1",
       "value": "<h4>Reads Type  &nbsp</h5> "
      }
     },
     "d14ff0f280994f618f0c6d1b51f60c78": {
      "model_module": "@jupyter-widgets/base",
      "model_module_version": "1.1.0",
      "model_name": "LayoutModel",
      "state": {
       "width": "auto"
      }
     },
     "d1bd091615c54bc2935388d7a5c40b9c": {
      "model_module": "@jupyter-widgets/controls",
      "model_module_version": "1.4.0",
      "model_name": "HTMLModel",
      "state": {
       "layout": "IPY_MODEL_754dfa65041c415e92843f52eb1ca564",
       "style": "IPY_MODEL_1f83e3ce9ce0416e93e8a2fc313c0d10",
       "value": "<h3>Load Data</h3><hr>"
      }
     },
     "d21203ff829d4dc48e1eb295bc56758d": {
      "model_module": "@jupyter-widgets/base",
      "model_module_version": "1.1.0",
      "model_name": "LayoutModel",
      "state": {}
     },
     "d22aa88f54024374acc4d145ffe662bc": {
      "model_module": "@jupyter-widgets/controls",
      "model_module_version": "1.4.0",
      "model_name": "DescriptionStyleModel",
      "state": {
       "description_width": ""
      }
     },
     "d30e047b3eeb484f8c7b58da02c78c86": {
      "model_module": "@jupyter-widgets/base",
      "model_module_version": "1.1.0",
      "model_name": "LayoutModel",
      "state": {}
     },
     "d43e7404d44c453f9e14e089247cb826": {
      "model_module": "@jupyter-widgets/base",
      "model_module_version": "1.1.0",
      "model_name": "LayoutModel",
      "state": {}
     },
     "d48097ab08b240baace9ec6842226366": {
      "model_module": "@jupyter-widgets/controls",
      "model_module_version": "1.4.0",
      "model_name": "DescriptionStyleModel",
      "state": {
       "description_width": ""
      }
     },
     "d63b349e5c7d4eeba92b9650290e5a4e": {
      "model_module": "@jupyter-widgets/controls",
      "model_module_version": "1.4.0",
      "model_name": "HTMLModel",
      "state": {
       "layout": "IPY_MODEL_557c4b47c8574106a2764ee8e23c6ed2",
       "style": "IPY_MODEL_4ea91b65da294cc39af1bc6ba3b61a4d",
       "value": "<h5>File  &nbsp</h5> "
      }
     },
     "d7153200d1b240cbaa113ee531d3f219": {
      "model_module": "@jupyter-widgets/controls",
      "model_module_version": "1.4.0",
      "model_name": "ToggleButtonsStyleModel",
      "state": {
       "button_width": "",
       "description_width": ""
      }
     },
     "d78d3097e4b44f49bf2908e2f543fc7a": {
      "model_module": "@jupyter-widgets/base",
      "model_module_version": "1.1.0",
      "model_name": "LayoutModel",
      "state": {
       "align_items": "center",
       "justify_content": "center",
       "padding": "15px 0 0 0"
      }
     },
     "d7b9a143b2814c02a81691bed294c29d": {
      "model_module": "@jupyter-widgets/controls",
      "model_module_version": "1.4.0",
      "model_name": "ToggleButtonsStyleModel",
      "state": {
       "button_width": "",
       "description_width": ""
      }
     },
     "d8e52d02a5d04fedb4f51beda95b99dd": {
      "model_module": "@jupyter-widgets/base",
      "model_module_version": "1.1.0",
      "model_name": "LayoutModel",
      "state": {
       "width": "auto"
      }
     },
     "d97da167c20848e48bb5def1f8a6b22b": {
      "model_module": "@jupyter-widgets/controls",
      "model_module_version": "1.4.0",
      "model_name": "ButtonStyleModel",
      "state": {}
     },
     "dad999d994654bd4b2d52ad6a1f7516c": {
      "model_module": "@jupyter-widgets/base",
      "model_module_version": "1.1.0",
      "model_name": "LayoutModel",
      "state": {
       "align_items": "center",
       "justify_content": "center"
      }
     },
     "db8d9bc958a644cbb86553adc8244141": {
      "model_module": "@jupyter-widgets/controls",
      "model_module_version": "1.4.0",
      "model_name": "HBoxModel",
      "state": {
       "children": [
        "IPY_MODEL_f831fad3045e473790f3c014b00f4d4d",
        "IPY_MODEL_ffa0567bff9c4fef80e063009d84857b"
       ],
       "layout": "IPY_MODEL_ee9ea66bc77446d0834852d6ab3e3815"
      }
     },
     "dcc40f4b2a31430b987ca1d7454e437c": {
      "model_module": "@jupyter-widgets/controls",
      "model_module_version": "1.4.0",
      "model_name": "ButtonModel",
      "state": {
       "button_style": "danger",
       "description": " Reset",
       "layout": "IPY_MODEL_f14b7a4a97a34dc49cfab932d9cbc965",
       "style": "IPY_MODEL_92e34569c97647b6bf8195531c4fface"
      }
     },
     "dce72365f24b4d41985aa0c47bb71c00": {
      "model_module": "@jupyter-widgets/controls",
      "model_module_version": "1.4.0",
      "model_name": "HTMLMathModel",
      "state": {
       "layout": "IPY_MODEL_824b731d0a9b4327b9acfe2665bd70df",
       "style": "IPY_MODEL_213b319400f24cdba14940449d31cb2b",
       "value": "<h3>Load Data from</h3>"
      }
     },
     "dcf6c28630044c48b1d9eb5bb47c0fdc": {
      "model_module": "@jupyter-widgets/controls",
      "model_module_version": "1.4.0",
      "model_name": "DescriptionStyleModel",
      "state": {
       "description_width": ""
      }
     },
     "de27ebc780334255a6f8a556861d15ee": {
      "model_module": "@jupyter-widgets/controls",
      "model_module_version": "1.4.0",
      "model_name": "ToggleButtonsModel",
      "state": {
       "_options_labels": [
        "Counts",
        "TPM",
        "FastQ"
       ],
       "button_style": "",
       "icons": [],
       "index": 2,
       "layout": "IPY_MODEL_3c7fd9e0c96e4e0cb5fe82dfe53edd4b",
       "style": "IPY_MODEL_1cdfe1dfd91b44d285273ee9e3899956",
       "tooltips": []
      }
     },
     "de4d312790b94e7b8bc6b28cd073eda6": {
      "model_module": "@jupyter-widgets/controls",
      "model_module_version": "1.4.0",
      "model_name": "HBoxModel",
      "state": {
       "children": [
        "IPY_MODEL_606586ed53c242bab21e45233b730394",
        "IPY_MODEL_744e9844cccd4e8b967bb9e06358c1f8",
        "IPY_MODEL_223d88e9433e43b08d872602a17f490b"
       ],
       "layout": "IPY_MODEL_d30e047b3eeb484f8c7b58da02c78c86"
      }
     },
     "dfdf21bbc0094afeafd6f755bd84f3ed": {
      "model_module": "@jupyter-widgets/controls",
      "model_module_version": "1.4.0",
      "model_name": "HBoxModel",
      "state": {
       "children": [
        "IPY_MODEL_0b5b8488d8594a80ba0819d75ec84bbf",
        "IPY_MODEL_b93b3700549845e3af8305d887abfb7e",
        "IPY_MODEL_14c886b5915b450f84b252bea05b0b18",
        "IPY_MODEL_a319cac13a274814a2a76e236c612838"
       ],
       "layout": "IPY_MODEL_38a0d5d818594da5b380b5fdb38b9001"
      }
     },
     "e009ef0773764d91b000c3cb44b1cf24": {
      "model_module": "@jupyter-widgets/controls",
      "model_module_version": "1.4.0",
      "model_name": "DescriptionStyleModel",
      "state": {
       "description_width": ""
      }
     },
     "e01e0152746143e883515a17490deb00": {
      "model_module": "@jupyter-widgets/controls",
      "model_module_version": "1.4.0",
      "model_name": "HTMLModel",
      "state": {
       "layout": "IPY_MODEL_cd99825f82544ae6a7bee02cb75d9eb9",
       "style": "IPY_MODEL_f5254226741545309240d4fb9fadd0dd",
       "value": "<h3>Datasets: <font color='red'>None</font></h3><hr>"
      }
     },
     "e04f2c664bc3409e9857ecd47fa0afa4": {
      "model_module": "@jupyter-widgets/base",
      "model_module_version": "1.1.0",
      "model_name": "LayoutModel",
      "state": {}
     },
     "e05bc4c5aca34db7b0b8bccbe8cd0087": {
      "model_module": "@jupyter-widgets/controls",
      "model_module_version": "1.4.0",
      "model_name": "HTMLModel",
      "state": {
       "layout": "IPY_MODEL_c7474f27c6a44c728953c24fba69164b",
       "style": "IPY_MODEL_1fba0dc113d545a886370a3eab7de93e",
       "value": "<h5>File  &nbsp</h5> "
      }
     },
     "e0c37cc018dd4b598678b4f0f2605dea": {
      "model_module": "@jupyter-widgets/controls",
      "model_module_version": "1.4.0",
      "model_name": "ButtonStyleModel",
      "state": {}
     },
     "e17318f5767041a3a98dd2917e7a55ad": {
      "model_module": "@jupyter-widgets/base",
      "model_module_version": "1.1.0",
      "model_name": "LayoutModel",
      "state": {
       "width": "auto"
      }
     },
     "e1d821ad3fca455aa33be810b8e31000": {
      "model_module": "@jupyter-widgets/controls",
      "model_module_version": "1.4.0",
      "model_name": "DropdownModel",
      "state": {
       "_options_labels": [
        "adjusted_matrix.csv",
        "adjusted_matrix_OLD.csv",
        "combat_seq.R",
        "count_matrix_OLD.csv",
        "COVID19",
        "Guinea-SDY1412",
        "Harmonize_Data.R",
        "harmonized_counts.csv",
        "Harmony RNA.ipynb",
        "hgnc_mapping.csv",
        "kallisto_test.R",
        "Mali-SDY1172",
        "Process Raw Data.ipynb",
        "RNA-Seq Harmonization.ipynb",
        "Run_Docker.txt",
        "semi_adjusted_matrix.csv",
        "semi_adjusted_matrix_OLD.csv",
        "subjects_summary_whole_blood.csv",
        "Tanzania-SDY1092",
        "unharmonized_counts.csv"
       ],
       "index": 0,
       "layout": "IPY_MODEL_c2194cdf59914a849bbe6f21928b2500",
       "style": "IPY_MODEL_208ef46fe93d4fbf814c6610dcd26a22"
      }
     },
     "e29a51e0a74b40c4817a05620ead4315": {
      "model_module": "@jupyter-widgets/base",
      "model_module_version": "1.1.0",
      "model_name": "LayoutModel",
      "state": {
       "align_items": "center",
       "justify_content": "center"
      }
     },
     "e38e58b44aa0465f8382acc08dfc3912": {
      "model_module": "@jupyter-widgets/base",
      "model_module_version": "1.1.0",
      "model_name": "LayoutModel",
      "state": {}
     },
     "e3f3de167c7a43b09f826e8c2821da27": {
      "model_module": "@jupyter-widgets/controls",
      "model_module_version": "1.4.0",
      "model_name": "HTMLModel",
      "state": {
       "layout": "IPY_MODEL_576a3ce8e453452485c330a10ff428b9",
       "style": "IPY_MODEL_91f87fd2fc5e4b95ba148ac4cb7d2b3b",
       "value": "<h4>Reads Type  &nbsp</h5> "
      }
     },
     "e547004619f948eb84a6ea5ec873a3d8": {
      "model_module": "@jupyter-widgets/controls",
      "model_module_version": "1.4.0",
      "model_name": "ButtonStyleModel",
      "state": {}
     },
     "e6fbdcddc58b4a9ca53a0e5f518c502e": {
      "model_module": "@jupyter-widgets/controls",
      "model_module_version": "1.4.0",
      "model_name": "DescriptionStyleModel",
      "state": {
       "description_width": ""
      }
     },
     "e7b3a5d35f3c4585bdbe4e747cce0cd3": {
      "model_module": "@jupyter-widgets/controls",
      "model_module_version": "1.4.0",
      "model_name": "ButtonStyleModel",
      "state": {}
     },
     "e7c63b31c7ef4564a0ddb99b15d7c467": {
      "model_module": "@jupyter-widgets/controls",
      "model_module_version": "1.4.0",
      "model_name": "IntSliderModel",
      "state": {
       "description": "SD",
       "layout": "IPY_MODEL_ba1f5d63d41d4cc2ac357d00332a1f6c",
       "max": 40,
       "min": 5,
       "style": "IPY_MODEL_f2e29fe53f314f26a0af6c9568d02626",
       "value": 20
      }
     },
     "e8b92b845df64f09b18e9594f517cc92": {
      "model_module": "@jupyter-widgets/base",
      "model_module_version": "1.1.0",
      "model_name": "LayoutModel",
      "state": {}
     },
     "e8f78d8f650a402784b65f1b01be22ba": {
      "model_module": "@jupyter-widgets/base",
      "model_module_version": "1.1.0",
      "model_name": "LayoutModel",
      "state": {}
     },
     "e9531333c87944388506cd4172183c02": {
      "model_module": "@jupyter-widgets/base",
      "model_module_version": "1.1.0",
      "model_name": "LayoutModel",
      "state": {}
     },
     "e98f9bdaded64994b58df47d26979cb7": {
      "model_module": "@jupyter-widgets/controls",
      "model_module_version": "1.4.0",
      "model_name": "HBoxModel",
      "state": {
       "children": [
        "IPY_MODEL_0b5b8488d8594a80ba0819d75ec84bbf",
        "IPY_MODEL_b93b3700549845e3af8305d887abfb7e",
        "IPY_MODEL_14c886b5915b450f84b252bea05b0b18",
        "IPY_MODEL_a319cac13a274814a2a76e236c612838"
       ],
       "layout": "IPY_MODEL_838babfa65f3479996714e5d72502ac7"
      }
     },
     "e9d1588af7194bfea3bc8133376abcee": {
      "model_module": "@jupyter-widgets/base",
      "model_module_version": "1.1.0",
      "model_name": "LayoutModel",
      "state": {}
     },
     "eaafc516382b422b8ab573487b73b338": {
      "model_module": "@jupyter-widgets/controls",
      "model_module_version": "1.4.0",
      "model_name": "DescriptionStyleModel",
      "state": {
       "description_width": ""
      }
     },
     "eabef45938d14885acd874202546a82a": {
      "model_module": "@jupyter-widgets/controls",
      "model_module_version": "1.4.0",
      "model_name": "ToggleButtonsStyleModel",
      "state": {
       "button_width": "",
       "description_width": ""
      }
     },
     "ec5b5c40fbe643d69568b12f7bdf528e": {
      "model_module": "@jupyter-widgets/base",
      "model_module_version": "1.1.0",
      "model_name": "LayoutModel",
      "state": {
       "justify_content": "center",
       "padding": "15px 0 0 0"
      }
     },
     "ec685df044dd46dbb9723893879fd4fd": {
      "model_module": "@jupyter-widgets/base",
      "model_module_version": "1.1.0",
      "model_name": "LayoutModel",
      "state": {}
     },
     "ee9ea66bc77446d0834852d6ab3e3815": {
      "model_module": "@jupyter-widgets/base",
      "model_module_version": "1.1.0",
      "model_name": "LayoutModel",
      "state": {
       "align_items": "center",
       "justify_content": "center"
      }
     },
     "f0c180e00b9e4db3abf524c6f2312be7": {
      "model_module": "@jupyter-widgets/controls",
      "model_module_version": "1.4.0",
      "model_name": "VBoxModel",
      "state": {
       "children": [
        "IPY_MODEL_083de7643a094df19eed0b40edae2d7a",
        "IPY_MODEL_ffcaa7797e694b59b14f619fd901c705",
        "IPY_MODEL_63f750421fe0432f86fe466eae54cd4d",
        "IPY_MODEL_2c7e873f523c4d77a29c626041cea8d7",
        "IPY_MODEL_bc2f50cf18e1499aa67aa4f864e02872"
       ],
       "layout": "IPY_MODEL_2ee46502bc1e496786e5e3415d675d41"
      }
     },
     "f14b7a4a97a34dc49cfab932d9cbc965": {
      "model_module": "@jupyter-widgets/base",
      "model_module_version": "1.1.0",
      "model_name": "LayoutModel",
      "state": {}
     },
     "f16ac51d88c54d0eb31bf265053fef0d": {
      "model_module": "@jupyter-widgets/controls",
      "model_module_version": "1.4.0",
      "model_name": "DescriptionStyleModel",
      "state": {
       "description_width": ""
      }
     },
     "f243d2ec85d14fd7927b2414711cb7cf": {
      "model_module": "@jupyter-widgets/base",
      "model_module_version": "1.1.0",
      "model_name": "LayoutModel",
      "state": {}
     },
     "f2a550b475d240c3a94f1ef9d11d8ed1": {
      "model_module": "@jupyter-widgets/controls",
      "model_module_version": "1.4.0",
      "model_name": "VBoxModel",
      "state": {
       "children": [
        "IPY_MODEL_80aa905d3dc34928991b01025957d63b",
        "IPY_MODEL_61c7b62a035d447fa848b549b9101768"
       ],
       "layout": "IPY_MODEL_cf48a3bf836748f6aff2b0ab60371565"
      }
     },
     "f2e29fe53f314f26a0af6c9568d02626": {
      "model_module": "@jupyter-widgets/controls",
      "model_module_version": "1.4.0",
      "model_name": "SliderStyleModel",
      "state": {
       "description_width": ""
      }
     },
     "f37f76d015e646b98ed0a65369002fae": {
      "model_module": "@jupyter-widgets/base",
      "model_module_version": "1.1.0",
      "model_name": "LayoutModel",
      "state": {}
     },
     "f4f1cf6574a847688067d57d3fec8d0c": {
      "model_module": "@jupyter-widgets/base",
      "model_module_version": "1.1.0",
      "model_name": "LayoutModel",
      "state": {}
     },
     "f4fb57f12c7e4ad688a358d1c502861f": {
      "model_module": "@jupyter-widgets/controls",
      "model_module_version": "1.4.0",
      "model_name": "HBoxModel",
      "state": {
       "children": [
        "IPY_MODEL_9403b267d27f4e09afd8ea2d4dfb6742"
       ],
       "layout": "IPY_MODEL_945647fac5ca43e58498f87b0f79f2b2"
      }
     },
     "f5254226741545309240d4fb9fadd0dd": {
      "model_module": "@jupyter-widgets/controls",
      "model_module_version": "1.4.0",
      "model_name": "DescriptionStyleModel",
      "state": {
       "description_width": ""
      }
     },
     "f6273e1a2f4740e888d14699ec7adfaf": {
      "model_module": "@jupyter-widgets/controls",
      "model_module_version": "1.4.0",
      "model_name": "ToggleButtonsStyleModel",
      "state": {
       "button_width": "",
       "description_width": ""
      }
     },
     "f68d14782c1b48aeae45ed63db01ea0e": {
      "model_module": "@jupyter-widgets/controls",
      "model_module_version": "1.4.0",
      "model_name": "VBoxModel",
      "state": {
       "children": [
        "IPY_MODEL_6257ad733dd547cb9b705f6681651ab5",
        "IPY_MODEL_6da2e1d76a2047c6b1e31882799f6449"
       ],
       "layout": "IPY_MODEL_dad999d994654bd4b2d52ad6a1f7516c"
      }
     },
     "f7b2bbbf931f414aae03d548109fd8ba": {
      "model_module": "@jupyter-widgets/base",
      "model_module_version": "1.1.0",
      "model_name": "LayoutModel",
      "state": {
       "width": "auto"
      }
     },
     "f80c72fff31a48eeb457697f03c43999": {
      "model_module": "@jupyter-widgets/base",
      "model_module_version": "1.1.0",
      "model_name": "LayoutModel",
      "state": {}
     },
     "f80db899aac145289612516d27086ac0": {
      "model_module": "@jupyter-widgets/controls",
      "model_module_version": "1.4.0",
      "model_name": "DescriptionStyleModel",
      "state": {
       "description_width": ""
      }
     },
     "f831fad3045e473790f3c014b00f4d4d": {
      "model_module": "@jupyter-widgets/controls",
      "model_module_version": "1.4.0",
      "model_name": "HTMLModel",
      "state": {
       "layout": "IPY_MODEL_869f6763614d4427b22d5360810643aa",
       "style": "IPY_MODEL_c370fb88b3214fe99680c520cf76a512",
       "value": "<h4>Reads Type  &nbsp</h5> "
      }
     },
     "f84af91c69c94ac2b593322f67c0629a": {
      "model_module": "@jupyter-widgets/base",
      "model_module_version": "1.1.0",
      "model_name": "LayoutModel",
      "state": {}
     },
     "f9961f50fa8846c8885f9feb31b8bab1": {
      "model_module": "@jupyter-widgets/controls",
      "model_module_version": "1.4.0",
      "model_name": "VBoxModel",
      "state": {
       "children": [
        "IPY_MODEL_2c8301bfde08438aa6a04007002cc907",
        "IPY_MODEL_f2a550b475d240c3a94f1ef9d11d8ed1",
        "IPY_MODEL_929cabdd32054b8bb3f1391f8527d900",
        "IPY_MODEL_6e11c78d45ea47008bebe89644310545",
        "IPY_MODEL_4a4ed9829de84ebcada0b4878f9093e0"
       ],
       "layout": "IPY_MODEL_66a0a134b493401794b2108917e23336"
      }
     },
     "fb11c7816460491f92edf3162409b9fb": {
      "model_module": "@jupyter-widgets/controls",
      "model_module_version": "1.4.0",
      "model_name": "ButtonModel",
      "state": {
       "button_style": "info",
       "icon": "refresh",
       "layout": "IPY_MODEL_163a970db38542f8962f825f3f71829e",
       "style": "IPY_MODEL_099517d08d1045be81cfc9b7ccd08a42"
      }
     },
     "fee6a474d3db43e5a18d9c7847e59bec": {
      "model_module": "@jupyter-widgets/controls",
      "model_module_version": "1.4.0",
      "model_name": "ButtonStyleModel",
      "state": {}
     },
     "ff187413ce134ed8aac9692f1b3157eb": {
      "model_module": "@jupyter-widgets/controls",
      "model_module_version": "1.4.0",
      "model_name": "ButtonStyleModel",
      "state": {}
     },
     "ff3c03ca6d6b4129892cd8c63c09a0dc": {
      "model_module": "@jupyter-widgets/controls",
      "model_module_version": "1.4.0",
      "model_name": "VBoxModel",
      "state": {
       "children": [
        "IPY_MODEL_b7fb84bd6f9f43918dea87b7cc7deda2",
        "IPY_MODEL_3f193279e3e64741ad179a1b76c8d9b0"
       ],
       "layout": "IPY_MODEL_1ef8144bf80b43f3aa9410143a2e8402"
      }
     },
     "ff983e8cea4b4d1eb6dc4cd26ef04147": {
      "model_module": "@jupyter-widgets/controls",
      "model_module_version": "1.4.0",
      "model_name": "DescriptionStyleModel",
      "state": {
       "description_width": ""
      }
     },
     "ffa0567bff9c4fef80e063009d84857b": {
      "model_module": "@jupyter-widgets/controls",
      "model_module_version": "1.4.0",
      "model_name": "ToggleButtonsModel",
      "state": {
       "_options_labels": [
        "Single",
        "Double"
       ],
       "button_style": "",
       "icons": [],
       "index": 0,
       "layout": "IPY_MODEL_61e6acbc644a4088a584b28dd8280986",
       "style": "IPY_MODEL_284f5654fc3e4bfd990a1bfc9579a0a5",
       "tooltips": []
      }
     },
     "ffcaa7797e694b59b14f619fd901c705": {
      "model_module": "@jupyter-widgets/controls",
      "model_module_version": "1.4.0",
      "model_name": "VBoxModel",
      "state": {
       "children": [
        "IPY_MODEL_192f3cae891644e086189ae49ca18b2b",
        "IPY_MODEL_ccc4b3ae861744d38e6a88aa03488b1d"
       ],
       "layout": "IPY_MODEL_a6a6e0c6746149da9cca0c98589e8a48"
      }
     },
     "ffd065e3883b4f7da15596c8ae5dade1": {
      "model_module": "@jupyter-widgets/controls",
      "model_module_version": "1.4.0",
      "model_name": "ButtonStyleModel",
      "state": {}
     }
    },
    "version_major": 2,
    "version_minor": 0
   }
  }
 },
 "nbformat": 4,
 "nbformat_minor": 2
}
